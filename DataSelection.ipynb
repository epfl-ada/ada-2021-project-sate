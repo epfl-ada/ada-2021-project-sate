{
 "cells": [
  {
   "cell_type": "markdown",
   "id": "1b81fadf",
   "metadata": {},
   "source": [
    "**Selection of the quotes of interest, relevant for the project (i.e quotes speaking about guns)  \n",
    "This file was runned several times, once for each original dataset (i.e once per year from 2015 to 2020).**"
   ]
  },
  {
   "cell_type": "markdown",
   "id": "0c5ea13c",
   "metadata": {},
   "source": [
    "# TO RUN : imports"
   ]
  },
  {
   "cell_type": "code",
   "execution_count": null,
   "id": "c8e76d2f",
   "metadata": {},
   "outputs": [],
   "source": [
    "import pandas as pd\n",
    "import numpy as np\n",
    "import matplotlib.pyplot as plt\n",
    "import json\n",
    "import bz2\n",
    "import urllib\n",
    "from datetime import datetime, date\n",
    "\n",
    "data_folder = 'data/'"
   ]
  },
  {
   "cell_type": "markdown",
   "id": "991cb90e",
   "metadata": {},
   "source": [
    "# SELECT DATA OF INTEREST \n",
    "The project focusing on the debate of the right to bear arms in the USA, the first task consists in selecting the data related to this topic. To do so, we use a lexical field (named ***lexical_field*** in the code)  related to the topic, and select only the quotations, which contain one or more words of this lexical field. <br> The determined word bank is the set of the following words: **'mass shooting','gun control','gun violence','2nd amendment','second amendment','gun owning','firearm'**. The way the words have been chosen is explained in the `read.me`.  <br> <br> \n",
    "The selected quotes are then stored in a new data file named `quotes-20__-extended.json.bz2` in form of a dataframe with new columns. The added columns contain information about the speakers (gender, nationality, occupations, age (computed from the date of birth), ethnic group, political party and religion). Such information are taken from the second dataset `speaker_attributes.parquet`, built from wikidata information. Quotations that are not related to any seaker are not kept. <br> <br> \n",
    "**Remark:** For the years 2018 and 2019, we encountered  problem : a QID (*Q99753484*) related to one of the speaker's occupation couldn't be find on the Wikidata. We thus decided to ignore it and didn't save it the fina dataFrame. This is why we added some lines in the code, related to this problem: no information is stored if the code encounter this QID."
   ]
  },
  {
   "cell_type": "code",
   "execution_count": null,
   "id": "231e0a57",
   "metadata": {},
   "outputs": [],
   "source": [
    "lexical_field = ['mass shooting','gun control','gun violence','2nd amendment','second amendment','gun owning','firearm']\n",
    "\n",
    "speakers = pd.read_parquet(data_folder + 'speaker_attributes.parquet')\n",
    "label = pd.read_csv(data_folder + 'wikidata_labels_descriptions_quotebank.csv.bz2', compression='bz2', index_col='QID')"
   ]
  },
  {
   "cell_type": "code",
   "execution_count": null,
   "id": "6d38ff6f",
   "metadata": {},
   "outputs": [],
   "source": [
    "path_to_file = data_folder + 'quotes-2018.json.bz2' \n",
    "path_to_out = data_folder + 'quotes-2018-extended.json.bz2'\n",
    "\n",
    "iter = 0\n",
    "nb_occ = 0\n",
    "\n",
    "with bz2.open(path_to_file, 'rb') as s_file:\n",
    "    with bz2.open(path_to_out, 'wb') as d_file:\n",
    "        for instance in s_file:\n",
    "            instance = json.loads(instance) # loading a sample\n",
    "            \n",
    "            #To count the number of citations\n",
    "            iter += 1\n",
    "            \n",
    "            #To count the total number of occurences\n",
    "            if instance['numOccurrences'] is not None:\n",
    "                nb_occ += instance['numOccurrences']\n",
    "\n",
    "            #To check the progress of the algorithm, because it takes multiple hours to run\n",
    "            if (iter % 100000 == 0):\n",
    "                print('nombre de citations lus: {}'.format(iter))\n",
    "\n",
    "            #We check if the quotation contains words from the lexical field\n",
    "            if any(substring.lower() in instance['quotation'].lower() for substring in lexical_field) and instance['qids'] != []: #We keep only quotation containing words of the lexical field and where there is a speaker\n",
    "                \n",
    "                #We load additional information about the speaker\n",
    "                speaker = speakers.loc[speakers['id'] == instance['qids'][0]].squeeze()\n",
    "\n",
    "                #We add nationality\n",
    "                if speaker.nationality is not None:\n",
    "                    instance['nationality'] = []\n",
    "                    for i in speaker['nationality']:\n",
    "                        nat = label.loc[i]['Label']\n",
    "                        instance['nationality'].append(nat)\n",
    "                else:\n",
    "                    instance['nationality'] = None\n",
    "                    \n",
    "                #We add the gender\n",
    "                if speaker.gender is not None:\n",
    "                    instance['gender'] = []\n",
    "                    for i in speaker['gender']:\n",
    "                        gend = label.loc[i]['Label']\n",
    "                        instance['gender'].append(gend)\n",
    "                else:\n",
    "                    instance['gender'] = None\n",
    "\n",
    "                #We add the occupations\n",
    "                if speaker.occupation is not None:\n",
    "                    instance['occupation'] = []\n",
    "                    for i in speaker['occupation']:\n",
    "                        if i != 'Q99753484':\n",
    "                            occ = label.loc[i]['Label']\n",
    "                            instance['occupation'].append(occ)\n",
    "                else:\n",
    "                    instance['occupation'] = None\n",
    "\n",
    "                #We add the age (computed from the date of birth)\n",
    "                #We use a try since the date is wrong (e.g. month = 0) at some places\n",
    "                try:\n",
    "                    born = datetime.strptime(speaker.date_of_birth[0][1:11], \"%Y-%m-%d\").date()\n",
    "                    today = date.today()\n",
    "                    age = today.year - born.year - ((today.month, today.day) < (born.month, born.day))\n",
    "                except:\n",
    "                    age = None\n",
    "                instance['age'] = age\n",
    "\n",
    "                #We add the ethnic group\n",
    "                if speaker.ethnic_group is not None:\n",
    "                    instance['ethnic_group'] = []\n",
    "                    for i in speaker['ethnic_group']:\n",
    "                        ethnic = label.loc[i]['Label']\n",
    "                        instance['ethnic_group'].append(ethnic)\n",
    "                else:\n",
    "                    instance['ethnic_group'] = None\n",
    "\n",
    "                #We add the party\n",
    "                if speaker.party is not None:\n",
    "                    instance['party'] = []\n",
    "                    for i in speaker['party']:\n",
    "                        part = label.loc[i]['Label']\n",
    "                        instance['party'].append(part)\n",
    "                else:\n",
    "                    instance['party'] = None\n",
    "\n",
    "                #We add the religion\n",
    "                if speaker.religion is not None:\n",
    "                    instance['religion'] = []\n",
    "                    for i in speaker['religion']:\n",
    "                        relig = label.loc[i]['Label']\n",
    "                        instance['religion'].append(relig)\n",
    "                else:\n",
    "                    instance['religion'] = None\n",
    "\n",
    "                d_file.write((json.dumps(instance)+'\\n').encode('utf-8')) # writing in the new file\n",
    "\n",
    "\n",
    "print('iter = {i}'.format(i = iter))\n",
    "print('nb_occ = {n}'.format(n = nb_occ))"
   ]
  },
  {
   "cell_type": "markdown",
   "id": "6848c3f1",
   "metadata": {},
   "source": [
    "**Useful statistics :**   \n",
    "Number of \"different\" quotes in the 2017 newpapers:  26 611 588.\n",
    "Some of these quotes being mentionned in several articles (number of occurence >1), the total number of quotes in 2017 is: 136 326 717."
   ]
  }
 ],
 "metadata": {
  "kernelspec": {
   "display_name": "Python 3 (ipykernel)",
   "language": "python",
   "name": "python3"
  },
  "language_info": {
   "codemirror_mode": {
    "name": "ipython",
    "version": 3
   },
   "file_extension": ".py",
   "mimetype": "text/x-python",
   "name": "python",
   "nbconvert_exporter": "python",
   "pygments_lexer": "ipython3",
   "version": "3.8.3"
  }
 },
 "nbformat": 4,
 "nbformat_minor": 5
}
