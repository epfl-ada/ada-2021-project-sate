{
 "cells": [
  {
   "cell_type": "markdown",
   "id": "d08567d1",
   "metadata": {},
   "source": [
    "**Creation of the timelines of events and gunrelated quotations in English-speaking newspaper**"
   ]
  },
  {
   "cell_type": "markdown",
   "id": "3857dfd7",
   "metadata": {},
   "source": [
    "# TIMELINE\n",
    "\n",
    "https://pretagteam.com/question/timeline-in-python\n",
    "https://vizzlo.com/create/pictograph\n",
    "https://insightwhale.com/how-to-visualize-frequency-distribution-best-methods/\n",
    "https://towardsdatascience.com/how-to-create-interactive-map-plots-with-plotly-7b57e889239a"
   ]
  },
  {
   "cell_type": "code",
   "execution_count": 51,
   "id": "870aa664",
   "metadata": {},
   "outputs": [],
   "source": [
    "import matplotlib.pyplot as plt\n",
    "from datetime import date\n",
    "import numpy as np\n",
    "import pandas as pd\n",
    "import seaborn as sns\n",
    "import math\n",
    "import json\n",
    "import bz2\n",
    "import urllib\n",
    "import networkx as nx\n",
    "import statsmodels.api as sm\n",
    "import statsmodels.formula.api as smf\n",
    "import nltk\n",
    "import ssl\n",
    "from scipy import stats\n",
    "\n",
    "%matplotlib inline\n",
    "sns.set(font_scale = 1.3, rc = {'figure.figsize':(26,10)})\n",
    "sns.set_palette('colorblind')\n",
    "data_folder = 'data/'"
   ]
  },
  {
   "cell_type": "code",
   "execution_count": 2,
   "id": "fe87698f",
   "metadata": {},
   "outputs": [],
   "source": [
    "# For the interactive plots\n",
    "import plotly.express as px\n",
    "import plotly.graph_objects as go\n",
    "\n",
    "# To save interactive plot to Theo's account\n",
    "import chart_studio\n",
    "import chart_studio.plotly as py\n",
    "chart_studio.tools.set_credentials_file(username='patron.theo', api_key='5KgUcU30ZBwrGySXXwTL')\n",
    "chart_studio.tools.set_config_file(world_readable=True, sharing='public')"
   ]
  },
  {
   "cell_type": "markdown",
   "id": "43d33ad5",
   "metadata": {},
   "source": [
    "## Load the data"
   ]
  },
  {
   "cell_type": "code",
   "execution_count": 3,
   "id": "0427f81f",
   "metadata": {},
   "outputs": [
    {
     "data": {
      "text/html": [
       "<div>\n",
       "<style scoped>\n",
       "    .dataframe tbody tr th:only-of-type {\n",
       "        vertical-align: middle;\n",
       "    }\n",
       "\n",
       "    .dataframe tbody tr th {\n",
       "        vertical-align: top;\n",
       "    }\n",
       "\n",
       "    .dataframe thead th {\n",
       "        text-align: right;\n",
       "    }\n",
       "</style>\n",
       "<table border=\"1\" class=\"dataframe\">\n",
       "  <thead>\n",
       "    <tr style=\"text-align: right;\">\n",
       "      <th></th>\n",
       "      <th>quoteID</th>\n",
       "      <th>quotation</th>\n",
       "      <th>speaker</th>\n",
       "      <th>qids</th>\n",
       "      <th>date</th>\n",
       "      <th>numOccurrences</th>\n",
       "      <th>probas</th>\n",
       "      <th>urls</th>\n",
       "      <th>phase</th>\n",
       "      <th>nationality</th>\n",
       "      <th>gender</th>\n",
       "      <th>occupation</th>\n",
       "      <th>age</th>\n",
       "      <th>ethnic_group</th>\n",
       "      <th>party</th>\n",
       "      <th>religion</th>\n",
       "      <th>american</th>\n",
       "    </tr>\n",
       "  </thead>\n",
       "  <tbody>\n",
       "    <tr>\n",
       "      <th>0</th>\n",
       "      <td>2015-07-23-051091</td>\n",
       "      <td>If you look at the number killed by gun violen...</td>\n",
       "      <td>President Obama</td>\n",
       "      <td>[Q76]</td>\n",
       "      <td>2015-07-23 10:46:00</td>\n",
       "      <td>1</td>\n",
       "      <td>[[President Obama, 0.523], [None, 0.477]]</td>\n",
       "      <td>[http://www.washingtonpost.com/blogs/post-poli...</td>\n",
       "      <td>E</td>\n",
       "      <td>[United States of America]</td>\n",
       "      <td>[male]</td>\n",
       "      <td>[politician, lawyer, political writer, communi...</td>\n",
       "      <td>60.0</td>\n",
       "      <td>[African Americans, Multiracial American, Luo ...</td>\n",
       "      <td>[Democratic Party]</td>\n",
       "      <td>[Protestantism, congregational church, Congreg...</td>\n",
       "      <td>True</td>\n",
       "    </tr>\n",
       "    <tr>\n",
       "      <th>1</th>\n",
       "      <td>2015-04-21-033678</td>\n",
       "      <td>It's $100 for the Firearm Identification Card ...</td>\n",
       "      <td>Jim Wallace</td>\n",
       "      <td>[Q16751191, Q333807, Q6145053, Q6198737, Q6198...</td>\n",
       "      <td>2015-04-21 10:05:54</td>\n",
       "      <td>1</td>\n",
       "      <td>[[Jim Wallace, 0.5226], [None, 0.4774]]</td>\n",
       "      <td>[http://bostonglobe.com/metro/2015/04/20/gun-l...</td>\n",
       "      <td>E</td>\n",
       "      <td>[United Kingdom]</td>\n",
       "      <td>[male]</td>\n",
       "      <td>[association football player, association foot...</td>\n",
       "      <td>67.0</td>\n",
       "      <td>None</td>\n",
       "      <td>None</td>\n",
       "      <td>None</td>\n",
       "      <td>False</td>\n",
       "    </tr>\n",
       "    <tr>\n",
       "      <th>2</th>\n",
       "      <td>2015-11-05-079031</td>\n",
       "      <td>Michele Fiore's 2016 Walk the Talk 2nd Amendme...</td>\n",
       "      <td>Michele Fiore</td>\n",
       "      <td>[Q16198552, Q38359549, Q38589687]</td>\n",
       "      <td>2015-11-05 15:47:22</td>\n",
       "      <td>5</td>\n",
       "      <td>[[Michele Fiore, 0.5068], [None, 0.4125], [Cli...</td>\n",
       "      <td>[http://rgj.com/story/news/2015/11/05/michele-...</td>\n",
       "      <td>E</td>\n",
       "      <td>[United States of America]</td>\n",
       "      <td>[female]</td>\n",
       "      <td>[politician]</td>\n",
       "      <td>51.0</td>\n",
       "      <td>None</td>\n",
       "      <td>[Republican Party]</td>\n",
       "      <td>None</td>\n",
       "      <td>True</td>\n",
       "    </tr>\n",
       "    <tr>\n",
       "      <th>3</th>\n",
       "      <td>2015-10-13-054087</td>\n",
       "      <td>It is a constitutionally-protected right, like...</td>\n",
       "      <td>Wendy Davis</td>\n",
       "      <td>[Q3539529, Q47358063, Q59160484, Q7982632]</td>\n",
       "      <td>2015-10-13 23:31:37</td>\n",
       "      <td>1</td>\n",
       "      <td>[[Wendy Davis, 0.7397], [None, 0.2302], [Ben C...</td>\n",
       "      <td>[http://feeds.huffingtonpost.com/c/35496/f/677...</td>\n",
       "      <td>E</td>\n",
       "      <td>[United States of America]</td>\n",
       "      <td>[female]</td>\n",
       "      <td>[actor, television actor, film actor]</td>\n",
       "      <td>55.0</td>\n",
       "      <td>None</td>\n",
       "      <td>None</td>\n",
       "      <td>None</td>\n",
       "      <td>True</td>\n",
       "    </tr>\n",
       "    <tr>\n",
       "      <th>4</th>\n",
       "      <td>2015-12-02-067905</td>\n",
       "      <td>It's still an active situation. FBI is on the ...</td>\n",
       "      <td>President Obama</td>\n",
       "      <td>[Q76]</td>\n",
       "      <td>2015-12-02 22:42:13</td>\n",
       "      <td>3</td>\n",
       "      <td>[[President Obama, 0.5268], [None, 0.4202], [N...</td>\n",
       "      <td>[https://www.whitehouse.gov/blog/2015/12/02/pr...</td>\n",
       "      <td>E</td>\n",
       "      <td>[United States of America]</td>\n",
       "      <td>[male]</td>\n",
       "      <td>[politician, lawyer, political writer, communi...</td>\n",
       "      <td>60.0</td>\n",
       "      <td>[African Americans, Multiracial American, Luo ...</td>\n",
       "      <td>[Democratic Party]</td>\n",
       "      <td>[Protestantism, congregational church, Congreg...</td>\n",
       "      <td>True</td>\n",
       "    </tr>\n",
       "    <tr>\n",
       "      <th>...</th>\n",
       "      <td>...</td>\n",
       "      <td>...</td>\n",
       "      <td>...</td>\n",
       "      <td>...</td>\n",
       "      <td>...</td>\n",
       "      <td>...</td>\n",
       "      <td>...</td>\n",
       "      <td>...</td>\n",
       "      <td>...</td>\n",
       "      <td>...</td>\n",
       "      <td>...</td>\n",
       "      <td>...</td>\n",
       "      <td>...</td>\n",
       "      <td>...</td>\n",
       "      <td>...</td>\n",
       "      <td>...</td>\n",
       "      <td>...</td>\n",
       "    </tr>\n",
       "    <tr>\n",
       "      <th>69958</th>\n",
       "      <td>2020-02-20-086887</td>\n",
       "      <td>We have to stop guns from being in our city, w...</td>\n",
       "      <td>Muriel Bowser</td>\n",
       "      <td>[Q6938597]</td>\n",
       "      <td>2020-02-20 01:31:37</td>\n",
       "      <td>1</td>\n",
       "      <td>[[Muriel Bowser, 0.9543], [None, 0.0457]]</td>\n",
       "      <td>[https://www.nbcwashington.com/news/local/susp...</td>\n",
       "      <td>E</td>\n",
       "      <td>[United States of America]</td>\n",
       "      <td>[female]</td>\n",
       "      <td>[politician]</td>\n",
       "      <td>49.0</td>\n",
       "      <td>[African Americans]</td>\n",
       "      <td>[Democratic Party]</td>\n",
       "      <td>None</td>\n",
       "      <td>True</td>\n",
       "    </tr>\n",
       "    <tr>\n",
       "      <th>69959</th>\n",
       "      <td>2020-04-11-028326</td>\n",
       "      <td>These same communities continue to be plagued ...</td>\n",
       "      <td>Lori Lightfoot</td>\n",
       "      <td>[Q56486914]</td>\n",
       "      <td>2020-04-11 13:15:27</td>\n",
       "      <td>3</td>\n",
       "      <td>[[Lori Lightfoot, 0.9327], [None, 0.0584], [Jo...</td>\n",
       "      <td>[http://abc11.com/african-americans-in-chicago...</td>\n",
       "      <td>E</td>\n",
       "      <td>[United States of America]</td>\n",
       "      <td>[female]</td>\n",
       "      <td>[politician, lawyer]</td>\n",
       "      <td>59.0</td>\n",
       "      <td>[African Americans]</td>\n",
       "      <td>[Democratic Party]</td>\n",
       "      <td>[Christianity]</td>\n",
       "      <td>True</td>\n",
       "    </tr>\n",
       "    <tr>\n",
       "      <th>69960</th>\n",
       "      <td>2020-01-13-007350</td>\n",
       "      <td>ATF's priority of removing the criminal elemen...</td>\n",
       "      <td>Marcus Watson</td>\n",
       "      <td>[Q21061663, Q30501613, Q6758525]</td>\n",
       "      <td>2020-01-13 20:47:15</td>\n",
       "      <td>1</td>\n",
       "      <td>[[Marcus Watson, 0.5876], [None, 0.4124]]</td>\n",
       "      <td>[https://www.al.com/news/birmingham/2020/01/fo...</td>\n",
       "      <td>E</td>\n",
       "      <td>[United Kingdom]</td>\n",
       "      <td>[male]</td>\n",
       "      <td>[rugby union player, rugby sevens player]</td>\n",
       "      <td>30.0</td>\n",
       "      <td>None</td>\n",
       "      <td>None</td>\n",
       "      <td>None</td>\n",
       "      <td>False</td>\n",
       "    </tr>\n",
       "    <tr>\n",
       "      <th>69961</th>\n",
       "      <td>2020-01-29-024062</td>\n",
       "      <td>Gun violence is robbing our young people of th...</td>\n",
       "      <td>Kenyatta Johnson</td>\n",
       "      <td>[Q6392916]</td>\n",
       "      <td>2020-01-29 00:05:06</td>\n",
       "      <td>1</td>\n",
       "      <td>[[Kenyatta Johnson, 0.8978], [None, 0.1022]]</td>\n",
       "      <td>[https://www.nbcphiladelphia.com/news/local/on...</td>\n",
       "      <td>E</td>\n",
       "      <td>[United States of America]</td>\n",
       "      <td>[male]</td>\n",
       "      <td>[politician]</td>\n",
       "      <td>NaN</td>\n",
       "      <td>[African Americans]</td>\n",
       "      <td>[Democratic Party]</td>\n",
       "      <td>None</td>\n",
       "      <td>True</td>\n",
       "    </tr>\n",
       "    <tr>\n",
       "      <th>69962</th>\n",
       "      <td>2020-02-29-025535</td>\n",
       "      <td>My real concern is that these so-called `sanct...</td>\n",
       "      <td>Gurbir Grewal</td>\n",
       "      <td>[Q46351033]</td>\n",
       "      <td>2020-02-29 18:08:02</td>\n",
       "      <td>1</td>\n",
       "      <td>[[Gurbir Grewal, 0.7851], [None, 0.114], [Phil...</td>\n",
       "      <td>[https://www.nj.com/news/2020/02/nj-ag-pro-gun...</td>\n",
       "      <td>E</td>\n",
       "      <td>[United States of America]</td>\n",
       "      <td>[male]</td>\n",
       "      <td>[attorney general]</td>\n",
       "      <td>48.0</td>\n",
       "      <td>[Sikh]</td>\n",
       "      <td>[Democratic Party]</td>\n",
       "      <td>[Sikhism]</td>\n",
       "      <td>True</td>\n",
       "    </tr>\n",
       "  </tbody>\n",
       "</table>\n",
       "<p>69963 rows × 17 columns</p>\n",
       "</div>"
      ],
      "text/plain": [
       "                 quoteID                                          quotation  \\\n",
       "0      2015-07-23-051091  If you look at the number killed by gun violen...   \n",
       "1      2015-04-21-033678  It's $100 for the Firearm Identification Card ...   \n",
       "2      2015-11-05-079031  Michele Fiore's 2016 Walk the Talk 2nd Amendme...   \n",
       "3      2015-10-13-054087  It is a constitutionally-protected right, like...   \n",
       "4      2015-12-02-067905  It's still an active situation. FBI is on the ...   \n",
       "...                  ...                                                ...   \n",
       "69958  2020-02-20-086887  We have to stop guns from being in our city, w...   \n",
       "69959  2020-04-11-028326  These same communities continue to be plagued ...   \n",
       "69960  2020-01-13-007350  ATF's priority of removing the criminal elemen...   \n",
       "69961  2020-01-29-024062  Gun violence is robbing our young people of th...   \n",
       "69962  2020-02-29-025535  My real concern is that these so-called `sanct...   \n",
       "\n",
       "                speaker                                               qids  \\\n",
       "0       President Obama                                              [Q76]   \n",
       "1           Jim Wallace  [Q16751191, Q333807, Q6145053, Q6198737, Q6198...   \n",
       "2         Michele Fiore                  [Q16198552, Q38359549, Q38589687]   \n",
       "3           Wendy Davis         [Q3539529, Q47358063, Q59160484, Q7982632]   \n",
       "4       President Obama                                              [Q76]   \n",
       "...                 ...                                                ...   \n",
       "69958     Muriel Bowser                                         [Q6938597]   \n",
       "69959    Lori Lightfoot                                        [Q56486914]   \n",
       "69960     Marcus Watson                   [Q21061663, Q30501613, Q6758525]   \n",
       "69961  Kenyatta Johnson                                         [Q6392916]   \n",
       "69962     Gurbir Grewal                                        [Q46351033]   \n",
       "\n",
       "                     date  numOccurrences  \\\n",
       "0     2015-07-23 10:46:00               1   \n",
       "1     2015-04-21 10:05:54               1   \n",
       "2     2015-11-05 15:47:22               5   \n",
       "3     2015-10-13 23:31:37               1   \n",
       "4     2015-12-02 22:42:13               3   \n",
       "...                   ...             ...   \n",
       "69958 2020-02-20 01:31:37               1   \n",
       "69959 2020-04-11 13:15:27               3   \n",
       "69960 2020-01-13 20:47:15               1   \n",
       "69961 2020-01-29 00:05:06               1   \n",
       "69962 2020-02-29 18:08:02               1   \n",
       "\n",
       "                                                  probas  \\\n",
       "0              [[President Obama, 0.523], [None, 0.477]]   \n",
       "1                [[Jim Wallace, 0.5226], [None, 0.4774]]   \n",
       "2      [[Michele Fiore, 0.5068], [None, 0.4125], [Cli...   \n",
       "3      [[Wendy Davis, 0.7397], [None, 0.2302], [Ben C...   \n",
       "4      [[President Obama, 0.5268], [None, 0.4202], [N...   \n",
       "...                                                  ...   \n",
       "69958          [[Muriel Bowser, 0.9543], [None, 0.0457]]   \n",
       "69959  [[Lori Lightfoot, 0.9327], [None, 0.0584], [Jo...   \n",
       "69960          [[Marcus Watson, 0.5876], [None, 0.4124]]   \n",
       "69961       [[Kenyatta Johnson, 0.8978], [None, 0.1022]]   \n",
       "69962  [[Gurbir Grewal, 0.7851], [None, 0.114], [Phil...   \n",
       "\n",
       "                                                    urls phase  \\\n",
       "0      [http://www.washingtonpost.com/blogs/post-poli...     E   \n",
       "1      [http://bostonglobe.com/metro/2015/04/20/gun-l...     E   \n",
       "2      [http://rgj.com/story/news/2015/11/05/michele-...     E   \n",
       "3      [http://feeds.huffingtonpost.com/c/35496/f/677...     E   \n",
       "4      [https://www.whitehouse.gov/blog/2015/12/02/pr...     E   \n",
       "...                                                  ...   ...   \n",
       "69958  [https://www.nbcwashington.com/news/local/susp...     E   \n",
       "69959  [http://abc11.com/african-americans-in-chicago...     E   \n",
       "69960  [https://www.al.com/news/birmingham/2020/01/fo...     E   \n",
       "69961  [https://www.nbcphiladelphia.com/news/local/on...     E   \n",
       "69962  [https://www.nj.com/news/2020/02/nj-ag-pro-gun...     E   \n",
       "\n",
       "                      nationality    gender  \\\n",
       "0      [United States of America]    [male]   \n",
       "1                [United Kingdom]    [male]   \n",
       "2      [United States of America]  [female]   \n",
       "3      [United States of America]  [female]   \n",
       "4      [United States of America]    [male]   \n",
       "...                           ...       ...   \n",
       "69958  [United States of America]  [female]   \n",
       "69959  [United States of America]  [female]   \n",
       "69960            [United Kingdom]    [male]   \n",
       "69961  [United States of America]    [male]   \n",
       "69962  [United States of America]    [male]   \n",
       "\n",
       "                                              occupation   age  \\\n",
       "0      [politician, lawyer, political writer, communi...  60.0   \n",
       "1      [association football player, association foot...  67.0   \n",
       "2                                           [politician]  51.0   \n",
       "3                  [actor, television actor, film actor]  55.0   \n",
       "4      [politician, lawyer, political writer, communi...  60.0   \n",
       "...                                                  ...   ...   \n",
       "69958                                       [politician]  49.0   \n",
       "69959                               [politician, lawyer]  59.0   \n",
       "69960          [rugby union player, rugby sevens player]  30.0   \n",
       "69961                                       [politician]   NaN   \n",
       "69962                                 [attorney general]  48.0   \n",
       "\n",
       "                                            ethnic_group               party  \\\n",
       "0      [African Americans, Multiracial American, Luo ...  [Democratic Party]   \n",
       "1                                                   None                None   \n",
       "2                                                   None  [Republican Party]   \n",
       "3                                                   None                None   \n",
       "4      [African Americans, Multiracial American, Luo ...  [Democratic Party]   \n",
       "...                                                  ...                 ...   \n",
       "69958                                [African Americans]  [Democratic Party]   \n",
       "69959                                [African Americans]  [Democratic Party]   \n",
       "69960                                               None                None   \n",
       "69961                                [African Americans]  [Democratic Party]   \n",
       "69962                                             [Sikh]  [Democratic Party]   \n",
       "\n",
       "                                                religion  american  \n",
       "0      [Protestantism, congregational church, Congreg...      True  \n",
       "1                                                   None     False  \n",
       "2                                                   None      True  \n",
       "3                                                   None      True  \n",
       "4      [Protestantism, congregational church, Congreg...      True  \n",
       "...                                                  ...       ...  \n",
       "69958                                               None      True  \n",
       "69959                                     [Christianity]      True  \n",
       "69960                                               None     False  \n",
       "69961                                               None      True  \n",
       "69962                                          [Sikhism]      True  \n",
       "\n",
       "[69963 rows x 17 columns]"
      ]
     },
     "execution_count": 3,
     "metadata": {},
     "output_type": "execute_result"
    }
   ],
   "source": [
    "df = pd.read_json('data/gundata.json.bz2', orient='columns', lines=False, compression='bz2')\n",
    "df"
   ]
  },
  {
   "cell_type": "markdown",
   "id": "79650b4c",
   "metadata": {},
   "source": [
    "## Gunquotes timeline for the whole time range January 2015 to April 2020"
   ]
  },
  {
   "cell_type": "code",
   "execution_count": 4,
   "id": "0f733c46",
   "metadata": {},
   "outputs": [],
   "source": [
    "# Useful function for the following plots\n",
    "\n",
    "def show_values(axs, orient=\"v\", space=.01):\n",
    "    def _single(ax):\n",
    "        if orient == \"v\":\n",
    "            for p in ax.patches:\n",
    "                _x = p.get_x() + p.get_width() / 2\n",
    "                _y = p.get_y() + p.get_height() + (p.get_height()*0.01)\n",
    "                value = '{:.0f}'.format(p.get_height())\n",
    "                ax.text(_x, _y, value, ha=\"center\") \n",
    "        elif orient == \"h\":\n",
    "            for p in ax.patches:\n",
    "                _x = p.get_x() + p.get_width() + float(space)\n",
    "                _y = p.get_y() + p.get_height() - (p.get_height()*0.5)\n",
    "                value = '{:.0f}'.format(p.get_width())\n",
    "                ax.text(_x, _y, value, ha=\"left\")\n",
    "\n",
    "    if isinstance(axs, np.ndarray):\n",
    "        for idx, ax in np.ndenumerate(axs):\n",
    "            _single(ax)\n",
    "    else:\n",
    "        _single(axs)"
   ]
  },
  {
   "cell_type": "code",
   "execution_count": 7,
   "id": "aacac18b",
   "metadata": {},
   "outputs": [
    {
     "name": "stdout",
     "output_type": "stream",
     "text": [
      "<PeriodArray>\n",
      "['2015-07', '2015-04', '2015-11', '2015-10', '2015-12', '2015-03', '2015-08',\n",
      " '2015-09', '2015-05', '2015-01', '2015-02', '2015-06', '2016-08', '2016-09',\n",
      " '2016-02', '2016-07', '2016-12', '2016-05', '2016-03', '2016-04', '2016-06',\n",
      " '2016-11', '2016-01', '2016-10', '2017-03', '2017-10', '2017-08', '2017-12',\n",
      " '2017-06', '2017-11', '2017-05', '2017-02', '2017-04', '2017-09', '2017-07',\n",
      " '2017-01', '2018-02', '2018-04', '2018-08', '2018-10', '2018-03', '2018-06',\n",
      " '2018-11', '2018-09', '2018-07', '2018-01', '2018-12', '2018-05', '2019-03',\n",
      " '2019-07', '2019-08', '2019-09', '2019-02', '2019-05', '2019-12', '2019-04',\n",
      " '2019-10', '2019-06', '2019-11', '2019-01', '2020-01', '2020-02', '2020-03',\n",
      " '2020-04']\n",
      "Length: 64, dtype: period[M]\n",
      "There are 64 different months in our dataset, there is at least 1 quotes per month (from January 2015 to April 2020).\n"
     ]
    }
   ],
   "source": [
    "# Check that there are quotations in every months\n",
    "\n",
    "df['dateWithoutTime'] = df['date'].dt.normalize()\n",
    "print(df['date'].dt.to_period('M').unique())\n",
    "if (len(df['date'].dt.to_period('M').unique())==64):\n",
    "    print('There are 64 different months in our dataset, there is at least 1 quotes per month (from January 2015 to April 2020).')"
   ]
  },
  {
   "cell_type": "code",
   "execution_count": 15,
   "id": "b5a462a8",
   "metadata": {},
   "outputs": [
    {
     "data": {
      "image/png": "[encoded data removed]",
      "text/plain": [
       "<Figure size 1872x720 with 1 Axes>"
      ]
     },
     "metadata": {},
     "output_type": "display_data"
    }
   ],
   "source": [
    "## Plot of the number of quotes related to guns in function of the month\n",
    "\n",
    "df['dateWithoutTime'] = df['date'].dt.normalize()\n",
    "\n",
    "ax = sns.barplot(x=np.linspace(1,64,64), y=df.groupby(df['date'].dt.to_period('M')).numOccurrences.sum(), palette='colorblind')#, data=gunquotes)\n",
    "ax.set_xlabel('Months')\n",
    "ax.set_ylabel('Number of quotes')\n",
    "ax.set_title('Timeline of the gun-related quotes in the period January 2015-April 2020')\n",
    "labels = ['January 15', 'February 15', 'March 15', 'April 15', 'May 15', 'June 15', 'July 15', 'August 15', 'September 15', 'October 15', 'November 15', 'December 15', 'January 16', 'February 16', 'March 16', 'April 16', 'May 16', 'June 16', 'July 16', 'August 16', 'September 16', 'October 16', 'November 16', 'December 16', 'January 17', 'February 17', 'March 17', 'April 17', 'May 17', 'June 17', 'July 17', 'August 17', 'September 17', 'October 17', 'November 17', 'December 17', 'January 18', 'February 18', 'March 18', 'April 18', 'May 18', 'June 18', 'July 18', 'August 18', 'September 18', 'October 18', 'November 18', 'December 18', 'January 19', 'February 19', 'March 19', 'April 19', 'May 19', 'June 19', 'July 19', 'August 19', 'September 19', 'October 19', 'November 19', 'December 19', 'January 20', 'February 20', 'March 20', 'April 20']\n",
    "ax.set_xticklabels(labels)\n",
    "plt.xticks(rotation=60)\n",
    "# show_values(ax)\n",
    "plt.show()"
   ]
  },
  {
   "cell_type": "markdown",
   "id": "7ef07169",
   "metadata": {},
   "source": [
    "This timeline of the gun related quotes reveals some high peaks in the frequency of quotes. One can guess that these peaks are related to some events like mass shooting or political evaluations or debates on the 2nd Amendment.... Our study will more precisely focus on the mass shooting events as after some researchs, we observed that many of the peaks were related to the deadliest mass shootings. On the following graph that is visible on the website, the frequency timeline of the gunquotes is plotted along with some of the deadliest mass shootings in the USA, in the period from January 2015 to April 2020. As there are a very huge amount of mass shootings in the USA, (see the link below, pretty depressing), we selected only the mass shootings that implied more than 10 deads. These events can also be visualized in this Jupoyter Notebook in the graph just below.  \n",
    "For the following of the study we will focus on two big events.  \n",
    "Source : https://en.wikipedia.org/wiki/List_of_mass_shootings_in_the_United_States"
   ]
  },
  {
   "cell_type": "code",
   "execution_count": 95,
   "id": "426bc610",
   "metadata": {},
   "outputs": [
    {
     "data": {
      "image/png": "[encoded data removed]",
      "text/plain": [
       "<Figure size 1080x288 with 1 Axes>"
      ]
     },
     "metadata": {},
     "output_type": "display_data"
    }
   ],
   "source": [
    "dates = [date(2015,10,1), date(2015,12,2), date(2016,6,12), date(2017,1,10), date(2017,5,11), date(2018,2,14), date(2018,5,18), date(2018,10,27), date(2018,11,7), date(2019,5,31), date(2019,8,3), date(2019,8,4)]\n",
    "# date(2017, 6, 14), date(2017, 6, 22),\n",
    "min_date = date(2015, 1, 15)\n",
    "max_date = date(2020, 4, 15)\n",
    "\n",
    "labels_events = ['Umpqua Community College shooting', 'San Bernardino attack', 'Orlando nightclub shooting', 'Las Vegas shooting', 'Sutherland Springs church shooting', 'Stoneman Douglas High School shooting', 'Santa Fe High School shooting', 'Pittsburgh synagogue shooting', 'Thousand Oaks shooting', 'Virginia Beach shooting', 'El Paso shooting', 'Dayton shooting']\n",
    "# 'Congressional baseball shooting', 'Pizzagate murderer\\'s sentence'\n",
    "labels_events = ['{0:%d %b %Y}:\\n{1}'.format(d, l) for l, d in zip (labels_events, dates)]\n",
    "\n",
    "\n",
    "fig, ax = plt.subplots(figsize=(15, 4), constrained_layout=True)\n",
    "_ = ax.set_ylim(-2, 1.75)\n",
    "_ = ax.set_xlim(min_date, max_date)\n",
    "_ = ax.arrow(0, 0, 20, 15, color='black', zorder=1, linewidth=4)\n",
    " \n",
    "_ = ax.scatter(dates, np.zeros(len(dates)), s=120, c='green', zorder=2)\n",
    "_ = ax.scatter(dates, np.zeros(len(dates)), s=20, c='darkgreen', zorder=3)\n",
    "\n",
    "\n",
    "label_offsets = np.zeros(len(dates))\n",
    "label_offsets[::4] = 0.7\n",
    "label_offsets[2::4] = 1.3\n",
    "label_offsets[1::4] = -1.0\n",
    "label_offsets[3::4] = -1.4\n",
    "for i, (l, d) in enumerate(zip(labels_events, dates)):\n",
    "    _ = ax.text(d, label_offsets[i], l, ha='center', fontfamily='serif', fontweight='bold', color='darkblue',fontsize=12)\n",
    "    \n",
    "stems = np.zeros(len(dates))\n",
    "stems[::4] = 0.6\n",
    "stems[2::4] = 1.2\n",
    "stems[1::4] = -0.6\n",
    "stems[3::4] = -1.1   \n",
    "markerline, stemline, baseline = ax.stem(dates, stems, use_line_collection=True)\n",
    "_ = plt.setp(markerline, marker=',', color='black')\n",
    "_ = plt.setp(stemline, color='black')\n",
    "\n",
    "# hide lines around chart\n",
    "for spine in [\"left\", \"top\", \"right\", \"bottom\"]:\n",
    "    _ = ax.spines[spine].set_visible(False)\n",
    "\n",
    "# hide tick labels\n",
    "_ = ax.set_xticks([])\n",
    "_ = ax.set_yticks([])\n",
    " \n",
    "_ = ax.set_title('Most deadly mass shooting in the USA for the period January 2015-April 2020', fontweight=\"bold\", fontfamily='serif', fontsize=16, \n",
    "                 color='darkblue')"
   ]
  },
  {
   "cell_type": "code",
   "execution_count": 61,
   "id": "ebe8f912",
   "metadata": {
    "scrolled": false
   },
   "outputs": [
    {
     "data": {
      "application/vnd.plotly.v1+json": {
       "config": {
        "plotlyServerURL": "https://plotly.com"
       },
       "data": [
        {
         "marker": {
          "color": [
           "blue",
           "blue",
           "blue",
           "blue",
           "blue",
           "blue",
           "blue",
           "blue",
           "blue",
           "red",
           "blue",
           "rgb(255, 127, 14)",
           "blue",
           "blue",
           "blue",
           "blue",
           "blue",
           "rgb(44, 160, 44)",
           "blue",
           "blue",
           "blue",
           "blue",
           "blue",
           "blue",
           "blue",
           "blue",
           "blue",
           "blue",
           "blue",
           "blue",
           "blue",
           "blue",
           "blue",
           "rgb(214, 39, 40)",
           "rgb(148, 103, 189)",
           "blue",
           "blue",
           "rgb(140, 86, 75)",
           "blue",
           "blue",
           "rgb(227, 119, 194)",
           "blue",
           "blue",
           "blue",
           "blue",
           "rgb(127, 127, 127)",
           "rgb(188, 189, 34)",
           "blue",
           "blue",
           "blue",
           "blue",
           "blue",
           "rgb(23, 190, 207)",
           "blue",
           "blue",
           "#8a2be2",
           "blue",
           "blue",
           "blue",
           "blue",
           "blue",
           "blue",
           "blue",
           "blue"
          ]
         },
         "name": "Timeline",
         "type": "bar",
         "x": [
          1,
          2,
          3,
          4,
          5,
          6,
          7,
          8,
          9,
          10,
          11,
          12,
          13,
          14,
          15,
          16,
          17,
          18,
          19,
          20,
          21,
          22,
          23,
          24,
          25,
          26,
          27,
          28,
          29,
          30,
          31,
          32,
          33,
          34,
          35,
          36,
          37,
          38,
          39,
          40,
          41,
          42,
          43,
          44,
          45,
          46,
          47,
          48,
          49,
          50,
          51,
          52,
          53,
          54,
          55,
          56,
          57,
          58,
          59,
          60,
          61,
          62,
          63,
          64
         ],
         "y": [
          1454,
          1217,
          6184,
          1794,
          1097,
          1666,
          2210,
          4579,
          2246,
          9276,
          2494,
          12880,
          544,
          3324,
          27,
          1721,
          9949,
          321,
          6748,
          13468,
          3756,
          20,
          564,
          2292,
          173,
          1094,
          4195,
          4891,
          1834,
          8653,
          3164,
          2482,
          2184,
          16983,
          9709,
          6538,
          3666,
          32078,
          34528,
          8736,
          12002,
          4435,
          5707,
          4833,
          3052,
          3570,
          5337,
          2129,
          2726,
          4410,
          4395,
          3298,
          2848,
          3773,
          2597,
          15330,
          5987,
          3617,
          3832,
          3737,
          3138,
          3723,
          2203,
          299
         ]
        },
        {
         "marker": {
          "color": "blue"
         },
         "mode": "lines",
         "type": "scatter",
         "x": [
          1,
          64
         ],
         "y": [
          36000,
          36000
         ]
        },
        {
         "marker": {
          "color": [
           "red",
           "rgb(255, 127, 14)",
           "rgb(44, 160, 44)",
           "rgb(214, 39, 40)",
           "rgb(148, 103, 189)",
           "rgb(140, 86, 75)",
           "rgb(227, 119, 194)",
           "rgb(127, 127, 127)",
           "rgb(188, 189, 34)",
           "rgb(23, 190, 207)",
           "#8a2be2",
           "#8a2be2"
          ],
          "size": 10
         },
         "mode": "markers",
         "name": "Events",
         "text": [
          "01 Oct 2015:\nUmpqua Community College shooting",
          "02 Dec 2015:\nSan Bernardino attack",
          "12 Jun 2016:\nOrlando nightclub shooting",
          "01 Oct 2017:\nLas Vegas shooting",
          "05 Nov 2017:\nSutherland Springs church shooting",
          "14 Feb 2018:\nStoneman Douglas High School shooting",
          "18 May 2018:\nSanta Fe High School shooting",
          "27 Oct 2018:\nPittsburgh synagogue shooting",
          "07 Nov 2018:\nThousand Oaks shooting",
          "31 May 2019:\nVirginia Beach shooting",
          "03 Aug 2019:\nEl Paso shooting",
          "04 Aug 2019:\nDayton shooting"
         ],
         "textposition": "top center",
         "type": "scatter",
         "x": [
          10,
          12,
          18,
          34,
          35,
          38,
          41,
          46,
          47,
          53,
          56,
          56.5
         ],
         "y": [
          36000,
          36000,
          36000,
          36000,
          36000,
          36000,
          36000,
          36000,
          36000,
          36000,
          36000,
          36000
         ]
        }
       ],
       "layout": {
        "showlegend": false,
        "template": {
         "data": {
          "bar": [
           {
            "error_x": {
             "color": "#2a3f5f"
            },
            "error_y": {
             "color": "#2a3f5f"
            },
            "marker": {
             "line": {
              "color": "#E5ECF6",
              "width": 0.5
             },
             "pattern": {
              "fillmode": "overlay",
              "size": 10,
              "solidity": 0.2
             }
            },
            "type": "bar"
           }
          ],
          "barpolar": [
           {
            "marker": {
             "line": {
              "color": "#E5ECF6",
              "width": 0.5
             },
             "pattern": {
              "fillmode": "overlay",
              "size": 10,
              "solidity": 0.2
             }
            },
            "type": "barpolar"
           }
          ],
          "carpet": [
           {
            "aaxis": {
             "endlinecolor": "#2a3f5f",
             "gridcolor": "white",
             "linecolor": "white",
             "minorgridcolor": "white",
             "startlinecolor": "#2a3f5f"
            },
            "baxis": {
             "endlinecolor": "#2a3f5f",
             "gridcolor": "white",
             "linecolor": "white",
             "minorgridcolor": "white",
             "startlinecolor": "#2a3f5f"
            },
            "type": "carpet"
           }
          ],
          "choropleth": [
           {
            "colorbar": {
             "outlinewidth": 0,
             "ticks": ""
            },
            "type": "choropleth"
           }
          ],
          "contour": [
           {
            "colorbar": {
             "outlinewidth": 0,
             "ticks": ""
            },
            "colorscale": [
             [
              0,
              "#0d0887"
             ],
             [
              0.1111111111111111,
              "#46039f"
             ],
             [
              0.2222222222222222,
              "#7201a8"
             ],
             [
              0.3333333333333333,
              "#9c179e"
             ],
             [
              0.4444444444444444,
              "#bd3786"
             ],
             [
              0.5555555555555556,
              "#d8576b"
             ],
             [
              0.6666666666666666,
              "#ed7953"
             ],
             [
              0.7777777777777778,
              "#fb9f3a"
             ],
             [
              0.8888888888888888,
              "#fdca26"
             ],
             [
              1,
              "#f0f921"
             ]
            ],
            "type": "contour"
           }
          ],
          "contourcarpet": [
           {
            "colorbar": {
             "outlinewidth": 0,
             "ticks": ""
            },
            "type": "contourcarpet"
           }
          ],
          "heatmap": [
           {
            "colorbar": {
             "outlinewidth": 0,
             "ticks": ""
            },
            "colorscale": [
             [
              0,
              "#0d0887"
             ],
             [
              0.1111111111111111,
              "#46039f"
             ],
             [
              0.2222222222222222,
              "#7201a8"
             ],
             [
              0.3333333333333333,
              "#9c179e"
             ],
             [
              0.4444444444444444,
              "#bd3786"
             ],
             [
              0.5555555555555556,
              "#d8576b"
             ],
             [
              0.6666666666666666,
              "#ed7953"
             ],
             [
              0.7777777777777778,
              "#fb9f3a"
             ],
             [
              0.8888888888888888,
              "#fdca26"
             ],
             [
              1,
              "#f0f921"
             ]
            ],
            "type": "heatmap"
           }
          ],
          "heatmapgl": [
           {
            "colorbar": {
             "outlinewidth": 0,
             "ticks": ""
            },
            "colorscale": [
             [
              0,
              "#0d0887"
             ],
             [
              0.1111111111111111,
              "#46039f"
             ],
             [
              0.2222222222222222,
              "#7201a8"
             ],
             [
              0.3333333333333333,
              "#9c179e"
             ],
             [
              0.4444444444444444,
              "#bd3786"
             ],
             [
              0.5555555555555556,
              "#d8576b"
             ],
             [
              0.6666666666666666,
              "#ed7953"
             ],
             [
              0.7777777777777778,
              "#fb9f3a"
             ],
             [
              0.8888888888888888,
              "#fdca26"
             ],
             [
              1,
              "#f0f921"
             ]
            ],
            "type": "heatmapgl"
           }
          ],
          "histogram": [
           {
            "marker": {
             "pattern": {
              "fillmode": "overlay",
              "size": 10,
              "solidity": 0.2
             }
            },
            "type": "histogram"
           }
          ],
          "histogram2d": [
           {
            "colorbar": {
             "outlinewidth": 0,
             "ticks": ""
            },
            "colorscale": [
             [
              0,
              "#0d0887"
             ],
             [
              0.1111111111111111,
              "#46039f"
             ],
             [
              0.2222222222222222,
              "#7201a8"
             ],
             [
              0.3333333333333333,
              "#9c179e"
             ],
             [
              0.4444444444444444,
              "#bd3786"
             ],
             [
              0.5555555555555556,
              "#d8576b"
             ],
             [
              0.6666666666666666,
              "#ed7953"
             ],
             [
              0.7777777777777778,
              "#fb9f3a"
             ],
             [
              0.8888888888888888,
              "#fdca26"
             ],
             [
              1,
              "#f0f921"
             ]
            ],
            "type": "histogram2d"
           }
          ],
          "histogram2dcontour": [
           {
            "colorbar": {
             "outlinewidth": 0,
             "ticks": ""
            },
            "colorscale": [
             [
              0,
              "#0d0887"
             ],
             [
              0.1111111111111111,
              "#46039f"
             ],
             [
              0.2222222222222222,
              "#7201a8"
             ],
             [
              0.3333333333333333,
              "#9c179e"
             ],
             [
              0.4444444444444444,
              "#bd3786"
             ],
             [
              0.5555555555555556,
              "#d8576b"
             ],
             [
              0.6666666666666666,
              "#ed7953"
             ],
             [
              0.7777777777777778,
              "#fb9f3a"
             ],
             [
              0.8888888888888888,
              "#fdca26"
             ],
             [
              1,
              "#f0f921"
             ]
            ],
            "type": "histogram2dcontour"
           }
          ],
          "mesh3d": [
           {
            "colorbar": {
             "outlinewidth": 0,
             "ticks": ""
            },
            "type": "mesh3d"
           }
          ],
          "parcoords": [
           {
            "line": {
             "colorbar": {
              "outlinewidth": 0,
              "ticks": ""
             }
            },
            "type": "parcoords"
           }
          ],
          "pie": [
           {
            "automargin": true,
            "type": "pie"
           }
          ],
          "scatter": [
           {
            "marker": {
             "colorbar": {
              "outlinewidth": 0,
              "ticks": ""
             }
            },
            "type": "scatter"
           }
          ],
          "scatter3d": [
           {
            "line": {
             "colorbar": {
              "outlinewidth": 0,
              "ticks": ""
             }
            },
            "marker": {
             "colorbar": {
              "outlinewidth": 0,
              "ticks": ""
             }
            },
            "type": "scatter3d"
           }
          ],
          "scattercarpet": [
           {
            "marker": {
             "colorbar": {
              "outlinewidth": 0,
              "ticks": ""
             }
            },
            "type": "scattercarpet"
           }
          ],
          "scattergeo": [
           {
            "marker": {
             "colorbar": {
              "outlinewidth": 0,
              "ticks": ""
             }
            },
            "type": "scattergeo"
           }
          ],
          "scattergl": [
           {
            "marker": {
             "colorbar": {
              "outlinewidth": 0,
              "ticks": ""
             }
            },
            "type": "scattergl"
           }
          ],
          "scattermapbox": [
           {
            "marker": {
             "colorbar": {
              "outlinewidth": 0,
              "ticks": ""
             }
            },
            "type": "scattermapbox"
           }
          ],
          "scatterpolar": [
           {
            "marker": {
             "colorbar": {
              "outlinewidth": 0,
              "ticks": ""
             }
            },
            "type": "scatterpolar"
           }
          ],
          "scatterpolargl": [
           {
            "marker": {
             "colorbar": {
              "outlinewidth": 0,
              "ticks": ""
             }
            },
            "type": "scatterpolargl"
           }
          ],
          "scatterternary": [
           {
            "marker": {
             "colorbar": {
              "outlinewidth": 0,
              "ticks": ""
             }
            },
            "type": "scatterternary"
           }
          ],
          "surface": [
           {
            "colorbar": {
             "outlinewidth": 0,
             "ticks": ""
            },
            "colorscale": [
             [
              0,
              "#0d0887"
             ],
             [
              0.1111111111111111,
              "#46039f"
             ],
             [
              0.2222222222222222,
              "#7201a8"
             ],
             [
              0.3333333333333333,
              "#9c179e"
             ],
             [
              0.4444444444444444,
              "#bd3786"
             ],
             [
              0.5555555555555556,
              "#d8576b"
             ],
             [
              0.6666666666666666,
              "#ed7953"
             ],
             [
              0.7777777777777778,
              "#fb9f3a"
             ],
             [
              0.8888888888888888,
              "#fdca26"
             ],
             [
              1,
              "#f0f921"
             ]
            ],
            "type": "surface"
           }
          ],
          "table": [
           {
            "cells": {
             "fill": {
              "color": "#EBF0F8"
             },
             "line": {
              "color": "white"
             }
            },
            "header": {
             "fill": {
              "color": "#C8D4E3"
             },
             "line": {
              "color": "white"
             }
            },
            "type": "table"
           }
          ]
         },
         "layout": {
          "annotationdefaults": {
           "arrowcolor": "#2a3f5f",
           "arrowhead": 0,
           "arrowwidth": 1
          },
          "autotypenumbers": "strict",
          "coloraxis": {
           "colorbar": {
            "outlinewidth": 0,
            "ticks": ""
           }
          },
          "colorscale": {
           "diverging": [
            [
             0,
             "#8e0152"
            ],
            [
             0.1,
             "#c51b7d"
            ],
            [
             0.2,
             "#de77ae"
            ],
            [
             0.3,
             "#f1b6da"
            ],
            [
             0.4,
             "#fde0ef"
            ],
            [
             0.5,
             "#f7f7f7"
            ],
            [
             0.6,
             "#e6f5d0"
            ],
            [
             0.7,
             "#b8e186"
            ],
            [
             0.8,
             "#7fbc41"
            ],
            [
             0.9,
             "#4d9221"
            ],
            [
             1,
             "#276419"
            ]
           ],
           "sequential": [
            [
             0,
             "#0d0887"
            ],
            [
             0.1111111111111111,
             "#46039f"
            ],
            [
             0.2222222222222222,
             "#7201a8"
            ],
            [
             0.3333333333333333,
             "#9c179e"
            ],
            [
             0.4444444444444444,
             "#bd3786"
            ],
            [
             0.5555555555555556,
             "#d8576b"
            ],
            [
             0.6666666666666666,
             "#ed7953"
            ],
            [
             0.7777777777777778,
             "#fb9f3a"
            ],
            [
             0.8888888888888888,
             "#fdca26"
            ],
            [
             1,
             "#f0f921"
            ]
           ],
           "sequentialminus": [
            [
             0,
             "#0d0887"
            ],
            [
             0.1111111111111111,
             "#46039f"
            ],
            [
             0.2222222222222222,
             "#7201a8"
            ],
            [
             0.3333333333333333,
             "#9c179e"
            ],
            [
             0.4444444444444444,
             "#bd3786"
            ],
            [
             0.5555555555555556,
             "#d8576b"
            ],
            [
             0.6666666666666666,
             "#ed7953"
            ],
            [
             0.7777777777777778,
             "#fb9f3a"
            ],
            [
             0.8888888888888888,
             "#fdca26"
            ],
            [
             1,
             "#f0f921"
            ]
           ]
          },
          "colorway": [
           "#636efa",
           "#EF553B",
           "#00cc96",
           "#ab63fa",
           "#FFA15A",
           "#19d3f3",
           "#FF6692",
           "#B6E880",
           "#FF97FF",
           "#FECB52"
          ],
          "font": {
           "color": "#2a3f5f"
          },
          "geo": {
           "bgcolor": "white",
           "lakecolor": "white",
           "landcolor": "#E5ECF6",
           "showlakes": true,
           "showland": true,
           "subunitcolor": "white"
          },
          "hoverlabel": {
           "align": "left"
          },
          "hovermode": "closest",
          "mapbox": {
           "style": "light"
          },
          "paper_bgcolor": "white",
          "plot_bgcolor": "#E5ECF6",
          "polar": {
           "angularaxis": {
            "gridcolor": "white",
            "linecolor": "white",
            "ticks": ""
           },
           "bgcolor": "#E5ECF6",
           "radialaxis": {
            "gridcolor": "white",
            "linecolor": "white",
            "ticks": ""
           }
          },
          "scene": {
           "xaxis": {
            "backgroundcolor": "#E5ECF6",
            "gridcolor": "white",
            "gridwidth": 2,
            "linecolor": "white",
            "showbackground": true,
            "ticks": "",
            "zerolinecolor": "white"
           },
           "yaxis": {
            "backgroundcolor": "#E5ECF6",
            "gridcolor": "white",
            "gridwidth": 2,
            "linecolor": "white",
            "showbackground": true,
            "ticks": "",
            "zerolinecolor": "white"
           },
           "zaxis": {
            "backgroundcolor": "#E5ECF6",
            "gridcolor": "white",
            "gridwidth": 2,
            "linecolor": "white",
            "showbackground": true,
            "ticks": "",
            "zerolinecolor": "white"
           }
          },
          "shapedefaults": {
           "line": {
            "color": "#2a3f5f"
           }
          },
          "ternary": {
           "aaxis": {
            "gridcolor": "white",
            "linecolor": "white",
            "ticks": ""
           },
           "baxis": {
            "gridcolor": "white",
            "linecolor": "white",
            "ticks": ""
           },
           "bgcolor": "#E5ECF6",
           "caxis": {
            "gridcolor": "white",
            "linecolor": "white",
            "ticks": ""
           }
          },
          "title": {
           "x": 0.05
          },
          "xaxis": {
           "automargin": true,
           "gridcolor": "white",
           "linecolor": "white",
           "ticks": "",
           "title": {
            "standoff": 15
           },
           "zerolinecolor": "white",
           "zerolinewidth": 2
          },
          "yaxis": {
           "automargin": true,
           "gridcolor": "white",
           "linecolor": "white",
           "ticks": "",
           "title": {
            "standoff": 15
           },
           "zerolinecolor": "white",
           "zerolinewidth": 2
          }
         }
        },
        "title": {
         "text": "Timeline of the gun-related quotes in the period January 2015-April 2020",
         "x": 0.5,
         "xanchor": "center"
        },
        "uniformtext": {
         "mode": "hide"
        },
        "xaxis": {
         "fixedrange": false,
         "tickangle": 45,
         "tickmode": "array",
         "ticktext": [
          "January 15",
          "February 15",
          "March 15",
          "April 15",
          "May 15",
          "June 15",
          "July 15",
          "August 15",
          "September 15",
          "October 15",
          "November 15",
          "December 15",
          "January 16",
          "February 16",
          "March 16",
          "April 16",
          "May 16",
          "June 16",
          "July 16",
          "August 16",
          "September 16",
          "October 16",
          "November 16",
          "December 16",
          "January 17",
          "February 17",
          "March 17",
          "April 17",
          "May 17",
          "June 17",
          "July 17",
          "August 17",
          "September 17",
          "October 17",
          "November 17",
          "December 17",
          "January 18",
          "February 18",
          "March 18",
          "April 18",
          "May 18",
          "June 18",
          "July 18",
          "August 18",
          "September 18",
          "October 18",
          "November 18",
          "December 18",
          "January 19",
          "February 19",
          "March 19",
          "April 19",
          "May 19",
          "June 19",
          "July 19",
          "August 19",
          "September 19",
          "October 19",
          "November 19",
          "December 19",
          "January 20",
          "February 20",
          "March 20",
          "April 20"
         ],
         "tickvals": [
          1,
          2,
          3,
          4,
          5,
          6,
          7,
          8,
          9,
          10,
          11,
          12,
          13,
          14,
          15,
          16,
          17,
          18,
          19,
          20,
          21,
          22,
          23,
          24,
          25,
          26,
          27,
          28,
          29,
          30,
          31,
          32,
          33,
          34,
          35,
          36,
          37,
          38,
          39,
          40,
          41,
          42,
          43,
          44,
          45,
          46,
          47,
          48,
          49,
          50,
          51,
          52,
          53,
          54,
          55,
          56,
          57,
          58,
          59,
          60,
          61,
          62,
          63,
          64
         ],
         "title": {
          "text": "Time"
         }
        },
        "yaxis": {
         "title": {
          "text": "Number of quotations"
         }
        }
       }
      },
      "text/html": [
       "<div>                            <div id=\"56a58ef3-983a-42e2-ae80-2d483c18ab9b\" class=\"plotly-graph-div\" style=\"height:525px; width:100%;\"></div>            <script type=\"text/javascript\">                require([\"plotly\"], function(Plotly) {                    window.PLOTLYENV=window.PLOTLYENV || {};                                    if (document.getElementById(\"56a58ef3-983a-42e2-ae80-2d483c18ab9b\")) {                    Plotly.newPlot(                        \"56a58ef3-983a-42e2-ae80-2d483c18ab9b\",                        [{\"marker\":{\"color\":[\"blue\",\"blue\",\"blue\",\"blue\",\"blue\",\"blue\",\"blue\",\"blue\",\"blue\",\"red\",\"blue\",\"rgb(255, 127, 14)\",\"blue\",\"blue\",\"blue\",\"blue\",\"blue\",\"rgb(44, 160, 44)\",\"blue\",\"blue\",\"blue\",\"blue\",\"blue\",\"blue\",\"blue\",\"blue\",\"blue\",\"blue\",\"blue\",\"blue\",\"blue\",\"blue\",\"blue\",\"rgb(214, 39, 40)\",\"rgb(148, 103, 189)\",\"blue\",\"blue\",\"rgb(140, 86, 75)\",\"blue\",\"blue\",\"rgb(227, 119, 194)\",\"blue\",\"blue\",\"blue\",\"blue\",\"rgb(127, 127, 127)\",\"rgb(188, 189, 34)\",\"blue\",\"blue\",\"blue\",\"blue\",\"blue\",\"rgb(23, 190, 207)\",\"blue\",\"blue\",\"#8a2be2\",\"blue\",\"blue\",\"blue\",\"blue\",\"blue\",\"blue\",\"blue\",\"blue\"]},\"name\":\"Timeline\",\"x\":[1.0,2.0,3.0,4.0,5.0,6.0,7.0,8.0,9.0,10.0,11.0,12.0,13.0,14.0,15.0,16.0,17.0,18.0,19.0,20.0,21.0,22.0,23.0,24.0,25.0,26.0,27.0,28.0,29.0,30.0,31.0,32.0,33.0,34.0,35.0,36.0,37.0,38.0,39.0,40.0,41.0,42.0,43.0,44.0,45.0,46.0,47.0,48.0,49.0,50.0,51.0,52.0,53.0,54.0,55.0,56.0,57.0,58.0,59.0,60.0,61.0,62.0,63.0,64.0],\"y\":[1454,1217,6184,1794,1097,1666,2210,4579,2246,9276,2494,12880,544,3324,27,1721,9949,321,6748,13468,3756,20,564,2292,173,1094,4195,4891,1834,8653,3164,2482,2184,16983,9709,6538,3666,32078,34528,8736,12002,4435,5707,4833,3052,3570,5337,2129,2726,4410,4395,3298,2848,3773,2597,15330,5987,3617,3832,3737,3138,3723,2203,299],\"type\":\"bar\"},{\"marker\":{\"color\":\"blue\"},\"mode\":\"lines\",\"x\":[1,64],\"y\":[36000,36000],\"type\":\"scatter\"},{\"marker\":{\"color\":[\"red\",\"rgb(255, 127, 14)\",\"rgb(44, 160, 44)\",\"rgb(214, 39, 40)\",\"rgb(148, 103, 189)\",\"rgb(140, 86, 75)\",\"rgb(227, 119, 194)\",\"rgb(127, 127, 127)\",\"rgb(188, 189, 34)\",\"rgb(23, 190, 207)\",\"#8a2be2\",\"#8a2be2\"],\"size\":10},\"mode\":\"markers\",\"name\":\"Events\",\"text\":[\"01 Oct 2015:\\nUmpqua Community College shooting\",\"02 Dec 2015:\\nSan Bernardino attack\",\"12 Jun 2016:\\nOrlando nightclub shooting\",\"01 Oct 2017:\\nLas Vegas shooting\",\"05 Nov 2017:\\nSutherland Springs church shooting\",\"14 Feb 2018:\\nStoneman Douglas High School shooting\",\"18 May 2018:\\nSanta Fe High School shooting\",\"27 Oct 2018:\\nPittsburgh synagogue shooting\",\"07 Nov 2018:\\nThousand Oaks shooting\",\"31 May 2019:\\nVirginia Beach shooting\",\"03 Aug 2019:\\nEl Paso shooting\",\"04 Aug 2019:\\nDayton shooting\"],\"textposition\":\"top center\",\"x\":[10,12,18,34,35,38,41,46,47,53,56,56.5],\"y\":[36000,36000,36000,36000,36000,36000,36000,36000,36000,36000,36000,36000],\"type\":\"scatter\"}],                        {\"template\":{\"data\":{\"bar\":[{\"error_x\":{\"color\":\"#2a3f5f\"},\"error_y\":{\"color\":\"#2a3f5f\"},\"marker\":{\"line\":{\"color\":\"#E5ECF6\",\"width\":0.5},\"pattern\":{\"fillmode\":\"overlay\",\"size\":10,\"solidity\":0.2}},\"type\":\"bar\"}],\"barpolar\":[{\"marker\":{\"line\":{\"color\":\"#E5ECF6\",\"width\":0.5},\"pattern\":{\"fillmode\":\"overlay\",\"size\":10,\"solidity\":0.2}},\"type\":\"barpolar\"}],\"carpet\":[{\"aaxis\":{\"endlinecolor\":\"#2a3f5f\",\"gridcolor\":\"white\",\"linecolor\":\"white\",\"minorgridcolor\":\"white\",\"startlinecolor\":\"#2a3f5f\"},\"baxis\":{\"endlinecolor\":\"#2a3f5f\",\"gridcolor\":\"white\",\"linecolor\":\"white\",\"minorgridcolor\":\"white\",\"startlinecolor\":\"#2a3f5f\"},\"type\":\"carpet\"}],\"choropleth\":[{\"colorbar\":{\"outlinewidth\":0,\"ticks\":\"\"},\"type\":\"choropleth\"}],\"contour\":[{\"colorbar\":{\"outlinewidth\":0,\"ticks\":\"\"},\"colorscale\":[[0.0,\"#0d0887\"],[0.1111111111111111,\"#46039f\"],[0.2222222222222222,\"#7201a8\"],[0.3333333333333333,\"#9c179e\"],[0.4444444444444444,\"#bd3786\"],[0.5555555555555556,\"#d8576b\"],[0.6666666666666666,\"#ed7953\"],[0.7777777777777778,\"#fb9f3a\"],[0.8888888888888888,\"#fdca26\"],[1.0,\"#f0f921\"]],\"type\":\"contour\"}],\"contourcarpet\":[{\"colorbar\":{\"outlinewidth\":0,\"ticks\":\"\"},\"type\":\"contourcarpet\"}],\"heatmap\":[{\"colorbar\":{\"outlinewidth\":0,\"ticks\":\"\"},\"colorscale\":[[0.0,\"#0d0887\"],[0.1111111111111111,\"#46039f\"],[0.2222222222222222,\"#7201a8\"],[0.3333333333333333,\"#9c179e\"],[0.4444444444444444,\"#bd3786\"],[0.5555555555555556,\"#d8576b\"],[0.6666666666666666,\"#ed7953\"],[0.7777777777777778,\"#fb9f3a\"],[0.8888888888888888,\"#fdca26\"],[1.0,\"#f0f921\"]],\"type\":\"heatmap\"}],\"heatmapgl\":[{\"colorbar\":{\"outlinewidth\":0,\"ticks\":\"\"},\"colorscale\":[[0.0,\"#0d0887\"],[0.1111111111111111,\"#46039f\"],[0.2222222222222222,\"#7201a8\"],[0.3333333333333333,\"#9c179e\"],[0.4444444444444444,\"#bd3786\"],[0.5555555555555556,\"#d8576b\"],[0.6666666666666666,\"#ed7953\"],[0.7777777777777778,\"#fb9f3a\"],[0.8888888888888888,\"#fdca26\"],[1.0,\"#f0f921\"]],\"type\":\"heatmapgl\"}],\"histogram\":[{\"marker\":{\"pattern\":{\"fillmode\":\"overlay\",\"size\":10,\"solidity\":0.2}},\"type\":\"histogram\"}],\"histogram2d\":[{\"colorbar\":{\"outlinewidth\":0,\"ticks\":\"\"},\"colorscale\":[[0.0,\"#0d0887\"],[0.1111111111111111,\"#46039f\"],[0.2222222222222222,\"#7201a8\"],[0.3333333333333333,\"#9c179e\"],[0.4444444444444444,\"#bd3786\"],[0.5555555555555556,\"#d8576b\"],[0.6666666666666666,\"#ed7953\"],[0.7777777777777778,\"#fb9f3a\"],[0.8888888888888888,\"#fdca26\"],[1.0,\"#f0f921\"]],\"type\":\"histogram2d\"}],\"histogram2dcontour\":[{\"colorbar\":{\"outlinewidth\":0,\"ticks\":\"\"},\"colorscale\":[[0.0,\"#0d0887\"],[0.1111111111111111,\"#46039f\"],[0.2222222222222222,\"#7201a8\"],[0.3333333333333333,\"#9c179e\"],[0.4444444444444444,\"#bd3786\"],[0.5555555555555556,\"#d8576b\"],[0.6666666666666666,\"#ed7953\"],[0.7777777777777778,\"#fb9f3a\"],[0.8888888888888888,\"#fdca26\"],[1.0,\"#f0f921\"]],\"type\":\"histogram2dcontour\"}],\"mesh3d\":[{\"colorbar\":{\"outlinewidth\":0,\"ticks\":\"\"},\"type\":\"mesh3d\"}],\"parcoords\":[{\"line\":{\"colorbar\":{\"outlinewidth\":0,\"ticks\":\"\"}},\"type\":\"parcoords\"}],\"pie\":[{\"automargin\":true,\"type\":\"pie\"}],\"scatter\":[{\"marker\":{\"colorbar\":{\"outlinewidth\":0,\"ticks\":\"\"}},\"type\":\"scatter\"}],\"scatter3d\":[{\"line\":{\"colorbar\":{\"outlinewidth\":0,\"ticks\":\"\"}},\"marker\":{\"colorbar\":{\"outlinewidth\":0,\"ticks\":\"\"}},\"type\":\"scatter3d\"}],\"scattercarpet\":[{\"marker\":{\"colorbar\":{\"outlinewidth\":0,\"ticks\":\"\"}},\"type\":\"scattercarpet\"}],\"scattergeo\":[{\"marker\":{\"colorbar\":{\"outlinewidth\":0,\"ticks\":\"\"}},\"type\":\"scattergeo\"}],\"scattergl\":[{\"marker\":{\"colorbar\":{\"outlinewidth\":0,\"ticks\":\"\"}},\"type\":\"scattergl\"}],\"scattermapbox\":[{\"marker\":{\"colorbar\":{\"outlinewidth\":0,\"ticks\":\"\"}},\"type\":\"scattermapbox\"}],\"scatterpolar\":[{\"marker\":{\"colorbar\":{\"outlinewidth\":0,\"ticks\":\"\"}},\"type\":\"scatterpolar\"}],\"scatterpolargl\":[{\"marker\":{\"colorbar\":{\"outlinewidth\":0,\"ticks\":\"\"}},\"type\":\"scatterpolargl\"}],\"scatterternary\":[{\"marker\":{\"colorbar\":{\"outlinewidth\":0,\"ticks\":\"\"}},\"type\":\"scatterternary\"}],\"surface\":[{\"colorbar\":{\"outlinewidth\":0,\"ticks\":\"\"},\"colorscale\":[[0.0,\"#0d0887\"],[0.1111111111111111,\"#46039f\"],[0.2222222222222222,\"#7201a8\"],[0.3333333333333333,\"#9c179e\"],[0.4444444444444444,\"#bd3786\"],[0.5555555555555556,\"#d8576b\"],[0.6666666666666666,\"#ed7953\"],[0.7777777777777778,\"#fb9f3a\"],[0.8888888888888888,\"#fdca26\"],[1.0,\"#f0f921\"]],\"type\":\"surface\"}],\"table\":[{\"cells\":{\"fill\":{\"color\":\"#EBF0F8\"},\"line\":{\"color\":\"white\"}},\"header\":{\"fill\":{\"color\":\"#C8D4E3\"},\"line\":{\"color\":\"white\"}},\"type\":\"table\"}]},\"layout\":{\"annotationdefaults\":{\"arrowcolor\":\"#2a3f5f\",\"arrowhead\":0,\"arrowwidth\":1},\"autotypenumbers\":\"strict\",\"coloraxis\":{\"colorbar\":{\"outlinewidth\":0,\"ticks\":\"\"}},\"colorscale\":{\"diverging\":[[0,\"#8e0152\"],[0.1,\"#c51b7d\"],[0.2,\"#de77ae\"],[0.3,\"#f1b6da\"],[0.4,\"#fde0ef\"],[0.5,\"#f7f7f7\"],[0.6,\"#e6f5d0\"],[0.7,\"#b8e186\"],[0.8,\"#7fbc41\"],[0.9,\"#4d9221\"],[1,\"#276419\"]],\"sequential\":[[0.0,\"#0d0887\"],[0.1111111111111111,\"#46039f\"],[0.2222222222222222,\"#7201a8\"],[0.3333333333333333,\"#9c179e\"],[0.4444444444444444,\"#bd3786\"],[0.5555555555555556,\"#d8576b\"],[0.6666666666666666,\"#ed7953\"],[0.7777777777777778,\"#fb9f3a\"],[0.8888888888888888,\"#fdca26\"],[1.0,\"#f0f921\"]],\"sequentialminus\":[[0.0,\"#0d0887\"],[0.1111111111111111,\"#46039f\"],[0.2222222222222222,\"#7201a8\"],[0.3333333333333333,\"#9c179e\"],[0.4444444444444444,\"#bd3786\"],[0.5555555555555556,\"#d8576b\"],[0.6666666666666666,\"#ed7953\"],[0.7777777777777778,\"#fb9f3a\"],[0.8888888888888888,\"#fdca26\"],[1.0,\"#f0f921\"]]},\"colorway\":[\"#636efa\",\"#EF553B\",\"#00cc96\",\"#ab63fa\",\"#FFA15A\",\"#19d3f3\",\"#FF6692\",\"#B6E880\",\"#FF97FF\",\"#FECB52\"],\"font\":{\"color\":\"#2a3f5f\"},\"geo\":{\"bgcolor\":\"white\",\"lakecolor\":\"white\",\"landcolor\":\"#E5ECF6\",\"showlakes\":true,\"showland\":true,\"subunitcolor\":\"white\"},\"hoverlabel\":{\"align\":\"left\"},\"hovermode\":\"closest\",\"mapbox\":{\"style\":\"light\"},\"paper_bgcolor\":\"white\",\"plot_bgcolor\":\"#E5ECF6\",\"polar\":{\"angularaxis\":{\"gridcolor\":\"white\",\"linecolor\":\"white\",\"ticks\":\"\"},\"bgcolor\":\"#E5ECF6\",\"radialaxis\":{\"gridcolor\":\"white\",\"linecolor\":\"white\",\"ticks\":\"\"}},\"scene\":{\"xaxis\":{\"backgroundcolor\":\"#E5ECF6\",\"gridcolor\":\"white\",\"gridwidth\":2,\"linecolor\":\"white\",\"showbackground\":true,\"ticks\":\"\",\"zerolinecolor\":\"white\"},\"yaxis\":{\"backgroundcolor\":\"#E5ECF6\",\"gridcolor\":\"white\",\"gridwidth\":2,\"linecolor\":\"white\",\"showbackground\":true,\"ticks\":\"\",\"zerolinecolor\":\"white\"},\"zaxis\":{\"backgroundcolor\":\"#E5ECF6\",\"gridcolor\":\"white\",\"gridwidth\":2,\"linecolor\":\"white\",\"showbackground\":true,\"ticks\":\"\",\"zerolinecolor\":\"white\"}},\"shapedefaults\":{\"line\":{\"color\":\"#2a3f5f\"}},\"ternary\":{\"aaxis\":{\"gridcolor\":\"white\",\"linecolor\":\"white\",\"ticks\":\"\"},\"baxis\":{\"gridcolor\":\"white\",\"linecolor\":\"white\",\"ticks\":\"\"},\"bgcolor\":\"#E5ECF6\",\"caxis\":{\"gridcolor\":\"white\",\"linecolor\":\"white\",\"ticks\":\"\"}},\"title\":{\"x\":0.05},\"xaxis\":{\"automargin\":true,\"gridcolor\":\"white\",\"linecolor\":\"white\",\"ticks\":\"\",\"title\":{\"standoff\":15},\"zerolinecolor\":\"white\",\"zerolinewidth\":2},\"yaxis\":{\"automargin\":true,\"gridcolor\":\"white\",\"linecolor\":\"white\",\"ticks\":\"\",\"title\":{\"standoff\":15},\"zerolinecolor\":\"white\",\"zerolinewidth\":2}}},\"uniformtext\":{\"mode\":\"hide\"},\"xaxis\":{\"tickmode\":\"array\",\"tickvals\":[1.0,2.0,3.0,4.0,5.0,6.0,7.0,8.0,9.0,10.0,11.0,12.0,13.0,14.0,15.0,16.0,17.0,18.0,19.0,20.0,21.0,22.0,23.0,24.0,25.0,26.0,27.0,28.0,29.0,30.0,31.0,32.0,33.0,34.0,35.0,36.0,37.0,38.0,39.0,40.0,41.0,42.0,43.0,44.0,45.0,46.0,47.0,48.0,49.0,50.0,51.0,52.0,53.0,54.0,55.0,56.0,57.0,58.0,59.0,60.0,61.0,62.0,63.0,64.0],\"ticktext\":[\"January 15\",\"February 15\",\"March 15\",\"April 15\",\"May 15\",\"June 15\",\"July 15\",\"August 15\",\"September 15\",\"October 15\",\"November 15\",\"December 15\",\"January 16\",\"February 16\",\"March 16\",\"April 16\",\"May 16\",\"June 16\",\"July 16\",\"August 16\",\"September 16\",\"October 16\",\"November 16\",\"December 16\",\"January 17\",\"February 17\",\"March 17\",\"April 17\",\"May 17\",\"June 17\",\"July 17\",\"August 17\",\"September 17\",\"October 17\",\"November 17\",\"December 17\",\"January 18\",\"February 18\",\"March 18\",\"April 18\",\"May 18\",\"June 18\",\"July 18\",\"August 18\",\"September 18\",\"October 18\",\"November 18\",\"December 18\",\"January 19\",\"February 19\",\"March 19\",\"April 19\",\"May 19\",\"June 19\",\"July 19\",\"August 19\",\"September 19\",\"October 19\",\"November 19\",\"December 19\",\"January 20\",\"February 20\",\"March 20\",\"April 20\"],\"title\":{\"text\":\"Time\"},\"fixedrange\":false,\"tickangle\":45},\"title\":{\"text\":\"Timeline of the gun-related quotes in the period January 2015-April 2020\",\"x\":0.5,\"xanchor\":\"center\"},\"showlegend\":false,\"yaxis\":{\"title\":{\"text\":\"Number of quotations\"}}},                        {\"responsive\": true}                    ).then(function(){\n",
       "                            \n",
       "var gd = document.getElementById('56a58ef3-983a-42e2-ae80-2d483c18ab9b');\n",
       "var x = new MutationObserver(function (mutations, observer) {{\n",
       "        var display = window.getComputedStyle(gd).display;\n",
       "        if (!display || display === 'none') {{\n",
       "            console.log([gd, 'removed!']);\n",
       "            Plotly.purge(gd);\n",
       "            observer.disconnect();\n",
       "        }}\n",
       "}});\n",
       "\n",
       "// Listen for the removal of the full notebook cells\n",
       "var notebookContainer = gd.closest('#notebook-container');\n",
       "if (notebookContainer) {{\n",
       "    x.observe(notebookContainer, {childList: true});\n",
       "}}\n",
       "\n",
       "// Listen for the clearing of the current output cell\n",
       "var outputEl = gd.closest('.output');\n",
       "if (outputEl) {{\n",
       "    x.observe(outputEl, {childList: true});\n",
       "}}\n",
       "\n",
       "                        })                };                });            </script>        </div>"
      ]
     },
     "metadata": {},
     "output_type": "display_data"
    }
   ],
   "source": [
    "# Interractive figure for the website\n",
    "\n",
    "fig = go.Figure()\n",
    "\n",
    "colors = ['blue',] * 64  # 'rgb(31, 119, 180)'\n",
    "colors[9] = 'red'\n",
    "colors[11] = 'rgb(255, 127, 14)'\n",
    "colors[17] = 'rgb(44, 160, 44)'\n",
    "colors[33] = 'rgb(214, 39, 40)'\n",
    "colors[34] = 'rgb(148, 103, 189)'\n",
    "colors[37] = 'rgb(140, 86, 75)'\n",
    "colors[40] = 'rgb(227, 119, 194)'\n",
    "colors[45] = 'rgb(127, 127, 127)'\n",
    "colors[46] = 'rgb(188, 189, 34)'\n",
    "colors[52] = 'rgb(23, 190, 207)'\n",
    "colors[55] = '#8a2be2'  #'#800080'     #'crimson'\n",
    "colors2 = [colors[9], colors[11], colors[17], colors[33], colors[34], colors[37], colors[40], colors[45], colors[46], colors[52], colors[55], colors[55]]\n",
    "labels = ['January 15', 'February 15', 'March 15', 'April 15', 'May 15', 'June 15', 'July 15', 'August 15', 'September 15', 'October 15', 'November 15', 'December 15', 'January 16', 'February 16', 'March 16', 'April 16', 'May 16', 'June 16', 'July 16', 'August 16', 'September 16', 'October 16', 'November 16', 'December 16', 'January 17', 'February 17', 'March 17', 'April 17', 'May 17', 'June 17', 'July 17', 'August 17', 'September 17', 'October 17', 'November 17', 'December 17', 'January 18', 'February 18', 'March 18', 'April 18', 'May 18', 'June 18', 'July 18', 'August 18', 'September 18', 'October 18', 'November 18', 'December 18', 'January 19', 'February 19', 'March 19', 'April 19', 'May 19', 'June 19', 'July 19', 'August 19', 'September 19', 'October 19', 'November 19', 'December 19', 'January 20', 'February 20', 'March 20', 'April 20']\n",
    "# labels = ['January 15', '', 'March 15', '', 'May 15', '', 'July 15', '', 'September 15', '', 'November 15', '', 'January 16', '', 'March 16', '', 'May 16', '', 'July 16', '', 'September 16', '', 'November 16', '', 'January 17', '', 'March 17', '', 'May 17', '', 'July 17', '', 'September 17', '', 'November 17', '', 'January 18', '', 'March 18', '', 'May 18', '', 'July 18', '', 'September 18', '', 'November 18', '', 'January 19', '', 'March 19', '', 'May 19', '', 'July 19', '', 'September 19', '', 'November 19', '', 'January 20', '', 'March 20', '']\n",
    "\n",
    "\n",
    "fig.add_trace(go.Bar(x=np.linspace(1,64,64), y=df.groupby(df['date'].dt.to_period('M')).numOccurrences.sum(),\n",
    "                     marker_color=colors, name='Timeline'))\n",
    "\n",
    "fig.update_layout(\n",
    "    uniformtext=dict(mode='hide'),\n",
    "    xaxis = dict(\n",
    "        tickmode = 'array',\n",
    "        tickvals = np.linspace(1,64,64),\n",
    "        ticktext = labels\n",
    "    ),\n",
    "    title={'text':'Timeline of the gun-related quotes in the period January 2015-April 2020', 'x':0.5, 'xanchor':'center'},\n",
    "   showlegend=False, \n",
    "    )\n",
    "\n",
    "fig.update_xaxes(title_text='Time', fixedrange=False, tickangle=45)\n",
    "fig.update_yaxes(title_text='Number of quotations')\n",
    "\n",
    "dates = [date(2015,10,1), date(2015,12,2), date(2016,6,12), date(2017,10,1), date(2017,11,5), date(2018,2,14), date(2018,5,18), date(2018,10,27), date(2018,11,7), date(2019,5,31), date(2019,8,3), date(2019,8,4)]\n",
    "labels_events = ['Umpqua Community College shooting', 'San Bernardino attack', 'Orlando nightclub shooting', 'Las Vegas shooting', 'Sutherland Springs church shooting', 'Stoneman Douglas High School shooting', 'Santa Fe High School shooting', 'Pittsburgh synagogue shooting', 'Thousand Oaks shooting', 'Virginia Beach shooting', 'El Paso shooting', 'Dayton shooting']\n",
    "labels_events = ['{0:%d %b %Y}:\\n{1}'.format(d, l) for l, d in zip (labels_events, dates)]\n",
    "\n",
    "fig.add_trace(go.Scatter(\n",
    "    x=[1, 64],\n",
    "    y=[36000, 36000],\n",
    "    mode=\"lines\",\n",
    "    marker_color=colors[0]\n",
    "))\n",
    "\n",
    "fig.add_trace(go.Scatter(\n",
    "    x=[10, 12, 18, 34, 35, 38, 41, 46, 47, 53, 56, 56.5],\n",
    "    y=[36000, 36000, 36000, 36000, 36000, 36000, 36000, 36000, 36000, 36000, 36000, 36000],\n",
    "    mode=\"markers\",\n",
    "    marker_color=colors2,\n",
    "    marker_size=10,\n",
    "    text=labels_events,\n",
    "    name=\"Events\",\n",
    "    textposition=\"top center\"\n",
    "))\n",
    "\n",
    "fig.show()\n",
    "# fig.write_html(\"timelineyouhouuuu.html\")\n",
    "\n",
    "# Save the plot on Theo's account\n",
    "# py.plot(fig, filename = 'timeline-style', auto_open=True)"
   ]
  },
  {
   "cell_type": "markdown",
   "id": "d2bd9ee0",
   "metadata": {},
   "source": [
    "# Zoom on some periods and events  \n",
    "# 2017 and the Las Vegas Shooting  \n",
    "  \n",
    "In the following we zoom on the period related to the Las Vegas mass shooting that occured on the 1st of October 2017. This zoom is justified by the fact that the above timeline presents a important peak fro the month of October 2017."
   ]
  },
  {
   "cell_type": "code",
   "execution_count": 18,
   "id": "c8ddde0e",
   "metadata": {
    "scrolled": false
   },
   "outputs": [
    {
     "data": {
      "image/png": "[encoded data removed]",
      "text/plain": [
       "<Figure size 1872x720 with 1 Axes>"
      ]
     },
     "metadata": {},
     "output_type": "display_data"
    }
   ],
   "source": [
    "## Plot of the number of quotes related to guns in the year 2017\n",
    "\n",
    "g2017 = df[(df['date'].dt.year == 2017)]\n",
    "\n",
    "ax = sns.barplot(x=np.linspace(1,12,12), y=g2017.groupby(g2017['dateWithoutTime'].dt.month).numOccurrences.sum(), palette='colorblind')#, data=gunquotes)\n",
    "ax.set_xlabel('Months')\n",
    "ax.set_ylabel('Number of quotes')\n",
    "ax.set_title('Timeline of the gun-related quotations during the year 2017')\n",
    "labels = ['January', 'February', 'March', 'April', 'May', 'June', 'July', 'August', 'September', 'October', 'November', 'December']\n",
    "ax.set_xticklabels(labels)\n",
    "plt.xticks(rotation=60, fontsize=\"medium\")\n",
    "show_values(ax)\n",
    "plt.show()"
   ]
  },
  {
   "cell_type": "markdown",
   "id": "65b3ff2d",
   "metadata": {},
   "source": [
    "The number of quotes for each month plotted on the graph show that there was indeed way more quotes related to gun in October 2017. The graph below zooms on the month of October only, and reveals taht these quotes are mostly distributed on the 2nd to 6th of October. This, along wil the print of some of these quotes allow us to confirm that the important amount of quotes in October 2017 is indeed related to the Lass Vegas shooting of the 1st of October."
   ]
  },
  {
   "cell_type": "code",
   "execution_count": 32,
   "id": "2840c149",
   "metadata": {},
   "outputs": [
    {
     "data": {
      "image/png": "[encoded data removed]",
      "text/plain": [
       "<Figure size 1872x720 with 1 Axes>"
      ]
     },
     "metadata": {},
     "output_type": "display_data"
    }
   ],
   "source": [
    "# Zoom on October and the Las Vegas shooting : plot of the number of gunquotes in October 2017\n",
    "\n",
    "oct_ = g2017[(g2017['date'].dt.month==10)]\n",
    "\n",
    "ax = sns.barplot(x=np.linspace(1,31,31, dtype='int'), y=oct_.groupby(oct_['dateWithoutTime'].dt.day).numOccurrences.sum(), palette='colorblind')#, data=gunquotes)\n",
    "ax.set_xlabel('Months')\n",
    "ax.set_ylabel('Number of quotes')\n",
    "ax.set_title('Timeline of the gun-related quotations in October 2017')\n",
    "show_values(ax)\n",
    "plt.show()"
   ]
  },
  {
   "cell_type": "code",
   "execution_count": 24,
   "id": "f8dea5f4",
   "metadata": {},
   "outputs": [
    {
     "name": "stdout",
     "output_type": "stream",
     "text": [
      "Some of the quotes of the 2nd of October 2017:\n",
      "18285    Republican Members of Congress have a bad habi...\n",
      "18369    find the courage it will take to make progress...\n",
      "18422    create a Select Committee on Gun Violence to s...\n",
      "18497    Although many details of this mass shooting re...\n",
      "18506    Like other recent acts of domestic terrorism, ...\n",
      "Name: quotation, dtype: object\n"
     ]
    }
   ],
   "source": [
    "print('Some of the quotes of the 2nd of October 2017:')\n",
    "print(oct_[(oct_['date'].dt.day==2)].quotation.head(5))"
   ]
  },
  {
   "cell_type": "code",
   "execution_count": 109,
   "id": "3d8de429",
   "metadata": {},
   "outputs": [
    {
     "data": {
      "application/vnd.plotly.v1+json": {
       "config": {
        "plotlyServerURL": "https://plotly.com"
       },
       "data": [
        {
         "marker": {
          "color": [
           "rgb(214, 39, 40)",
           "rgb(200, 39, 40)",
           "rgb(180, 39, 40)",
           "rgb(160, 39, 40)",
           "rgb(140, 39, 40)",
           "rgb(130, 39, 40)",
           "blue",
           "blue",
           "blue",
           "blue",
           "blue",
           "blue",
           "blue",
           "blue",
           "blue",
           "blue",
           "blue",
           "blue",
           "blue",
           "blue",
           "blue",
           "blue",
           "blue",
           "blue",
           "blue",
           "blue",
           "blue",
           "blue",
           "blue",
           "blue",
           "blue"
          ]
         },
         "name": "Timeline",
         "type": "bar",
         "x": [
          1,
          2,
          3,
          4,
          5,
          6,
          7,
          8,
          9,
          10,
          11,
          12,
          13,
          14,
          15,
          16,
          17,
          18,
          19,
          20,
          21,
          22,
          23,
          24,
          25,
          26,
          27,
          28,
          29,
          30,
          31
         ],
         "y": [
          100,
          4478,
          3533,
          1296,
          1676,
          1436,
          164,
          379,
          453,
          437,
          281,
          299,
          121,
          30,
          151,
          205,
          419,
          158,
          182,
          186,
          35,
          62,
          264,
          119,
          186,
          91,
          67,
          22,
          19,
          40,
          94
         ]
        },
        {
         "marker": {
          "color": "blue"
         },
         "mode": "lines",
         "type": "scatter",
         "x": [
          0,
          31
         ],
         "y": [
          5000,
          5000
         ]
        },
        {
         "marker": {
          "color": "rgb(214, 39, 40)",
          "size": 10
         },
         "mode": "markers",
         "name": "Events",
         "text": "10 Jan 2017:\nLas Vegas shooting",
         "textposition": "top center",
         "type": "scatter",
         "x": [
          1
         ],
         "y": [
          5000
         ]
        }
       ],
       "layout": {
        "showlegend": false,
        "template": {
         "data": {
          "bar": [
           {
            "error_x": {
             "color": "#2a3f5f"
            },
            "error_y": {
             "color": "#2a3f5f"
            },
            "marker": {
             "line": {
              "color": "#E5ECF6",
              "width": 0.5
             },
             "pattern": {
              "fillmode": "overlay",
              "size": 10,
              "solidity": 0.2
             }
            },
            "type": "bar"
           }
          ],
          "barpolar": [
           {
            "marker": {
             "line": {
              "color": "#E5ECF6",
              "width": 0.5
             },
             "pattern": {
              "fillmode": "overlay",
              "size": 10,
              "solidity": 0.2
             }
            },
            "type": "barpolar"
           }
          ],
          "carpet": [
           {
            "aaxis": {
             "endlinecolor": "#2a3f5f",
             "gridcolor": "white",
             "linecolor": "white",
             "minorgridcolor": "white",
             "startlinecolor": "#2a3f5f"
            },
            "baxis": {
             "endlinecolor": "#2a3f5f",
             "gridcolor": "white",
             "linecolor": "white",
             "minorgridcolor": "white",
             "startlinecolor": "#2a3f5f"
            },
            "type": "carpet"
           }
          ],
          "choropleth": [
           {
            "colorbar": {
             "outlinewidth": 0,
             "ticks": ""
            },
            "type": "choropleth"
           }
          ],
          "contour": [
           {
            "colorbar": {
             "outlinewidth": 0,
             "ticks": ""
            },
            "colorscale": [
             [
              0,
              "#0d0887"
             ],
             [
              0.1111111111111111,
              "#46039f"
             ],
             [
              0.2222222222222222,
              "#7201a8"
             ],
             [
              0.3333333333333333,
              "#9c179e"
             ],
             [
              0.4444444444444444,
              "#bd3786"
             ],
             [
              0.5555555555555556,
              "#d8576b"
             ],
             [
              0.6666666666666666,
              "#ed7953"
             ],
             [
              0.7777777777777778,
              "#fb9f3a"
             ],
             [
              0.8888888888888888,
              "#fdca26"
             ],
             [
              1,
              "#f0f921"
             ]
            ],
            "type": "contour"
           }
          ],
          "contourcarpet": [
           {
            "colorbar": {
             "outlinewidth": 0,
             "ticks": ""
            },
            "type": "contourcarpet"
           }
          ],
          "heatmap": [
           {
            "colorbar": {
             "outlinewidth": 0,
             "ticks": ""
            },
            "colorscale": [
             [
              0,
              "#0d0887"
             ],
             [
              0.1111111111111111,
              "#46039f"
             ],
             [
              0.2222222222222222,
              "#7201a8"
             ],
             [
              0.3333333333333333,
              "#9c179e"
             ],
             [
              0.4444444444444444,
              "#bd3786"
             ],
             [
              0.5555555555555556,
              "#d8576b"
             ],
             [
              0.6666666666666666,
              "#ed7953"
             ],
             [
              0.7777777777777778,
              "#fb9f3a"
             ],
             [
              0.8888888888888888,
              "#fdca26"
             ],
             [
              1,
              "#f0f921"
             ]
            ],
            "type": "heatmap"
           }
          ],
          "heatmapgl": [
           {
            "colorbar": {
             "outlinewidth": 0,
             "ticks": ""
            },
            "colorscale": [
             [
              0,
              "#0d0887"
             ],
             [
              0.1111111111111111,
              "#46039f"
             ],
             [
              0.2222222222222222,
              "#7201a8"
             ],
             [
              0.3333333333333333,
              "#9c179e"
             ],
             [
              0.4444444444444444,
              "#bd3786"
             ],
             [
              0.5555555555555556,
              "#d8576b"
             ],
             [
              0.6666666666666666,
              "#ed7953"
             ],
             [
              0.7777777777777778,
              "#fb9f3a"
             ],
             [
              0.8888888888888888,
              "#fdca26"
             ],
             [
              1,
              "#f0f921"
             ]
            ],
            "type": "heatmapgl"
           }
          ],
          "histogram": [
           {
            "marker": {
             "pattern": {
              "fillmode": "overlay",
              "size": 10,
              "solidity": 0.2
             }
            },
            "type": "histogram"
           }
          ],
          "histogram2d": [
           {
            "colorbar": {
             "outlinewidth": 0,
             "ticks": ""
            },
            "colorscale": [
             [
              0,
              "#0d0887"
             ],
             [
              0.1111111111111111,
              "#46039f"
             ],
             [
              0.2222222222222222,
              "#7201a8"
             ],
             [
              0.3333333333333333,
              "#9c179e"
             ],
             [
              0.4444444444444444,
              "#bd3786"
             ],
             [
              0.5555555555555556,
              "#d8576b"
             ],
             [
              0.6666666666666666,
              "#ed7953"
             ],
             [
              0.7777777777777778,
              "#fb9f3a"
             ],
             [
              0.8888888888888888,
              "#fdca26"
             ],
             [
              1,
              "#f0f921"
             ]
            ],
            "type": "histogram2d"
           }
          ],
          "histogram2dcontour": [
           {
            "colorbar": {
             "outlinewidth": 0,
             "ticks": ""
            },
            "colorscale": [
             [
              0,
              "#0d0887"
             ],
             [
              0.1111111111111111,
              "#46039f"
             ],
             [
              0.2222222222222222,
              "#7201a8"
             ],
             [
              0.3333333333333333,
              "#9c179e"
             ],
             [
              0.4444444444444444,
              "#bd3786"
             ],
             [
              0.5555555555555556,
              "#d8576b"
             ],
             [
              0.6666666666666666,
              "#ed7953"
             ],
             [
              0.7777777777777778,
              "#fb9f3a"
             ],
             [
              0.8888888888888888,
              "#fdca26"
             ],
             [
              1,
              "#f0f921"
             ]
            ],
            "type": "histogram2dcontour"
           }
          ],
          "mesh3d": [
           {
            "colorbar": {
             "outlinewidth": 0,
             "ticks": ""
            },
            "type": "mesh3d"
           }
          ],
          "parcoords": [
           {
            "line": {
             "colorbar": {
              "outlinewidth": 0,
              "ticks": ""
             }
            },
            "type": "parcoords"
           }
          ],
          "pie": [
           {
            "automargin": true,
            "type": "pie"
           }
          ],
          "scatter": [
           {
            "marker": {
             "colorbar": {
              "outlinewidth": 0,
              "ticks": ""
             }
            },
            "type": "scatter"
           }
          ],
          "scatter3d": [
           {
            "line": {
             "colorbar": {
              "outlinewidth": 0,
              "ticks": ""
             }
            },
            "marker": {
             "colorbar": {
              "outlinewidth": 0,
              "ticks": ""
             }
            },
            "type": "scatter3d"
           }
          ],
          "scattercarpet": [
           {
            "marker": {
             "colorbar": {
              "outlinewidth": 0,
              "ticks": ""
             }
            },
            "type": "scattercarpet"
           }
          ],
          "scattergeo": [
           {
            "marker": {
             "colorbar": {
              "outlinewidth": 0,
              "ticks": ""
             }
            },
            "type": "scattergeo"
           }
          ],
          "scattergl": [
           {
            "marker": {
             "colorbar": {
              "outlinewidth": 0,
              "ticks": ""
             }
            },
            "type": "scattergl"
           }
          ],
          "scattermapbox": [
           {
            "marker": {
             "colorbar": {
              "outlinewidth": 0,
              "ticks": ""
             }
            },
            "type": "scattermapbox"
           }
          ],
          "scatterpolar": [
           {
            "marker": {
             "colorbar": {
              "outlinewidth": 0,
              "ticks": ""
             }
            },
            "type": "scatterpolar"
           }
          ],
          "scatterpolargl": [
           {
            "marker": {
             "colorbar": {
              "outlinewidth": 0,
              "ticks": ""
             }
            },
            "type": "scatterpolargl"
           }
          ],
          "scatterternary": [
           {
            "marker": {
             "colorbar": {
              "outlinewidth": 0,
              "ticks": ""
             }
            },
            "type": "scatterternary"
           }
          ],
          "surface": [
           {
            "colorbar": {
             "outlinewidth": 0,
             "ticks": ""
            },
            "colorscale": [
             [
              0,
              "#0d0887"
             ],
             [
              0.1111111111111111,
              "#46039f"
             ],
             [
              0.2222222222222222,
              "#7201a8"
             ],
             [
              0.3333333333333333,
              "#9c179e"
             ],
             [
              0.4444444444444444,
              "#bd3786"
             ],
             [
              0.5555555555555556,
              "#d8576b"
             ],
             [
              0.6666666666666666,
              "#ed7953"
             ],
             [
              0.7777777777777778,
              "#fb9f3a"
             ],
             [
              0.8888888888888888,
              "#fdca26"
             ],
             [
              1,
              "#f0f921"
             ]
            ],
            "type": "surface"
           }
          ],
          "table": [
           {
            "cells": {
             "fill": {
              "color": "#EBF0F8"
             },
             "line": {
              "color": "white"
             }
            },
            "header": {
             "fill": {
              "color": "#C8D4E3"
             },
             "line": {
              "color": "white"
             }
            },
            "type": "table"
           }
          ]
         },
         "layout": {
          "annotationdefaults": {
           "arrowcolor": "#2a3f5f",
           "arrowhead": 0,
           "arrowwidth": 1
          },
          "autotypenumbers": "strict",
          "coloraxis": {
           "colorbar": {
            "outlinewidth": 0,
            "ticks": ""
           }
          },
          "colorscale": {
           "diverging": [
            [
             0,
             "#8e0152"
            ],
            [
             0.1,
             "#c51b7d"
            ],
            [
             0.2,
             "#de77ae"
            ],
            [
             0.3,
             "#f1b6da"
            ],
            [
             0.4,
             "#fde0ef"
            ],
            [
             0.5,
             "#f7f7f7"
            ],
            [
             0.6,
             "#e6f5d0"
            ],
            [
             0.7,
             "#b8e186"
            ],
            [
             0.8,
             "#7fbc41"
            ],
            [
             0.9,
             "#4d9221"
            ],
            [
             1,
             "#276419"
            ]
           ],
           "sequential": [
            [
             0,
             "#0d0887"
            ],
            [
             0.1111111111111111,
             "#46039f"
            ],
            [
             0.2222222222222222,
             "#7201a8"
            ],
            [
             0.3333333333333333,
             "#9c179e"
            ],
            [
             0.4444444444444444,
             "#bd3786"
            ],
            [
             0.5555555555555556,
             "#d8576b"
            ],
            [
             0.6666666666666666,
             "#ed7953"
            ],
            [
             0.7777777777777778,
             "#fb9f3a"
            ],
            [
             0.8888888888888888,
             "#fdca26"
            ],
            [
             1,
             "#f0f921"
            ]
           ],
           "sequentialminus": [
            [
             0,
             "#0d0887"
            ],
            [
             0.1111111111111111,
             "#46039f"
            ],
            [
             0.2222222222222222,
             "#7201a8"
            ],
            [
             0.3333333333333333,
             "#9c179e"
            ],
            [
             0.4444444444444444,
             "#bd3786"
            ],
            [
             0.5555555555555556,
             "#d8576b"
            ],
            [
             0.6666666666666666,
             "#ed7953"
            ],
            [
             0.7777777777777778,
             "#fb9f3a"
            ],
            [
             0.8888888888888888,
             "#fdca26"
            ],
            [
             1,
             "#f0f921"
            ]
           ]
          },
          "colorway": [
           "#636efa",
           "#EF553B",
           "#00cc96",
           "#ab63fa",
           "#FFA15A",
           "#19d3f3",
           "#FF6692",
           "#B6E880",
           "#FF97FF",
           "#FECB52"
          ],
          "font": {
           "color": "#2a3f5f"
          },
          "geo": {
           "bgcolor": "white",
           "lakecolor": "white",
           "landcolor": "#E5ECF6",
           "showlakes": true,
           "showland": true,
           "subunitcolor": "white"
          },
          "hoverlabel": {
           "align": "left"
          },
          "hovermode": "closest",
          "mapbox": {
           "style": "light"
          },
          "paper_bgcolor": "white",
          "plot_bgcolor": "#E5ECF6",
          "polar": {
           "angularaxis": {
            "gridcolor": "white",
            "linecolor": "white",
            "ticks": ""
           },
           "bgcolor": "#E5ECF6",
           "radialaxis": {
            "gridcolor": "white",
            "linecolor": "white",
            "ticks": ""
           }
          },
          "scene": {
           "xaxis": {
            "backgroundcolor": "#E5ECF6",
            "gridcolor": "white",
            "gridwidth": 2,
            "linecolor": "white",
            "showbackground": true,
            "ticks": "",
            "zerolinecolor": "white"
           },
           "yaxis": {
            "backgroundcolor": "#E5ECF6",
            "gridcolor": "white",
            "gridwidth": 2,
            "linecolor": "white",
            "showbackground": true,
            "ticks": "",
            "zerolinecolor": "white"
           },
           "zaxis": {
            "backgroundcolor": "#E5ECF6",
            "gridcolor": "white",
            "gridwidth": 2,
            "linecolor": "white",
            "showbackground": true,
            "ticks": "",
            "zerolinecolor": "white"
           }
          },
          "shapedefaults": {
           "line": {
            "color": "#2a3f5f"
           }
          },
          "ternary": {
           "aaxis": {
            "gridcolor": "white",
            "linecolor": "white",
            "ticks": ""
           },
           "baxis": {
            "gridcolor": "white",
            "linecolor": "white",
            "ticks": ""
           },
           "bgcolor": "#E5ECF6",
           "caxis": {
            "gridcolor": "white",
            "linecolor": "white",
            "ticks": ""
           }
          },
          "title": {
           "x": 0.05
          },
          "xaxis": {
           "automargin": true,
           "gridcolor": "white",
           "linecolor": "white",
           "ticks": "",
           "title": {
            "standoff": 15
           },
           "zerolinecolor": "white",
           "zerolinewidth": 2
          },
          "yaxis": {
           "automargin": true,
           "gridcolor": "white",
           "linecolor": "white",
           "ticks": "",
           "title": {
            "standoff": 15
           },
           "zerolinecolor": "white",
           "zerolinewidth": 2
          }
         }
        },
        "title": {
         "text": "Timeline of the gun-related quotes in October 2017",
         "x": 0.5,
         "xanchor": "center"
        },
        "uniformtext": {
         "mode": "hide"
        },
        "xaxis": {
         "fixedrange": false,
         "tickmode": "array",
         "tickvals": [
          1,
          2,
          3,
          4,
          5,
          6,
          7,
          8,
          9,
          10,
          11,
          12,
          13,
          14,
          15,
          16,
          17,
          18,
          19,
          20,
          21,
          22,
          23,
          24,
          25,
          26,
          27,
          28,
          29,
          30,
          31
         ],
         "title": {
          "text": "Time"
         }
        },
        "yaxis": {
         "title": {
          "text": "Number of quotations"
         }
        }
       }
      },
      "text/html": [
       "<div>                            <div id=\"dd944efd-05c3-4f29-a93a-0aababff26c0\" class=\"plotly-graph-div\" style=\"height:525px; width:100%;\"></div>            <script type=\"text/javascript\">                require([\"plotly\"], function(Plotly) {                    window.PLOTLYENV=window.PLOTLYENV || {};                                    if (document.getElementById(\"dd944efd-05c3-4f29-a93a-0aababff26c0\")) {                    Plotly.newPlot(                        \"dd944efd-05c3-4f29-a93a-0aababff26c0\",                        [{\"marker\":{\"color\":[\"rgb(214, 39, 40)\",\"rgb(200, 39, 40)\",\"rgb(180, 39, 40)\",\"rgb(160, 39, 40)\",\"rgb(140, 39, 40)\",\"rgb(130, 39, 40)\",\"blue\",\"blue\",\"blue\",\"blue\",\"blue\",\"blue\",\"blue\",\"blue\",\"blue\",\"blue\",\"blue\",\"blue\",\"blue\",\"blue\",\"blue\",\"blue\",\"blue\",\"blue\",\"blue\",\"blue\",\"blue\",\"blue\",\"blue\",\"blue\",\"blue\"]},\"name\":\"Timeline\",\"x\":[1.0,2.0,3.0,4.0,5.0,6.0,7.0,8.0,9.0,10.0,11.0,12.0,13.0,14.0,15.0,16.0,17.0,18.0,19.0,20.0,21.0,22.0,23.0,24.0,25.0,26.0,27.0,28.0,29.0,30.0,31.0],\"y\":[100,4478,3533,1296,1676,1436,164,379,453,437,281,299,121,30,151,205,419,158,182,186,35,62,264,119,186,91,67,22,19,40,94],\"type\":\"bar\"},{\"marker\":{\"color\":\"blue\"},\"mode\":\"lines\",\"x\":[0,31],\"y\":[5000,5000],\"type\":\"scatter\"},{\"marker\":{\"color\":\"rgb(214, 39, 40)\",\"size\":10},\"mode\":\"markers\",\"name\":\"Events\",\"text\":\"10 Jan 2017:\\nLas Vegas shooting\",\"textposition\":\"top center\",\"x\":[1],\"y\":[5000],\"type\":\"scatter\"}],                        {\"template\":{\"data\":{\"bar\":[{\"error_x\":{\"color\":\"#2a3f5f\"},\"error_y\":{\"color\":\"#2a3f5f\"},\"marker\":{\"line\":{\"color\":\"#E5ECF6\",\"width\":0.5},\"pattern\":{\"fillmode\":\"overlay\",\"size\":10,\"solidity\":0.2}},\"type\":\"bar\"}],\"barpolar\":[{\"marker\":{\"line\":{\"color\":\"#E5ECF6\",\"width\":0.5},\"pattern\":{\"fillmode\":\"overlay\",\"size\":10,\"solidity\":0.2}},\"type\":\"barpolar\"}],\"carpet\":[{\"aaxis\":{\"endlinecolor\":\"#2a3f5f\",\"gridcolor\":\"white\",\"linecolor\":\"white\",\"minorgridcolor\":\"white\",\"startlinecolor\":\"#2a3f5f\"},\"baxis\":{\"endlinecolor\":\"#2a3f5f\",\"gridcolor\":\"white\",\"linecolor\":\"white\",\"minorgridcolor\":\"white\",\"startlinecolor\":\"#2a3f5f\"},\"type\":\"carpet\"}],\"choropleth\":[{\"colorbar\":{\"outlinewidth\":0,\"ticks\":\"\"},\"type\":\"choropleth\"}],\"contour\":[{\"colorbar\":{\"outlinewidth\":0,\"ticks\":\"\"},\"colorscale\":[[0.0,\"#0d0887\"],[0.1111111111111111,\"#46039f\"],[0.2222222222222222,\"#7201a8\"],[0.3333333333333333,\"#9c179e\"],[0.4444444444444444,\"#bd3786\"],[0.5555555555555556,\"#d8576b\"],[0.6666666666666666,\"#ed7953\"],[0.7777777777777778,\"#fb9f3a\"],[0.8888888888888888,\"#fdca26\"],[1.0,\"#f0f921\"]],\"type\":\"contour\"}],\"contourcarpet\":[{\"colorbar\":{\"outlinewidth\":0,\"ticks\":\"\"},\"type\":\"contourcarpet\"}],\"heatmap\":[{\"colorbar\":{\"outlinewidth\":0,\"ticks\":\"\"},\"colorscale\":[[0.0,\"#0d0887\"],[0.1111111111111111,\"#46039f\"],[0.2222222222222222,\"#7201a8\"],[0.3333333333333333,\"#9c179e\"],[0.4444444444444444,\"#bd3786\"],[0.5555555555555556,\"#d8576b\"],[0.6666666666666666,\"#ed7953\"],[0.7777777777777778,\"#fb9f3a\"],[0.8888888888888888,\"#fdca26\"],[1.0,\"#f0f921\"]],\"type\":\"heatmap\"}],\"heatmapgl\":[{\"colorbar\":{\"outlinewidth\":0,\"ticks\":\"\"},\"colorscale\":[[0.0,\"#0d0887\"],[0.1111111111111111,\"#46039f\"],[0.2222222222222222,\"#7201a8\"],[0.3333333333333333,\"#9c179e\"],[0.4444444444444444,\"#bd3786\"],[0.5555555555555556,\"#d8576b\"],[0.6666666666666666,\"#ed7953\"],[0.7777777777777778,\"#fb9f3a\"],[0.8888888888888888,\"#fdca26\"],[1.0,\"#f0f921\"]],\"type\":\"heatmapgl\"}],\"histogram\":[{\"marker\":{\"pattern\":{\"fillmode\":\"overlay\",\"size\":10,\"solidity\":0.2}},\"type\":\"histogram\"}],\"histogram2d\":[{\"colorbar\":{\"outlinewidth\":0,\"ticks\":\"\"},\"colorscale\":[[0.0,\"#0d0887\"],[0.1111111111111111,\"#46039f\"],[0.2222222222222222,\"#7201a8\"],[0.3333333333333333,\"#9c179e\"],[0.4444444444444444,\"#bd3786\"],[0.5555555555555556,\"#d8576b\"],[0.6666666666666666,\"#ed7953\"],[0.7777777777777778,\"#fb9f3a\"],[0.8888888888888888,\"#fdca26\"],[1.0,\"#f0f921\"]],\"type\":\"histogram2d\"}],\"histogram2dcontour\":[{\"colorbar\":{\"outlinewidth\":0,\"ticks\":\"\"},\"colorscale\":[[0.0,\"#0d0887\"],[0.1111111111111111,\"#46039f\"],[0.2222222222222222,\"#7201a8\"],[0.3333333333333333,\"#9c179e\"],[0.4444444444444444,\"#bd3786\"],[0.5555555555555556,\"#d8576b\"],[0.6666666666666666,\"#ed7953\"],[0.7777777777777778,\"#fb9f3a\"],[0.8888888888888888,\"#fdca26\"],[1.0,\"#f0f921\"]],\"type\":\"histogram2dcontour\"}],\"mesh3d\":[{\"colorbar\":{\"outlinewidth\":0,\"ticks\":\"\"},\"type\":\"mesh3d\"}],\"parcoords\":[{\"line\":{\"colorbar\":{\"outlinewidth\":0,\"ticks\":\"\"}},\"type\":\"parcoords\"}],\"pie\":[{\"automargin\":true,\"type\":\"pie\"}],\"scatter\":[{\"marker\":{\"colorbar\":{\"outlinewidth\":0,\"ticks\":\"\"}},\"type\":\"scatter\"}],\"scatter3d\":[{\"line\":{\"colorbar\":{\"outlinewidth\":0,\"ticks\":\"\"}},\"marker\":{\"colorbar\":{\"outlinewidth\":0,\"ticks\":\"\"}},\"type\":\"scatter3d\"}],\"scattercarpet\":[{\"marker\":{\"colorbar\":{\"outlinewidth\":0,\"ticks\":\"\"}},\"type\":\"scattercarpet\"}],\"scattergeo\":[{\"marker\":{\"colorbar\":{\"outlinewidth\":0,\"ticks\":\"\"}},\"type\":\"scattergeo\"}],\"scattergl\":[{\"marker\":{\"colorbar\":{\"outlinewidth\":0,\"ticks\":\"\"}},\"type\":\"scattergl\"}],\"scattermapbox\":[{\"marker\":{\"colorbar\":{\"outlinewidth\":0,\"ticks\":\"\"}},\"type\":\"scattermapbox\"}],\"scatterpolar\":[{\"marker\":{\"colorbar\":{\"outlinewidth\":0,\"ticks\":\"\"}},\"type\":\"scatterpolar\"}],\"scatterpolargl\":[{\"marker\":{\"colorbar\":{\"outlinewidth\":0,\"ticks\":\"\"}},\"type\":\"scatterpolargl\"}],\"scatterternary\":[{\"marker\":{\"colorbar\":{\"outlinewidth\":0,\"ticks\":\"\"}},\"type\":\"scatterternary\"}],\"surface\":[{\"colorbar\":{\"outlinewidth\":0,\"ticks\":\"\"},\"colorscale\":[[0.0,\"#0d0887\"],[0.1111111111111111,\"#46039f\"],[0.2222222222222222,\"#7201a8\"],[0.3333333333333333,\"#9c179e\"],[0.4444444444444444,\"#bd3786\"],[0.5555555555555556,\"#d8576b\"],[0.6666666666666666,\"#ed7953\"],[0.7777777777777778,\"#fb9f3a\"],[0.8888888888888888,\"#fdca26\"],[1.0,\"#f0f921\"]],\"type\":\"surface\"}],\"table\":[{\"cells\":{\"fill\":{\"color\":\"#EBF0F8\"},\"line\":{\"color\":\"white\"}},\"header\":{\"fill\":{\"color\":\"#C8D4E3\"},\"line\":{\"color\":\"white\"}},\"type\":\"table\"}]},\"layout\":{\"annotationdefaults\":{\"arrowcolor\":\"#2a3f5f\",\"arrowhead\":0,\"arrowwidth\":1},\"autotypenumbers\":\"strict\",\"coloraxis\":{\"colorbar\":{\"outlinewidth\":0,\"ticks\":\"\"}},\"colorscale\":{\"diverging\":[[0,\"#8e0152\"],[0.1,\"#c51b7d\"],[0.2,\"#de77ae\"],[0.3,\"#f1b6da\"],[0.4,\"#fde0ef\"],[0.5,\"#f7f7f7\"],[0.6,\"#e6f5d0\"],[0.7,\"#b8e186\"],[0.8,\"#7fbc41\"],[0.9,\"#4d9221\"],[1,\"#276419\"]],\"sequential\":[[0.0,\"#0d0887\"],[0.1111111111111111,\"#46039f\"],[0.2222222222222222,\"#7201a8\"],[0.3333333333333333,\"#9c179e\"],[0.4444444444444444,\"#bd3786\"],[0.5555555555555556,\"#d8576b\"],[0.6666666666666666,\"#ed7953\"],[0.7777777777777778,\"#fb9f3a\"],[0.8888888888888888,\"#fdca26\"],[1.0,\"#f0f921\"]],\"sequentialminus\":[[0.0,\"#0d0887\"],[0.1111111111111111,\"#46039f\"],[0.2222222222222222,\"#7201a8\"],[0.3333333333333333,\"#9c179e\"],[0.4444444444444444,\"#bd3786\"],[0.5555555555555556,\"#d8576b\"],[0.6666666666666666,\"#ed7953\"],[0.7777777777777778,\"#fb9f3a\"],[0.8888888888888888,\"#fdca26\"],[1.0,\"#f0f921\"]]},\"colorway\":[\"#636efa\",\"#EF553B\",\"#00cc96\",\"#ab63fa\",\"#FFA15A\",\"#19d3f3\",\"#FF6692\",\"#B6E880\",\"#FF97FF\",\"#FECB52\"],\"font\":{\"color\":\"#2a3f5f\"},\"geo\":{\"bgcolor\":\"white\",\"lakecolor\":\"white\",\"landcolor\":\"#E5ECF6\",\"showlakes\":true,\"showland\":true,\"subunitcolor\":\"white\"},\"hoverlabel\":{\"align\":\"left\"},\"hovermode\":\"closest\",\"mapbox\":{\"style\":\"light\"},\"paper_bgcolor\":\"white\",\"plot_bgcolor\":\"#E5ECF6\",\"polar\":{\"angularaxis\":{\"gridcolor\":\"white\",\"linecolor\":\"white\",\"ticks\":\"\"},\"bgcolor\":\"#E5ECF6\",\"radialaxis\":{\"gridcolor\":\"white\",\"linecolor\":\"white\",\"ticks\":\"\"}},\"scene\":{\"xaxis\":{\"backgroundcolor\":\"#E5ECF6\",\"gridcolor\":\"white\",\"gridwidth\":2,\"linecolor\":\"white\",\"showbackground\":true,\"ticks\":\"\",\"zerolinecolor\":\"white\"},\"yaxis\":{\"backgroundcolor\":\"#E5ECF6\",\"gridcolor\":\"white\",\"gridwidth\":2,\"linecolor\":\"white\",\"showbackground\":true,\"ticks\":\"\",\"zerolinecolor\":\"white\"},\"zaxis\":{\"backgroundcolor\":\"#E5ECF6\",\"gridcolor\":\"white\",\"gridwidth\":2,\"linecolor\":\"white\",\"showbackground\":true,\"ticks\":\"\",\"zerolinecolor\":\"white\"}},\"shapedefaults\":{\"line\":{\"color\":\"#2a3f5f\"}},\"ternary\":{\"aaxis\":{\"gridcolor\":\"white\",\"linecolor\":\"white\",\"ticks\":\"\"},\"baxis\":{\"gridcolor\":\"white\",\"linecolor\":\"white\",\"ticks\":\"\"},\"bgcolor\":\"#E5ECF6\",\"caxis\":{\"gridcolor\":\"white\",\"linecolor\":\"white\",\"ticks\":\"\"}},\"title\":{\"x\":0.05},\"xaxis\":{\"automargin\":true,\"gridcolor\":\"white\",\"linecolor\":\"white\",\"ticks\":\"\",\"title\":{\"standoff\":15},\"zerolinecolor\":\"white\",\"zerolinewidth\":2},\"yaxis\":{\"automargin\":true,\"gridcolor\":\"white\",\"linecolor\":\"white\",\"ticks\":\"\",\"title\":{\"standoff\":15},\"zerolinecolor\":\"white\",\"zerolinewidth\":2}}},\"uniformtext\":{\"mode\":\"hide\"},\"xaxis\":{\"tickmode\":\"array\",\"tickvals\":[1,2,3,4,5,6,7,8,9,10,11,12,13,14,15,16,17,18,19,20,21,22,23,24,25,26,27,28,29,30,31],\"title\":{\"text\":\"Time\"},\"fixedrange\":false},\"title\":{\"text\":\"Timeline of the gun-related quotes in October 2017\",\"x\":0.5,\"xanchor\":\"center\"},\"showlegend\":false,\"yaxis\":{\"title\":{\"text\":\"Number of quotations\"}}},                        {\"responsive\": true}                    ).then(function(){\n",
       "                            \n",
       "var gd = document.getElementById('dd944efd-05c3-4f29-a93a-0aababff26c0');\n",
       "var x = new MutationObserver(function (mutations, observer) {{\n",
       "        var display = window.getComputedStyle(gd).display;\n",
       "        if (!display || display === 'none') {{\n",
       "            console.log([gd, 'removed!']);\n",
       "            Plotly.purge(gd);\n",
       "            observer.disconnect();\n",
       "        }}\n",
       "}});\n",
       "\n",
       "// Listen for the removal of the full notebook cells\n",
       "var notebookContainer = gd.closest('#notebook-container');\n",
       "if (notebookContainer) {{\n",
       "    x.observe(notebookContainer, {childList: true});\n",
       "}}\n",
       "\n",
       "// Listen for the clearing of the current output cell\n",
       "var outputEl = gd.closest('.output');\n",
       "if (outputEl) {{\n",
       "    x.observe(outputEl, {childList: true});\n",
       "}}\n",
       "\n",
       "                        })                };                });            </script>        </div>"
      ]
     },
     "metadata": {},
     "output_type": "display_data"
    },
    {
     "data": {
      "text/plain": [
       "'https://plotly.com/~patron.theo/21/'"
      ]
     },
     "execution_count": 109,
     "metadata": {},
     "output_type": "execute_result"
    }
   ],
   "source": [
    "# Interractive figure for the website : number of quotes in October 2017\n",
    "\n",
    "fig = go.Figure()\n",
    "\n",
    "colors = ['blue',] * 31  # 'rgb(31, 119, 180)'\n",
    "colors[0] = 'rgb(214, 39, 40)'\n",
    "colors[1] = 'rgb(200, 39, 40)'\n",
    "colors[2] = 'rgb(180, 39, 40)'\n",
    "colors[3] = 'rgb(160, 39, 40)'\n",
    "colors[4] = 'rgb(140, 39, 40)'\n",
    "colors[5] = 'rgb(130, 39, 40)'\n",
    "colors2 = colors[0]\n",
    "\n",
    "\n",
    "fig.add_trace(go.Bar(x=np.linspace(1,31,31), y=oct_.groupby(oct_['date'].dt.day).numOccurrences.sum(),\n",
    "                     marker_color=colors, name='Timeline'))\n",
    "# fig = px.bar(df, x=np.linspace(1,64,64), y=df.groupby(df['date'].dt.to_period('M')).numOccurrences.sum(), labels=dict(x=\"Time\", y=\"Number of quotes\"))\n",
    "# fig = px.bar(data, x='Time', y='Number of quotes')\n",
    "\n",
    "fig.update_layout(\n",
    "    uniformtext=dict(mode='hide'),\n",
    "    xaxis = dict(\n",
    "        tickmode = 'array',\n",
    "        tickvals = np.linspace(1,31,31, dtype='int')\n",
    "    ),\n",
    "    title={'text':'Timeline of the gun-related quotes in October 2017', 'x':0.5, 'xanchor':'center'},\n",
    "   showlegend=False, \n",
    "    )\n",
    "\n",
    "fig.update_xaxes(title_text='Time', fixedrange=False)\n",
    "fig.update_yaxes(title_text='Number of quotations')\n",
    "\n",
    "lab_event = labels_events[3] #'Las Vegas shooting'\n",
    "\n",
    "fig.add_trace(go.Scatter(\n",
    "    x=[0, 31],\n",
    "    y=[5000, 5000],\n",
    "    mode=\"lines\",\n",
    "    marker_color=colors[30]\n",
    "))\n",
    "\n",
    "fig.add_trace(go.Scatter(\n",
    "    x=[1],\n",
    "    y=[5000],\n",
    "    mode=\"markers\",\n",
    "    marker_color=colors2,\n",
    "    marker_size=10,\n",
    "    text=lab_event,\n",
    "    name=\"Events\",\n",
    "    textposition=\"top center\"\n",
    "))\n",
    "\n",
    "fig.show()\n",
    "# fig.write_html(\"timelineyouhouuuu.html\")\n",
    "\n",
    "# Save the plot on Theo's account\n",
    "py.plot(fig, filename = 'timeline-oct2017', auto_open=True)"
   ]
  },
  {
   "cell_type": "markdown",
   "id": "61e16df9",
   "metadata": {},
   "source": [
    "# 2018 and the Stoneman Douglas High School shooting  \n",
    "  \n",
    "Here we focus on a another event that append on the 14th of February 2018. The same proedure as above is followed."
   ]
  },
  {
   "cell_type": "code",
   "execution_count": 79,
   "id": "87d19722",
   "metadata": {},
   "outputs": [
    {
     "data": {
      "image/png": "[encoded data removed]",
      "text/plain": [
       "<Figure size 1872x720 with 1 Axes>"
      ]
     },
     "metadata": {},
     "output_type": "display_data"
    }
   ],
   "source": [
    "## Plot of the number of quotes related to guns in the year 2018\n",
    "\n",
    "g2018 = df[(df['date'].dt.year == 2018)]\n",
    "\n",
    "ax = sns.barplot(x=np.linspace(1,12,12), y=g2018.groupby(g2018['dateWithoutTime'].dt.month).numOccurrences.sum(), palette='colorblind')#, data=gunquotes)\n",
    "ax.set_xlabel('Months')\n",
    "ax.set_ylabel('Number of quotes')\n",
    "ax.set_title('Timeline of the gun-related quotations during the year 2018')\n",
    "labels = ['January', 'February', 'March', 'April', 'May', 'June', 'July', 'August', 'September', 'October', 'November', 'December']\n",
    "ax.set_xticklabels(labels)\n",
    "plt.xticks(rotation=60, fontsize=\"medium\")\n",
    "show_values(ax)\n",
    "plt.show()"
   ]
  },
  {
   "cell_type": "code",
   "execution_count": 82,
   "id": "1047b5ea",
   "metadata": {},
   "outputs": [
    {
     "data": {
      "image/png": "[encoded data removed]",
      "text/plain": [
       "<Figure size 1872x720 with 1 Axes>"
      ]
     },
     "metadata": {},
     "output_type": "display_data"
    }
   ],
   "source": [
    "# Zoom on February and the Stoneman Douglas High School shooting : plot of the number of gunquotes in February 2018\n",
    "\n",
    "feb= g2018[(g2018['date'].dt.month==2)]\n",
    "\n",
    "ax = sns.barplot(x=np.linspace(1,28,28, dtype='int'), y=feb.groupby(feb['dateWithoutTime'].dt.day).numOccurrences.sum(), palette='colorblind')#, data=gunquotes)\n",
    "ax.set_xlabel('Months')\n",
    "ax.set_ylabel('Number of quotes')\n",
    "ax.set_title('Timeline of the gun-related quotations in February 2018')\n",
    "show_values(ax)\n",
    "plt.show()"
   ]
  },
  {
   "cell_type": "code",
   "execution_count": 83,
   "id": "f7ac78e9",
   "metadata": {},
   "outputs": [
    {
     "name": "stdout",
     "output_type": "stream",
     "text": [
      "Some of the quotes of the 15th of February 2018:\n",
      "30356    And sending love to everyone who has been affe...\n",
      "30387    Who will be the useful idiots that will contin...\n",
      "30403    For every gun, think of one child going throug...\n",
      "30509    It didn't take him long to go right to gun con...\n",
      "30530    I don't know how many times it has to happen f...\n",
      "Name: quotation, dtype: object\n"
     ]
    }
   ],
   "source": [
    "print('Some of the quotes of the 15th of February 2018:')\n",
    "print(feb[(feb['date'].dt.day==15)].quotation.head(5))"
   ]
  },
  {
   "cell_type": "code",
   "execution_count": 90,
   "id": "cc62a445",
   "metadata": {},
   "outputs": [
    {
     "name": "stdout",
     "output_type": "stream",
     "text": [
      "Average number of quotations per day for the first half of february (before the 14th): 78.3076923076923\n",
      "Average number of quotations per day for the second half of february (for the 14th and after): 2070.6666666666665\n"
     ]
    }
   ],
   "source": [
    "print('Average number of quotations per day for the first half of february (before the 14th):', feb[(feb['date'].dt.day<14)].numOccurrences.sum()/13)\n",
    "print('Average number of quotations per day for the second half of february (for the 14th and after):', feb[(feb['date'].dt.day>=14)].numOccurrences.sum()/15)"
   ]
  },
  {
   "cell_type": "markdown",
   "id": "c226be20",
   "metadata": {},
   "source": [
    "Here again, it is obvious that the high school shooting of the 14th of February 2018 had a huge impact on the quotations of the following dates. The average number of gun related quotations for the days before the shooting is about 78 while it is of 2070  for the day of the shooting and the days after.   \n",
    "Moreover, compared to the event of Las Vegas studied above, this mass shooting had a longer impact : it seems that people continued to speak about it longer."
   ]
  },
  {
   "cell_type": "code",
   "execution_count": 113,
   "id": "099e3860",
   "metadata": {},
   "outputs": [
    {
     "data": {
      "application/vnd.plotly.v1+json": {
       "config": {
        "plotlyServerURL": "https://plotly.com"
       },
       "data": [
        {
         "marker": {
          "color": [
           "blue",
           "blue",
           "blue",
           "blue",
           "blue",
           "blue",
           "blue",
           "blue",
           "blue",
           "blue",
           "blue",
           "blue",
           "blue",
           "rgb(140, 106, 75)",
           "rgb(140, 126, 75)",
           "rgb(140, 146, 75)",
           "rgb(140, 166, 75)",
           "rgb(140, 186, 75)",
           "rgb(140, 206, 75)",
           "rgb(140, 206, 75)",
           "rgb(140, 206, 75)",
           "rgb(140, 206, 75)",
           "rgb(140, 206, 75)",
           "rgb(140, 206, 75)",
           "rgb(140, 206, 75)",
           "rgb(140, 206, 75)",
           "rgb(140, 206, 75)",
           "rgb(140, 206, 75)"
          ]
         },
         "name": "Timeline",
         "type": "bar",
         "x": [
          1,
          2,
          3,
          4,
          5,
          6,
          7,
          8,
          9,
          10,
          11,
          12,
          13,
          14,
          15,
          16,
          17,
          18,
          19,
          20,
          21,
          22,
          23,
          24,
          25,
          26,
          27,
          28
         ],
         "y": [
          58,
          118,
          32,
          26,
          158,
          88,
          52,
          78,
          62,
          37,
          11,
          191,
          107,
          636,
          2997,
          1582,
          1047,
          958,
          1359,
          1465,
          4934,
          3954,
          1910,
          1134,
          1285,
          1044,
          2321,
          4434
         ]
        },
        {
         "marker": {
          "color": "blue"
         },
         "mode": "lines",
         "type": "scatter",
         "x": [
          0,
          29
         ],
         "y": [
          6000,
          6000
         ]
        },
        {
         "marker": {
          "color": "rgb(140, 106, 75)",
          "size": 10
         },
         "mode": "markers",
         "name": "Events",
         "text": "14 Feb 2018:\nStoneman Douglas High School shooting",
         "textposition": "top center",
         "type": "scatter",
         "x": [
          14
         ],
         "y": [
          6000
         ]
        }
       ],
       "layout": {
        "showlegend": false,
        "template": {
         "data": {
          "bar": [
           {
            "error_x": {
             "color": "#2a3f5f"
            },
            "error_y": {
             "color": "#2a3f5f"
            },
            "marker": {
             "line": {
              "color": "#E5ECF6",
              "width": 0.5
             },
             "pattern": {
              "fillmode": "overlay",
              "size": 10,
              "solidity": 0.2
             }
            },
            "type": "bar"
           }
          ],
          "barpolar": [
           {
            "marker": {
             "line": {
              "color": "#E5ECF6",
              "width": 0.5
             },
             "pattern": {
              "fillmode": "overlay",
              "size": 10,
              "solidity": 0.2
             }
            },
            "type": "barpolar"
           }
          ],
          "carpet": [
           {
            "aaxis": {
             "endlinecolor": "#2a3f5f",
             "gridcolor": "white",
             "linecolor": "white",
             "minorgridcolor": "white",
             "startlinecolor": "#2a3f5f"
            },
            "baxis": {
             "endlinecolor": "#2a3f5f",
             "gridcolor": "white",
             "linecolor": "white",
             "minorgridcolor": "white",
             "startlinecolor": "#2a3f5f"
            },
            "type": "carpet"
           }
          ],
          "choropleth": [
           {
            "colorbar": {
             "outlinewidth": 0,
             "ticks": ""
            },
            "type": "choropleth"
           }
          ],
          "contour": [
           {
            "colorbar": {
             "outlinewidth": 0,
             "ticks": ""
            },
            "colorscale": [
             [
              0,
              "#0d0887"
             ],
             [
              0.1111111111111111,
              "#46039f"
             ],
             [
              0.2222222222222222,
              "#7201a8"
             ],
             [
              0.3333333333333333,
              "#9c179e"
             ],
             [
              0.4444444444444444,
              "#bd3786"
             ],
             [
              0.5555555555555556,
              "#d8576b"
             ],
             [
              0.6666666666666666,
              "#ed7953"
             ],
             [
              0.7777777777777778,
              "#fb9f3a"
             ],
             [
              0.8888888888888888,
              "#fdca26"
             ],
             [
              1,
              "#f0f921"
             ]
            ],
            "type": "contour"
           }
          ],
          "contourcarpet": [
           {
            "colorbar": {
             "outlinewidth": 0,
             "ticks": ""
            },
            "type": "contourcarpet"
           }
          ],
          "heatmap": [
           {
            "colorbar": {
             "outlinewidth": 0,
             "ticks": ""
            },
            "colorscale": [
             [
              0,
              "#0d0887"
             ],
             [
              0.1111111111111111,
              "#46039f"
             ],
             [
              0.2222222222222222,
              "#7201a8"
             ],
             [
              0.3333333333333333,
              "#9c179e"
             ],
             [
              0.4444444444444444,
              "#bd3786"
             ],
             [
              0.5555555555555556,
              "#d8576b"
             ],
             [
              0.6666666666666666,
              "#ed7953"
             ],
             [
              0.7777777777777778,
              "#fb9f3a"
             ],
             [
              0.8888888888888888,
              "#fdca26"
             ],
             [
              1,
              "#f0f921"
             ]
            ],
            "type": "heatmap"
           }
          ],
          "heatmapgl": [
           {
            "colorbar": {
             "outlinewidth": 0,
             "ticks": ""
            },
            "colorscale": [
             [
              0,
              "#0d0887"
             ],
             [
              0.1111111111111111,
              "#46039f"
             ],
             [
              0.2222222222222222,
              "#7201a8"
             ],
             [
              0.3333333333333333,
              "#9c179e"
             ],
             [
              0.4444444444444444,
              "#bd3786"
             ],
             [
              0.5555555555555556,
              "#d8576b"
             ],
             [
              0.6666666666666666,
              "#ed7953"
             ],
             [
              0.7777777777777778,
              "#fb9f3a"
             ],
             [
              0.8888888888888888,
              "#fdca26"
             ],
             [
              1,
              "#f0f921"
             ]
            ],
            "type": "heatmapgl"
           }
          ],
          "histogram": [
           {
            "marker": {
             "pattern": {
              "fillmode": "overlay",
              "size": 10,
              "solidity": 0.2
             }
            },
            "type": "histogram"
           }
          ],
          "histogram2d": [
           {
            "colorbar": {
             "outlinewidth": 0,
             "ticks": ""
            },
            "colorscale": [
             [
              0,
              "#0d0887"
             ],
             [
              0.1111111111111111,
              "#46039f"
             ],
             [
              0.2222222222222222,
              "#7201a8"
             ],
             [
              0.3333333333333333,
              "#9c179e"
             ],
             [
              0.4444444444444444,
              "#bd3786"
             ],
             [
              0.5555555555555556,
              "#d8576b"
             ],
             [
              0.6666666666666666,
              "#ed7953"
             ],
             [
              0.7777777777777778,
              "#fb9f3a"
             ],
             [
              0.8888888888888888,
              "#fdca26"
             ],
             [
              1,
              "#f0f921"
             ]
            ],
            "type": "histogram2d"
           }
          ],
          "histogram2dcontour": [
           {
            "colorbar": {
             "outlinewidth": 0,
             "ticks": ""
            },
            "colorscale": [
             [
              0,
              "#0d0887"
             ],
             [
              0.1111111111111111,
              "#46039f"
             ],
             [
              0.2222222222222222,
              "#7201a8"
             ],
             [
              0.3333333333333333,
              "#9c179e"
             ],
             [
              0.4444444444444444,
              "#bd3786"
             ],
             [
              0.5555555555555556,
              "#d8576b"
             ],
             [
              0.6666666666666666,
              "#ed7953"
             ],
             [
              0.7777777777777778,
              "#fb9f3a"
             ],
             [
              0.8888888888888888,
              "#fdca26"
             ],
             [
              1,
              "#f0f921"
             ]
            ],
            "type": "histogram2dcontour"
           }
          ],
          "mesh3d": [
           {
            "colorbar": {
             "outlinewidth": 0,
             "ticks": ""
            },
            "type": "mesh3d"
           }
          ],
          "parcoords": [
           {
            "line": {
             "colorbar": {
              "outlinewidth": 0,
              "ticks": ""
             }
            },
            "type": "parcoords"
           }
          ],
          "pie": [
           {
            "automargin": true,
            "type": "pie"
           }
          ],
          "scatter": [
           {
            "marker": {
             "colorbar": {
              "outlinewidth": 0,
              "ticks": ""
             }
            },
            "type": "scatter"
           }
          ],
          "scatter3d": [
           {
            "line": {
             "colorbar": {
              "outlinewidth": 0,
              "ticks": ""
             }
            },
            "marker": {
             "colorbar": {
              "outlinewidth": 0,
              "ticks": ""
             }
            },
            "type": "scatter3d"
           }
          ],
          "scattercarpet": [
           {
            "marker": {
             "colorbar": {
              "outlinewidth": 0,
              "ticks": ""
             }
            },
            "type": "scattercarpet"
           }
          ],
          "scattergeo": [
           {
            "marker": {
             "colorbar": {
              "outlinewidth": 0,
              "ticks": ""
             }
            },
            "type": "scattergeo"
           }
          ],
          "scattergl": [
           {
            "marker": {
             "colorbar": {
              "outlinewidth": 0,
              "ticks": ""
             }
            },
            "type": "scattergl"
           }
          ],
          "scattermapbox": [
           {
            "marker": {
             "colorbar": {
              "outlinewidth": 0,
              "ticks": ""
             }
            },
            "type": "scattermapbox"
           }
          ],
          "scatterpolar": [
           {
            "marker": {
             "colorbar": {
              "outlinewidth": 0,
              "ticks": ""
             }
            },
            "type": "scatterpolar"
           }
          ],
          "scatterpolargl": [
           {
            "marker": {
             "colorbar": {
              "outlinewidth": 0,
              "ticks": ""
             }
            },
            "type": "scatterpolargl"
           }
          ],
          "scatterternary": [
           {
            "marker": {
             "colorbar": {
              "outlinewidth": 0,
              "ticks": ""
             }
            },
            "type": "scatterternary"
           }
          ],
          "surface": [
           {
            "colorbar": {
             "outlinewidth": 0,
             "ticks": ""
            },
            "colorscale": [
             [
              0,
              "#0d0887"
             ],
             [
              0.1111111111111111,
              "#46039f"
             ],
             [
              0.2222222222222222,
              "#7201a8"
             ],
             [
              0.3333333333333333,
              "#9c179e"
             ],
             [
              0.4444444444444444,
              "#bd3786"
             ],
             [
              0.5555555555555556,
              "#d8576b"
             ],
             [
              0.6666666666666666,
              "#ed7953"
             ],
             [
              0.7777777777777778,
              "#fb9f3a"
             ],
             [
              0.8888888888888888,
              "#fdca26"
             ],
             [
              1,
              "#f0f921"
             ]
            ],
            "type": "surface"
           }
          ],
          "table": [
           {
            "cells": {
             "fill": {
              "color": "#EBF0F8"
             },
             "line": {
              "color": "white"
             }
            },
            "header": {
             "fill": {
              "color": "#C8D4E3"
             },
             "line": {
              "color": "white"
             }
            },
            "type": "table"
           }
          ]
         },
         "layout": {
          "annotationdefaults": {
           "arrowcolor": "#2a3f5f",
           "arrowhead": 0,
           "arrowwidth": 1
          },
          "autotypenumbers": "strict",
          "coloraxis": {
           "colorbar": {
            "outlinewidth": 0,
            "ticks": ""
           }
          },
          "colorscale": {
           "diverging": [
            [
             0,
             "#8e0152"
            ],
            [
             0.1,
             "#c51b7d"
            ],
            [
             0.2,
             "#de77ae"
            ],
            [
             0.3,
             "#f1b6da"
            ],
            [
             0.4,
             "#fde0ef"
            ],
            [
             0.5,
             "#f7f7f7"
            ],
            [
             0.6,
             "#e6f5d0"
            ],
            [
             0.7,
             "#b8e186"
            ],
            [
             0.8,
             "#7fbc41"
            ],
            [
             0.9,
             "#4d9221"
            ],
            [
             1,
             "#276419"
            ]
           ],
           "sequential": [
            [
             0,
             "#0d0887"
            ],
            [
             0.1111111111111111,
             "#46039f"
            ],
            [
             0.2222222222222222,
             "#7201a8"
            ],
            [
             0.3333333333333333,
             "#9c179e"
            ],
            [
             0.4444444444444444,
             "#bd3786"
            ],
            [
             0.5555555555555556,
             "#d8576b"
            ],
            [
             0.6666666666666666,
             "#ed7953"
            ],
            [
             0.7777777777777778,
             "#fb9f3a"
            ],
            [
             0.8888888888888888,
             "#fdca26"
            ],
            [
             1,
             "#f0f921"
            ]
           ],
           "sequentialminus": [
            [
             0,
             "#0d0887"
            ],
            [
             0.1111111111111111,
             "#46039f"
            ],
            [
             0.2222222222222222,
             "#7201a8"
            ],
            [
             0.3333333333333333,
             "#9c179e"
            ],
            [
             0.4444444444444444,
             "#bd3786"
            ],
            [
             0.5555555555555556,
             "#d8576b"
            ],
            [
             0.6666666666666666,
             "#ed7953"
            ],
            [
             0.7777777777777778,
             "#fb9f3a"
            ],
            [
             0.8888888888888888,
             "#fdca26"
            ],
            [
             1,
             "#f0f921"
            ]
           ]
          },
          "colorway": [
           "#636efa",
           "#EF553B",
           "#00cc96",
           "#ab63fa",
           "#FFA15A",
           "#19d3f3",
           "#FF6692",
           "#B6E880",
           "#FF97FF",
           "#FECB52"
          ],
          "font": {
           "color": "#2a3f5f"
          },
          "geo": {
           "bgcolor": "white",
           "lakecolor": "white",
           "landcolor": "#E5ECF6",
           "showlakes": true,
           "showland": true,
           "subunitcolor": "white"
          },
          "hoverlabel": {
           "align": "left"
          },
          "hovermode": "closest",
          "mapbox": {
           "style": "light"
          },
          "paper_bgcolor": "white",
          "plot_bgcolor": "#E5ECF6",
          "polar": {
           "angularaxis": {
            "gridcolor": "white",
            "linecolor": "white",
            "ticks": ""
           },
           "bgcolor": "#E5ECF6",
           "radialaxis": {
            "gridcolor": "white",
            "linecolor": "white",
            "ticks": ""
           }
          },
          "scene": {
           "xaxis": {
            "backgroundcolor": "#E5ECF6",
            "gridcolor": "white",
            "gridwidth": 2,
            "linecolor": "white",
            "showbackground": true,
            "ticks": "",
            "zerolinecolor": "white"
           },
           "yaxis": {
            "backgroundcolor": "#E5ECF6",
            "gridcolor": "white",
            "gridwidth": 2,
            "linecolor": "white",
            "showbackground": true,
            "ticks": "",
            "zerolinecolor": "white"
           },
           "zaxis": {
            "backgroundcolor": "#E5ECF6",
            "gridcolor": "white",
            "gridwidth": 2,
            "linecolor": "white",
            "showbackground": true,
            "ticks": "",
            "zerolinecolor": "white"
           }
          },
          "shapedefaults": {
           "line": {
            "color": "#2a3f5f"
           }
          },
          "ternary": {
           "aaxis": {
            "gridcolor": "white",
            "linecolor": "white",
            "ticks": ""
           },
           "baxis": {
            "gridcolor": "white",
            "linecolor": "white",
            "ticks": ""
           },
           "bgcolor": "#E5ECF6",
           "caxis": {
            "gridcolor": "white",
            "linecolor": "white",
            "ticks": ""
           }
          },
          "title": {
           "x": 0.05
          },
          "xaxis": {
           "automargin": true,
           "gridcolor": "white",
           "linecolor": "white",
           "ticks": "",
           "title": {
            "standoff": 15
           },
           "zerolinecolor": "white",
           "zerolinewidth": 2
          },
          "yaxis": {
           "automargin": true,
           "gridcolor": "white",
           "linecolor": "white",
           "ticks": "",
           "title": {
            "standoff": 15
           },
           "zerolinecolor": "white",
           "zerolinewidth": 2
          }
         }
        },
        "title": {
         "text": "Timeline of the gun-related quotes in February 2018",
         "x": 0.5,
         "xanchor": "center"
        },
        "uniformtext": {
         "mode": "hide"
        },
        "xaxis": {
         "fixedrange": false,
         "tickmode": "array",
         "tickvals": [
          1,
          2,
          3,
          4,
          5,
          6,
          7,
          8,
          9,
          10,
          11,
          12,
          13,
          14,
          15,
          16,
          17,
          18,
          19,
          20,
          21,
          22,
          23,
          24,
          25,
          26,
          27,
          28
         ],
         "title": {
          "text": "Time"
         }
        },
        "yaxis": {
         "title": {
          "text": "Number of quotations"
         }
        }
       }
      },
      "text/html": [
       "<div>                            <div id=\"5c4bbe6c-b2d3-4abf-8018-bcaf5702070d\" class=\"plotly-graph-div\" style=\"height:525px; width:100%;\"></div>            <script type=\"text/javascript\">                require([\"plotly\"], function(Plotly) {                    window.PLOTLYENV=window.PLOTLYENV || {};                                    if (document.getElementById(\"5c4bbe6c-b2d3-4abf-8018-bcaf5702070d\")) {                    Plotly.newPlot(                        \"5c4bbe6c-b2d3-4abf-8018-bcaf5702070d\",                        [{\"marker\":{\"color\":[\"blue\",\"blue\",\"blue\",\"blue\",\"blue\",\"blue\",\"blue\",\"blue\",\"blue\",\"blue\",\"blue\",\"blue\",\"blue\",\"rgb(140, 106, 75)\",\"rgb(140, 126, 75)\",\"rgb(140, 146, 75)\",\"rgb(140, 166, 75)\",\"rgb(140, 186, 75)\",\"rgb(140, 206, 75)\",\"rgb(140, 206, 75)\",\"rgb(140, 206, 75)\",\"rgb(140, 206, 75)\",\"rgb(140, 206, 75)\",\"rgb(140, 206, 75)\",\"rgb(140, 206, 75)\",\"rgb(140, 206, 75)\",\"rgb(140, 206, 75)\",\"rgb(140, 206, 75)\"]},\"name\":\"Timeline\",\"x\":[1.0,2.0,3.0,4.0,5.0,6.0,7.0,8.0,9.0,10.0,11.0,12.0,13.0,14.0,15.0,16.0,17.0,18.0,19.0,20.0,21.0,22.0,23.0,24.0,25.0,26.0,27.0,28.0],\"y\":[58,118,32,26,158,88,52,78,62,37,11,191,107,636,2997,1582,1047,958,1359,1465,4934,3954,1910,1134,1285,1044,2321,4434],\"type\":\"bar\"},{\"marker\":{\"color\":\"blue\"},\"mode\":\"lines\",\"x\":[0,29],\"y\":[6000,6000],\"type\":\"scatter\"},{\"marker\":{\"color\":\"rgb(140, 106, 75)\",\"size\":10},\"mode\":\"markers\",\"name\":\"Events\",\"text\":\"14 Feb 2018:\\nStoneman Douglas High School shooting\",\"textposition\":\"top center\",\"x\":[14],\"y\":[6000],\"type\":\"scatter\"}],                        {\"template\":{\"data\":{\"bar\":[{\"error_x\":{\"color\":\"#2a3f5f\"},\"error_y\":{\"color\":\"#2a3f5f\"},\"marker\":{\"line\":{\"color\":\"#E5ECF6\",\"width\":0.5},\"pattern\":{\"fillmode\":\"overlay\",\"size\":10,\"solidity\":0.2}},\"type\":\"bar\"}],\"barpolar\":[{\"marker\":{\"line\":{\"color\":\"#E5ECF6\",\"width\":0.5},\"pattern\":{\"fillmode\":\"overlay\",\"size\":10,\"solidity\":0.2}},\"type\":\"barpolar\"}],\"carpet\":[{\"aaxis\":{\"endlinecolor\":\"#2a3f5f\",\"gridcolor\":\"white\",\"linecolor\":\"white\",\"minorgridcolor\":\"white\",\"startlinecolor\":\"#2a3f5f\"},\"baxis\":{\"endlinecolor\":\"#2a3f5f\",\"gridcolor\":\"white\",\"linecolor\":\"white\",\"minorgridcolor\":\"white\",\"startlinecolor\":\"#2a3f5f\"},\"type\":\"carpet\"}],\"choropleth\":[{\"colorbar\":{\"outlinewidth\":0,\"ticks\":\"\"},\"type\":\"choropleth\"}],\"contour\":[{\"colorbar\":{\"outlinewidth\":0,\"ticks\":\"\"},\"colorscale\":[[0.0,\"#0d0887\"],[0.1111111111111111,\"#46039f\"],[0.2222222222222222,\"#7201a8\"],[0.3333333333333333,\"#9c179e\"],[0.4444444444444444,\"#bd3786\"],[0.5555555555555556,\"#d8576b\"],[0.6666666666666666,\"#ed7953\"],[0.7777777777777778,\"#fb9f3a\"],[0.8888888888888888,\"#fdca26\"],[1.0,\"#f0f921\"]],\"type\":\"contour\"}],\"contourcarpet\":[{\"colorbar\":{\"outlinewidth\":0,\"ticks\":\"\"},\"type\":\"contourcarpet\"}],\"heatmap\":[{\"colorbar\":{\"outlinewidth\":0,\"ticks\":\"\"},\"colorscale\":[[0.0,\"#0d0887\"],[0.1111111111111111,\"#46039f\"],[0.2222222222222222,\"#7201a8\"],[0.3333333333333333,\"#9c179e\"],[0.4444444444444444,\"#bd3786\"],[0.5555555555555556,\"#d8576b\"],[0.6666666666666666,\"#ed7953\"],[0.7777777777777778,\"#fb9f3a\"],[0.8888888888888888,\"#fdca26\"],[1.0,\"#f0f921\"]],\"type\":\"heatmap\"}],\"heatmapgl\":[{\"colorbar\":{\"outlinewidth\":0,\"ticks\":\"\"},\"colorscale\":[[0.0,\"#0d0887\"],[0.1111111111111111,\"#46039f\"],[0.2222222222222222,\"#7201a8\"],[0.3333333333333333,\"#9c179e\"],[0.4444444444444444,\"#bd3786\"],[0.5555555555555556,\"#d8576b\"],[0.6666666666666666,\"#ed7953\"],[0.7777777777777778,\"#fb9f3a\"],[0.8888888888888888,\"#fdca26\"],[1.0,\"#f0f921\"]],\"type\":\"heatmapgl\"}],\"histogram\":[{\"marker\":{\"pattern\":{\"fillmode\":\"overlay\",\"size\":10,\"solidity\":0.2}},\"type\":\"histogram\"}],\"histogram2d\":[{\"colorbar\":{\"outlinewidth\":0,\"ticks\":\"\"},\"colorscale\":[[0.0,\"#0d0887\"],[0.1111111111111111,\"#46039f\"],[0.2222222222222222,\"#7201a8\"],[0.3333333333333333,\"#9c179e\"],[0.4444444444444444,\"#bd3786\"],[0.5555555555555556,\"#d8576b\"],[0.6666666666666666,\"#ed7953\"],[0.7777777777777778,\"#fb9f3a\"],[0.8888888888888888,\"#fdca26\"],[1.0,\"#f0f921\"]],\"type\":\"histogram2d\"}],\"histogram2dcontour\":[{\"colorbar\":{\"outlinewidth\":0,\"ticks\":\"\"},\"colorscale\":[[0.0,\"#0d0887\"],[0.1111111111111111,\"#46039f\"],[0.2222222222222222,\"#7201a8\"],[0.3333333333333333,\"#9c179e\"],[0.4444444444444444,\"#bd3786\"],[0.5555555555555556,\"#d8576b\"],[0.6666666666666666,\"#ed7953\"],[0.7777777777777778,\"#fb9f3a\"],[0.8888888888888888,\"#fdca26\"],[1.0,\"#f0f921\"]],\"type\":\"histogram2dcontour\"}],\"mesh3d\":[{\"colorbar\":{\"outlinewidth\":0,\"ticks\":\"\"},\"type\":\"mesh3d\"}],\"parcoords\":[{\"line\":{\"colorbar\":{\"outlinewidth\":0,\"ticks\":\"\"}},\"type\":\"parcoords\"}],\"pie\":[{\"automargin\":true,\"type\":\"pie\"}],\"scatter\":[{\"marker\":{\"colorbar\":{\"outlinewidth\":0,\"ticks\":\"\"}},\"type\":\"scatter\"}],\"scatter3d\":[{\"line\":{\"colorbar\":{\"outlinewidth\":0,\"ticks\":\"\"}},\"marker\":{\"colorbar\":{\"outlinewidth\":0,\"ticks\":\"\"}},\"type\":\"scatter3d\"}],\"scattercarpet\":[{\"marker\":{\"colorbar\":{\"outlinewidth\":0,\"ticks\":\"\"}},\"type\":\"scattercarpet\"}],\"scattergeo\":[{\"marker\":{\"colorbar\":{\"outlinewidth\":0,\"ticks\":\"\"}},\"type\":\"scattergeo\"}],\"scattergl\":[{\"marker\":{\"colorbar\":{\"outlinewidth\":0,\"ticks\":\"\"}},\"type\":\"scattergl\"}],\"scattermapbox\":[{\"marker\":{\"colorbar\":{\"outlinewidth\":0,\"ticks\":\"\"}},\"type\":\"scattermapbox\"}],\"scatterpolar\":[{\"marker\":{\"colorbar\":{\"outlinewidth\":0,\"ticks\":\"\"}},\"type\":\"scatterpolar\"}],\"scatterpolargl\":[{\"marker\":{\"colorbar\":{\"outlinewidth\":0,\"ticks\":\"\"}},\"type\":\"scatterpolargl\"}],\"scatterternary\":[{\"marker\":{\"colorbar\":{\"outlinewidth\":0,\"ticks\":\"\"}},\"type\":\"scatterternary\"}],\"surface\":[{\"colorbar\":{\"outlinewidth\":0,\"ticks\":\"\"},\"colorscale\":[[0.0,\"#0d0887\"],[0.1111111111111111,\"#46039f\"],[0.2222222222222222,\"#7201a8\"],[0.3333333333333333,\"#9c179e\"],[0.4444444444444444,\"#bd3786\"],[0.5555555555555556,\"#d8576b\"],[0.6666666666666666,\"#ed7953\"],[0.7777777777777778,\"#fb9f3a\"],[0.8888888888888888,\"#fdca26\"],[1.0,\"#f0f921\"]],\"type\":\"surface\"}],\"table\":[{\"cells\":{\"fill\":{\"color\":\"#EBF0F8\"},\"line\":{\"color\":\"white\"}},\"header\":{\"fill\":{\"color\":\"#C8D4E3\"},\"line\":{\"color\":\"white\"}},\"type\":\"table\"}]},\"layout\":{\"annotationdefaults\":{\"arrowcolor\":\"#2a3f5f\",\"arrowhead\":0,\"arrowwidth\":1},\"autotypenumbers\":\"strict\",\"coloraxis\":{\"colorbar\":{\"outlinewidth\":0,\"ticks\":\"\"}},\"colorscale\":{\"diverging\":[[0,\"#8e0152\"],[0.1,\"#c51b7d\"],[0.2,\"#de77ae\"],[0.3,\"#f1b6da\"],[0.4,\"#fde0ef\"],[0.5,\"#f7f7f7\"],[0.6,\"#e6f5d0\"],[0.7,\"#b8e186\"],[0.8,\"#7fbc41\"],[0.9,\"#4d9221\"],[1,\"#276419\"]],\"sequential\":[[0.0,\"#0d0887\"],[0.1111111111111111,\"#46039f\"],[0.2222222222222222,\"#7201a8\"],[0.3333333333333333,\"#9c179e\"],[0.4444444444444444,\"#bd3786\"],[0.5555555555555556,\"#d8576b\"],[0.6666666666666666,\"#ed7953\"],[0.7777777777777778,\"#fb9f3a\"],[0.8888888888888888,\"#fdca26\"],[1.0,\"#f0f921\"]],\"sequentialminus\":[[0.0,\"#0d0887\"],[0.1111111111111111,\"#46039f\"],[0.2222222222222222,\"#7201a8\"],[0.3333333333333333,\"#9c179e\"],[0.4444444444444444,\"#bd3786\"],[0.5555555555555556,\"#d8576b\"],[0.6666666666666666,\"#ed7953\"],[0.7777777777777778,\"#fb9f3a\"],[0.8888888888888888,\"#fdca26\"],[1.0,\"#f0f921\"]]},\"colorway\":[\"#636efa\",\"#EF553B\",\"#00cc96\",\"#ab63fa\",\"#FFA15A\",\"#19d3f3\",\"#FF6692\",\"#B6E880\",\"#FF97FF\",\"#FECB52\"],\"font\":{\"color\":\"#2a3f5f\"},\"geo\":{\"bgcolor\":\"white\",\"lakecolor\":\"white\",\"landcolor\":\"#E5ECF6\",\"showlakes\":true,\"showland\":true,\"subunitcolor\":\"white\"},\"hoverlabel\":{\"align\":\"left\"},\"hovermode\":\"closest\",\"mapbox\":{\"style\":\"light\"},\"paper_bgcolor\":\"white\",\"plot_bgcolor\":\"#E5ECF6\",\"polar\":{\"angularaxis\":{\"gridcolor\":\"white\",\"linecolor\":\"white\",\"ticks\":\"\"},\"bgcolor\":\"#E5ECF6\",\"radialaxis\":{\"gridcolor\":\"white\",\"linecolor\":\"white\",\"ticks\":\"\"}},\"scene\":{\"xaxis\":{\"backgroundcolor\":\"#E5ECF6\",\"gridcolor\":\"white\",\"gridwidth\":2,\"linecolor\":\"white\",\"showbackground\":true,\"ticks\":\"\",\"zerolinecolor\":\"white\"},\"yaxis\":{\"backgroundcolor\":\"#E5ECF6\",\"gridcolor\":\"white\",\"gridwidth\":2,\"linecolor\":\"white\",\"showbackground\":true,\"ticks\":\"\",\"zerolinecolor\":\"white\"},\"zaxis\":{\"backgroundcolor\":\"#E5ECF6\",\"gridcolor\":\"white\",\"gridwidth\":2,\"linecolor\":\"white\",\"showbackground\":true,\"ticks\":\"\",\"zerolinecolor\":\"white\"}},\"shapedefaults\":{\"line\":{\"color\":\"#2a3f5f\"}},\"ternary\":{\"aaxis\":{\"gridcolor\":\"white\",\"linecolor\":\"white\",\"ticks\":\"\"},\"baxis\":{\"gridcolor\":\"white\",\"linecolor\":\"white\",\"ticks\":\"\"},\"bgcolor\":\"#E5ECF6\",\"caxis\":{\"gridcolor\":\"white\",\"linecolor\":\"white\",\"ticks\":\"\"}},\"title\":{\"x\":0.05},\"xaxis\":{\"automargin\":true,\"gridcolor\":\"white\",\"linecolor\":\"white\",\"ticks\":\"\",\"title\":{\"standoff\":15},\"zerolinecolor\":\"white\",\"zerolinewidth\":2},\"yaxis\":{\"automargin\":true,\"gridcolor\":\"white\",\"linecolor\":\"white\",\"ticks\":\"\",\"title\":{\"standoff\":15},\"zerolinecolor\":\"white\",\"zerolinewidth\":2}}},\"uniformtext\":{\"mode\":\"hide\"},\"xaxis\":{\"tickmode\":\"array\",\"tickvals\":[1,2,3,4,5,6,7,8,9,10,11,12,13,14,15,16,17,18,19,20,21,22,23,24,25,26,27,28],\"title\":{\"text\":\"Time\"},\"fixedrange\":false},\"title\":{\"text\":\"Timeline of the gun-related quotes in February 2018\",\"x\":0.5,\"xanchor\":\"center\"},\"showlegend\":false,\"yaxis\":{\"title\":{\"text\":\"Number of quotations\"}}},                        {\"responsive\": true}                    ).then(function(){\n",
       "                            \n",
       "var gd = document.getElementById('5c4bbe6c-b2d3-4abf-8018-bcaf5702070d');\n",
       "var x = new MutationObserver(function (mutations, observer) {{\n",
       "        var display = window.getComputedStyle(gd).display;\n",
       "        if (!display || display === 'none') {{\n",
       "            console.log([gd, 'removed!']);\n",
       "            Plotly.purge(gd);\n",
       "            observer.disconnect();\n",
       "        }}\n",
       "}});\n",
       "\n",
       "// Listen for the removal of the full notebook cells\n",
       "var notebookContainer = gd.closest('#notebook-container');\n",
       "if (notebookContainer) {{\n",
       "    x.observe(notebookContainer, {childList: true});\n",
       "}}\n",
       "\n",
       "// Listen for the clearing of the current output cell\n",
       "var outputEl = gd.closest('.output');\n",
       "if (outputEl) {{\n",
       "    x.observe(outputEl, {childList: true});\n",
       "}}\n",
       "\n",
       "                        })                };                });            </script>        </div>"
      ]
     },
     "metadata": {},
     "output_type": "display_data"
    },
    {
     "data": {
      "text/plain": [
       "'https://plotly.com/~patron.theo/19/'"
      ]
     },
     "execution_count": 113,
     "metadata": {},
     "output_type": "execute_result"
    }
   ],
   "source": [
    "# Interractive figure for the website : number of quotes in February 2018\n",
    "\n",
    "fig = go.Figure()\n",
    "\n",
    "colors = ['blue',] * 28  # 'rgb(31, 119, 180)'\n",
    "colors[13] = 'rgb(140, 106, 75)'\n",
    "colors[14] = 'rgb(140, 126, 75)'\n",
    "colors[15] = 'rgb(140, 146, 75)'\n",
    "colors[16] = 'rgb(140, 166, 75)'\n",
    "colors[17] = 'rgb(140, 186, 75)'\n",
    "colors[18] = 'rgb(140, 206, 75)'\n",
    "colors[19] = 'rgb(140, 206, 75)'\n",
    "colors[20] = 'rgb(140, 206, 75)'\n",
    "colors[21] = 'rgb(140, 206, 75)'\n",
    "colors[22] = 'rgb(140, 206, 75)'\n",
    "colors[23] = 'rgb(140, 206, 75)'\n",
    "colors[24] = 'rgb(140, 206, 75)'\n",
    "colors[25] = 'rgb(140, 206, 75)'\n",
    "colors[26] = 'rgb(140, 206, 75)'\n",
    "colors[27] = 'rgb(140, 206, 75)'\n",
    "colors2 = colors[13]\n",
    "\n",
    "\n",
    "fig.add_trace(go.Bar(x=np.linspace(1,28,28), y=feb.groupby(feb['date'].dt.day).numOccurrences.sum(),\n",
    "                     marker_color=colors, name='Timeline'))\n",
    "\n",
    "fig.update_layout(\n",
    "    uniformtext=dict(mode='hide'),\n",
    "    xaxis = dict(\n",
    "        tickmode = 'array',\n",
    "        tickvals = np.linspace(1,28,28, dtype='int')\n",
    "    ),\n",
    "    title={'text':'Timeline of the gun-related quotes in February 2018', 'x':0.5, 'xanchor':'center'},\n",
    "   showlegend=False, \n",
    "    )\n",
    "\n",
    "fig.update_xaxes(title_text='Time', fixedrange=False)\n",
    "fig.update_yaxes(title_text='Number of quotations')\n",
    "\n",
    "lab_event = labels_events[5]\n",
    "\n",
    "fig.add_trace(go.Scatter(\n",
    "    x=[0, 29],\n",
    "    y=[6000, 6000],\n",
    "    mode=\"lines\",\n",
    "    marker_color=colors[0]\n",
    "))\n",
    "\n",
    "fig.add_trace(go.Scatter(\n",
    "    x=[14],\n",
    "    y=[6000],\n",
    "    mode=\"markers\",\n",
    "    marker_color=colors2,\n",
    "    marker_size=10,\n",
    "    text=lab_event,\n",
    "    name=\"Events\",\n",
    "    textposition=\"top center\"\n",
    "))\n",
    "\n",
    "fig.show()\n",
    "# fig.write_html(\"timelineyouhouuuu.html\")\n",
    "\n",
    "# Save the plot on Theo's account\n",
    "# py.plot(fig, filename = 'timeline-feb2018', auto_open=True)"
   ]
  },
  {
   "cell_type": "code",
   "execution_count": null,
   "id": "a1a96192",
   "metadata": {},
   "outputs": [],
   "source": []
  },
  {
   "cell_type": "code",
   "execution_count": null,
   "id": "ba2a2343",
   "metadata": {},
   "outputs": [],
   "source": []
  },
  {
   "cell_type": "code",
   "execution_count": null,
   "id": "14a3c054",
   "metadata": {},
   "outputs": [],
   "source": []
  }
 ],
 "metadata": {
  "kernelspec": {
   "display_name": "Python 3 (ipykernel)",
   "language": "python",
   "name": "python3"
  },
  "language_info": {
   "codemirror_mode": {
    "name": "ipython",
    "version": 3
   },
   "file_extension": ".py",
   "mimetype": "text/x-python",
   "name": "python",
   "nbconvert_exporter": "python",
   "pygments_lexer": "ipython3",
   "version": "3.8.3"
  }
 },
 "nbformat": 4,
 "nbformat_minor": 5
}
