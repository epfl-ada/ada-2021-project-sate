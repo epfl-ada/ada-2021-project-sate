{
 "cells": [
  {
   "cell_type": "code",
   "execution_count": 1,
   "id": "e2ec8abe",
   "metadata": {},
   "outputs": [
    {
     "name": "stdout",
     "output_type": "stream",
     "text": [
      "Requirement already satisfied: pyLDAvis in c:\\users\\estelle\\anaconda3\\lib\\site-packages (2.1.2)\n",
      "Requirement already satisfied: wheel>=0.23.0 in c:\\users\\estelle\\anaconda3\\lib\\site-packages (from pyLDAvis) (0.37.0)\n",
      "Requirement already satisfied: numpy>=1.9.2 in c:\\users\\estelle\\anaconda3\\lib\\site-packages (from pyLDAvis) (1.21.4)\n",
      "Requirement already satisfied: scipy>=0.18.0 in c:\\users\\estelle\\anaconda3\\lib\\site-packages (from pyLDAvis) (1.7.1)\n",
      "Requirement already satisfied: pandas>=0.17.0 in c:\\users\\estelle\\anaconda3\\lib\\site-packages (from pyLDAvis) (1.3.3)\n",
      "Requirement already satisfied: joblib>=0.8.4 in c:\\users\\estelle\\anaconda3\\lib\\site-packages (from pyLDAvis) (1.0.1)\n",
      "Requirement already satisfied: jinja2>=2.7.2 in c:\\users\\estelle\\anaconda3\\lib\\site-packages (from pyLDAvis) (3.0.1)\n",
      "Requirement already satisfied: numexpr in c:\\users\\estelle\\anaconda3\\lib\\site-packages (from pyLDAvis) (2.7.3)\n",
      "Requirement already satisfied: pytest in c:\\users\\estelle\\anaconda3\\lib\\site-packages (from pyLDAvis) (6.2.4)\n",
      "Requirement already satisfied: future in c:\\users\\estelle\\anaconda3\\lib\\site-packages (from pyLDAvis) (0.18.2)\n",
      "Requirement already satisfied: funcy in c:\\users\\estelle\\anaconda3\\lib\\site-packages (from pyLDAvis) (1.16)\n",
      "Requirement already satisfied: MarkupSafe>=2.0 in c:\\users\\estelle\\anaconda3\\lib\\site-packages (from jinja2>=2.7.2->pyLDAvis) (2.0.1)\n",
      "Requirement already satisfied: pytz>=2017.3 in c:\\users\\estelle\\anaconda3\\lib\\site-packages (from pandas>=0.17.0->pyLDAvis) (2021.3)\n",
      "Requirement already satisfied: python-dateutil>=2.7.3 in c:\\users\\estelle\\anaconda3\\lib\\site-packages (from pandas>=0.17.0->pyLDAvis) (2.8.2)\n",
      "Requirement already satisfied: attrs>=19.2.0 in c:\\users\\estelle\\anaconda3\\lib\\site-packages (from pytest->pyLDAvis) (21.2.0)\n",
      "Requirement already satisfied: iniconfig in c:\\users\\estelle\\anaconda3\\lib\\site-packages (from pytest->pyLDAvis) (1.1.1)\n",
      "Requirement already satisfied: packaging in c:\\users\\estelle\\anaconda3\\lib\\site-packages (from pytest->pyLDAvis) (21.0)\n",
      "Requirement already satisfied: pluggy<1.0.0a1,>=0.12 in c:\\users\\estelle\\anaconda3\\lib\\site-packages (from pytest->pyLDAvis) (0.13.1)\n",
      "Requirement already satisfied: py>=1.8.2 in c:\\users\\estelle\\anaconda3\\lib\\site-packages (from pytest->pyLDAvis) (1.10.0)\n",
      "Requirement already satisfied: toml in c:\\users\\estelle\\anaconda3\\lib\\site-packages (from pytest->pyLDAvis) (0.10.2)\n",
      "Requirement already satisfied: atomicwrites>=1.0 in c:\\users\\estelle\\anaconda3\\lib\\site-packages (from pytest->pyLDAvis) (1.4.0)\n",
      "Requirement already satisfied: colorama in c:\\users\\estelle\\anaconda3\\lib\\site-packages (from pytest->pyLDAvis) (0.4.4)\n",
      "Requirement already satisfied: six>=1.5 in c:\\users\\estelle\\anaconda3\\lib\\site-packages (from python-dateutil>=2.7.3->pandas>=0.17.0->pyLDAvis) (1.16.0)\n",
      "Requirement already satisfied: pyparsing>=2.0.2 in c:\\users\\estelle\\anaconda3\\lib\\site-packages (from packaging->pytest->pyLDAvis) (2.4.7)\n",
      "Requirement already satisfied: vaderSentiment in c:\\users\\estelle\\anaconda3\\lib\\site-packages (3.3.2)\n",
      "Requirement already satisfied: requests in c:\\users\\estelle\\anaconda3\\lib\\site-packages (from vaderSentiment) (2.26.0)\n",
      "Requirement already satisfied: charset-normalizer~=2.0.0 in c:\\users\\estelle\\anaconda3\\lib\\site-packages (from requests->vaderSentiment) (2.0.4)\n",
      "Requirement already satisfied: idna<4,>=2.5 in c:\\users\\estelle\\anaconda3\\lib\\site-packages (from requests->vaderSentiment) (3.2)\n",
      "Requirement already satisfied: certifi>=2017.4.17 in c:\\users\\estelle\\anaconda3\\lib\\site-packages (from requests->vaderSentiment) (2021.10.8)\n",
      "Requirement already satisfied: urllib3<1.27,>=1.21.1 in c:\\users\\estelle\\anaconda3\\lib\\site-packages (from requests->vaderSentiment) (1.26.7)\n"
     ]
    }
   ],
   "source": [
    "%load_ext autoreload\n",
    "%autoreload 2\n",
    "\n",
    "import warnings; warnings.simplefilter('ignore')\n",
    "import os, codecs, string, random\n",
    "import numpy as np\n",
    "from numpy.random import seed as random_seed\n",
    "from numpy.random import shuffle as random_shuffle\n",
    "import matplotlib.pyplot as plt\n",
    "%matplotlib inline  \n",
    "\n",
    "seed = 42\n",
    "random.seed(seed)\n",
    "np.random.seed(seed)\n",
    "\n",
    "#NLP libraries\n",
    "import spacy, nltk, gensim, sklearn\n",
    "!pip install pyLDAvis\n",
    "import pyLDAvis.gensim\n",
    "\n",
    "#Vader\n",
    "import vaderSentiment\n",
    "!pip install vaderSentiment\n",
    "from vaderSentiment.vaderSentiment import SentimentIntensityAnalyzer\n",
    "\n",
    "#Scikit imports\n",
    "from sklearn.feature_extraction.text import CountVectorizer\n",
    "from sklearn.model_selection import train_test_split\n",
    "from sklearn.model_selection import cross_val_score\n",
    "from sklearn.linear_model import LogisticRegression\n",
    "from sklearn import preprocessing\n",
    "from sklearn.preprocessing import StandardScaler\n",
    "from sklearn.utils import shuffle\n",
    "\n",
    "#The data\n",
    "corpus_root = 'books/'"
   ]
  },
  {
   "cell_type": "code",
   "execution_count": 2,
   "id": "c77bb733",
   "metadata": {},
   "outputs": [],
   "source": [
    "from empath import Empath\n",
    "lexicon = Empath()"
   ]
  },
  {
   "cell_type": "code",
   "execution_count": 3,
   "id": "752051e2",
   "metadata": {},
   "outputs": [
    {
     "name": "stdout",
     "output_type": "stream",
     "text": [
      "help\n",
      "office\n",
      "dance\n",
      "money\n",
      "wedding\n",
      "domestic_work\n",
      "sleep\n",
      "medical_emergency\n",
      "cold\n",
      "hate\n",
      "cheerfulness\n",
      "aggression\n",
      "occupation\n",
      "envy\n",
      "anticipation\n"
     ]
    }
   ],
   "source": [
    "for cat in list(lexicon.cats.keys())[:15]:\n",
    "    print(cat)"
   ]
  },
  {
   "cell_type": "code",
   "execution_count": null,
   "id": "45277762",
   "metadata": {},
   "outputs": [],
   "source": [
    "lexicon_field = []"
   ]
  },
  {
   "cell_type": "code",
   "execution_count": null,
   "id": "455ddc44",
   "metadata": {},
   "outputs": [],
   "source": []
  },
  {
   "cell_type": "code",
   "execution_count": null,
   "id": "c567071f",
   "metadata": {},
   "outputs": [],
   "source": []
  },
  {
   "cell_type": "code",
   "execution_count": null,
   "id": "e1ea0084",
   "metadata": {},
   "outputs": [],
   "source": []
  }
 ],
 "metadata": {
  "kernelspec": {
   "display_name": "Python 3 (ipykernel)",
   "language": "python",
   "name": "python3"
  },
  "language_info": {
   "codemirror_mode": {
    "name": "ipython",
    "version": 3
   },
   "file_extension": ".py",
   "mimetype": "text/x-python",
   "name": "python",
   "nbconvert_exporter": "python",
   "pygments_lexer": "ipython3",
   "version": "3.8.3"
  }
 },
 "nbformat": 4,
 "nbformat_minor": 5
}
