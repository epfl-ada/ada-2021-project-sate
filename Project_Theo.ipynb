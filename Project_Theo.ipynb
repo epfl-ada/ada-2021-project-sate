{
 "cells": [
  {
   "cell_type": "markdown",
   "metadata": {},
   "source": [
    "# Import"
   ]
  },
  {
   "cell_type": "code",
   "execution_count": 24,
   "metadata": {},
   "outputs": [],
   "source": [
    "import pandas as pd\n",
    "import numpy as np\n",
    "import matplotlib.pyplot as plt\n",
    "import json\n",
    "import bz2\n",
    "import urllib\n",
    "from datetime import datetime, date\n",
    "\n",
    "data_folder = 'data/'"
   ]
  },
  {
   "cell_type": "code",
   "execution_count": 17,
   "metadata": {},
   "outputs": [
    {
     "name": "stderr",
     "output_type": "stream",
     "text": [
      "[nltk_data] Downloading package vader_lexicon to\n",
      "[nltk_data]     /Users/theopatron/nltk_data...\n",
      "[nltk_data]   Package vader_lexicon is already up-to-date!\n"
     ]
    }
   ],
   "source": [
    "import nltk\n",
    "nltk.download('vader_lexicon')\n",
    "from nltk.sentiment.vader import SentimentIntensityAnalyzer\n",
    "sid = SentimentIntensityAnalyzer()"
   ]
  },
  {
   "cell_type": "markdown",
   "metadata": {},
   "source": [
    "# Creation of extended files"
   ]
  },
  {
   "cell_type": "markdown",
   "metadata": {},
   "source": [
    "### FOR THE TIMELINE\n",
    "keep quotation mentionning guns \n",
    "\n",
    "### FOR THE ANALYSIS\n",
    "keep quotation mentionning guns <br/>\n",
    "keep only those that have a speaker <br/>\n",
    "keep american speakers <br/>\n",
    "add colums corresponding to characteristics of speaker <br/>"
   ]
  },
  {
   "cell_type": "code",
   "execution_count": 18,
   "metadata": {},
   "outputs": [],
   "source": [
    "lexical_field = ['guns', 'rifle', 'slaughter'] # To be continued\n",
    "\n",
    "speakers = pd.read_parquet(data_folder + 'speaker_attributes.parquet')\n",
    "label = pd.read_csv(data_folder + 'wikidata_labels_descriptions_quotebank.csv.bz2', compression='bz2', index_col='QID')"
   ]
  },
  {
   "cell_type": "code",
   "execution_count": 65,
   "metadata": {},
   "outputs": [
    {
     "ename": "TypeError",
     "evalue": "'NoneType' object is not subscriptable",
     "output_type": "error",
     "traceback": [
      "\u001b[0;31m---------------------------------------------------------------------------\u001b[0m",
      "\u001b[0;31mTypeError\u001b[0m                                 Traceback (most recent call last)",
      "\u001b[0;32m/var/folders/xx/w4lt_wwn6ds0zttxqx7l2dpc0000gn/T/ipykernel_5306/1989880704.py\u001b[0m in \u001b[0;36m<module>\u001b[0;34m\u001b[0m\n\u001b[0;32m----> 1\u001b[0;31m \u001b[0mspeakers\u001b[0m\u001b[0;34m.\u001b[0m\u001b[0mloc\u001b[0m\u001b[0;34m[\u001b[0m\u001b[0;36m123\u001b[0m\u001b[0;34m]\u001b[0m\u001b[0;34m.\u001b[0m\u001b[0mdate_of_birth\u001b[0m\u001b[0;34m[\u001b[0m\u001b[0;36m0\u001b[0m\u001b[0;34m]\u001b[0m\u001b[0;34m\u001b[0m\u001b[0;34m\u001b[0m\u001b[0m\n\u001b[0m",
      "\u001b[0;31mTypeError\u001b[0m: 'NoneType' object is not subscriptable"
     ]
    }
   ],
   "source": [
    "speakers.loc[123].date_of_birth[0]"
   ]
  },
  {
   "cell_type": "code",
   "execution_count": 54,
   "metadata": {},
   "outputs": [
    {
     "ename": "ValueError",
     "evalue": "month must be in 1..12",
     "output_type": "error",
     "traceback": [
      "\u001b[0;31m---------------------------------------------------------------------------\u001b[0m",
      "\u001b[0;31mValueError\u001b[0m                                Traceback (most recent call last)",
      "\u001b[0;32m/var/folders/xx/w4lt_wwn6ds0zttxqx7l2dpc0000gn/T/ipykernel_5306/3556773335.py\u001b[0m in \u001b[0;36m<module>\u001b[0;34m\u001b[0m\n\u001b[0;32m----> 1\u001b[0;31m \u001b[0mdatetime\u001b[0m\u001b[0;34m(\u001b[0m\u001b[0mint\u001b[0m\u001b[0;34m(\u001b[0m\u001b[0;34m'0050'\u001b[0m\u001b[0;34m)\u001b[0m\u001b[0;34m,\u001b[0m \u001b[0mint\u001b[0m\u001b[0;34m(\u001b[0m\u001b[0;34m'00'\u001b[0m\u001b[0;34m)\u001b[0m\u001b[0;34m,\u001b[0m \u001b[0mint\u001b[0m\u001b[0;34m(\u001b[0m\u001b[0;34m'00'\u001b[0m\u001b[0;34m)\u001b[0m\u001b[0;34m)\u001b[0m\u001b[0;34m\u001b[0m\u001b[0;34m\u001b[0m\u001b[0m\n\u001b[0m",
      "\u001b[0;31mValueError\u001b[0m: month must be in 1..12"
     ]
    }
   ],
   "source": [
    "datetime(int('0050'), int('00'), int('00'))"
   ]
  },
  {
   "cell_type": "code",
   "execution_count": 73,
   "metadata": {},
   "outputs": [
    {
     "name": "stdout",
     "output_type": "stream",
     "text": [
      "None\n"
     ]
    }
   ],
   "source": [
    "try:\n",
    "    born = datetime.strptime(speakers.loc[125].date_of_birth[0][1:11], \"%Y-%m-%d\").date()\n",
    "    today = date.today()\n",
    "    age = today.year - born.year - ((today.month, today.day) < (born.month, born.day))\n",
    "except:\n",
    "    age = None\n",
    "\n",
    "print(age)"
   ]
  },
  {
   "cell_type": "code",
   "execution_count": 86,
   "metadata": {},
   "outputs": [
    {
     "data": {
      "text/plain": [
       "{'quoteID': '2015-12-08-003771',\n",
       " 'quotation': 'After the failure of the U.S. Congress to pass the provision last week, North Carolina should take the lead on saying no to terror suspects getting guns,',\n",
       " 'speaker': 'Roy Cooper',\n",
       " 'qids': ['Q16106910', 'Q7372694', 'Q7372695'],\n",
       " 'date': '2015-12-08 16:15:05',\n",
       " 'numOccurrences': 1,\n",
       " 'probas': [['Roy Cooper', '0.928'],\n",
       "  ['None', '0.0574'],\n",
       "  ['Frank Perry', '0.0146']],\n",
       " 'urls': ['http://digtriad.com/story/news/2015/12/08/should-people-no-fly-list-allowed-buy-guns/76996690/'],\n",
       " 'phase': 'E',\n",
       " 'gender': 'male',\n",
       " 'nationality': ['United States of America'],\n",
       " 'occupation': ['politician'],\n",
       " 'age': 76,\n",
       " 'party': ['Republican Party']}"
      ]
     },
     "metadata": {},
     "output_type": "display_data"
    },
    {
     "data": {
      "text/plain": [
       "{'quoteID': '2015-11-14-003251',\n",
       " 'quotation': 'And I will tell you what -- you can say what you want, if they had guns, if our people had guns, if they were allowed to carry, it would have been a much, much different situation,',\n",
       " 'speaker': 'Donald Trump',\n",
       " 'qids': ['Q22686', 'Q27947481'],\n",
       " 'date': '2015-11-14 22:45:14',\n",
       " 'numOccurrences': 6,\n",
       " 'probas': [['Donald Trump', '0.798'], ['None', '0.202']],\n",
       " 'urls': ['http://news.yahoo.com/paris-wouldve-different-french-armed-trump-224514131.html',\n",
       "  'http://www.themalaymailonline.com/world/article/paris-wouldve-been-different-if-french-armed-says-trump',\n",
       "  'http://rappler.com/world/regions/us-canada/112824-paris-attacks-donald-trump',\n",
       "  'http://malaysiandigest.com/world/579053-trump-paris-would-ve-been-different-if-french-armed.html',\n",
       "  'http://www.freemalaysiatoday.com/category/world/2015/11/15/trump-paris-wouldve-been-different-if-french-armed/',\n",
       "  'http://hotair.com/headlines/archives/2015/11/15/if-they-were-allowed-to-carry-it-would-have-been-a-much-much-different-situation/'],\n",
       " 'phase': 'E',\n",
       " 'gender': 'male',\n",
       " 'nationality': ['United States of America'],\n",
       " 'occupation': ['business magnate',\n",
       "  'investor',\n",
       "  'restaurateur',\n",
       "  'non-fiction writer',\n",
       "  'entrepreneur',\n",
       "  'politician',\n",
       "  'businessperson',\n",
       "  'real estate developer',\n",
       "  'game show host',\n",
       "  'real estate entrepreneur',\n",
       "  'television producer',\n",
       "  'film producer',\n",
       "  'writer',\n",
       "  'actor',\n",
       "  'chief executive officer',\n",
       "  'television presenter',\n",
       "  'conspiracy theorist',\n",
       "  'billionaire'],\n",
       " 'age': 75,\n",
       " 'party': ['Republican Party',\n",
       "  'Independence Party of America',\n",
       "  'Democratic Party',\n",
       "  'Republican Party',\n",
       "  'Republican Party']}"
      ]
     },
     "metadata": {},
     "output_type": "display_data"
    }
   ],
   "source": [
    "path_to_file = data_folder + 'quotes-2015.json.bz2' \n",
    "path_to_out = data_folder + 'quotes-2015-extended.json.bz2'\n",
    "\n",
    "iter = 0\n",
    "\n",
    "with bz2.open(path_to_file, 'rb') as s_file:\n",
    "    with bz2.open(path_to_out, 'wb') as d_file:\n",
    "        for instance in s_file:\n",
    "            instance = json.loads(instance) # loading a sample\n",
    "            iter += 1\n",
    "            if any(substring in instance['quotation'] for substring in lexical_field) and instance['qids'] != []: #We keep only quotation containing words of the lexical field and where there is a speaker\n",
    "                speaker = speakers.loc[speakers['id'] == instance['qids'][0]].squeeze()\n",
    "                \n",
    "                if speaker.nationality is not None: \n",
    "                    if any(substring == 'Q30' for substring in speaker.nationality): #keep american speaker\n",
    "\n",
    "                        #We add the gender\n",
    "                        instance['gender'] = 'male' if (speaker['gender'][0] == 'Q6581097') else 'female' \n",
    "\n",
    "                        #We add the nationalities\n",
    "                        instance['nationality'] = []\n",
    "                        for i in speaker['nationality']: \n",
    "                            nat = label.loc[i]['Label']\n",
    "                            instance['nationality'].append(nat)\n",
    "\n",
    "                        #We add the occupations\n",
    "                        instance['occupation'] = []\n",
    "                        for i in speaker['occupation']:\n",
    "                            occ = label.loc[i]['Label']\n",
    "                            instance['occupation'].append(occ)\n",
    "\n",
    "                        #We add the date of birth\n",
    "                        try:\n",
    "                            born = datetime.strptime(speaker.date_of_birth[0][1:11], \"%Y-%m-%d\").date()\n",
    "                            today = date.today()\n",
    "                            age = today.year - born.year - ((today.month, today.day) < (born.month, born.day))\n",
    "                        except:\n",
    "                            age = None\n",
    "                        instance['age'] = age\n",
    "\n",
    "                        # instance['ethnic_group'] = label.loc[speaker.ethnic_group]['Label'] if (speaker.ethnic_group is not None) else None\n",
    "\n",
    "                        if speaker.party is not None:\n",
    "                            instance['party'] = []\n",
    "                            for i in speaker['party']:\n",
    "                                part = label.loc[i]['Label']\n",
    "                                instance['party'].append(part)\n",
    "                        else:\n",
    "                            instance['party'] = None\n",
    "\n",
    "                        # instance['religion'] = label.loc[speaker.religion]['Label'] if (speaker.religion is not None) else None\n",
    "                        d_file.write((json.dumps(instance)+'\\n').encode('utf-8')) # writing in the new file\n",
    "  \n",
    "            #to test\n",
    "            if iter > 2000:\n",
    "                break"
   ]
  },
  {
   "cell_type": "markdown",
   "metadata": {},
   "source": [
    "# Analysis"
   ]
  },
  {
   "cell_type": "code",
   "execution_count": 14,
   "metadata": {},
   "outputs": [
    {
     "name": "stdout",
     "output_type": "stream",
     "text": [
      "Processing chunk with 4 rows\n",
      "... through you -- the vibrant young athletes who are here today -- and through your hosts of modern Germany who have graciously welcomed you here, we have the opportunity to look forward, not backward.\n",
      "' It is not now, nor has it ever been, the gold standard of trade agreements,' Sanders said. And he reached back to Clinton's 2002 vote to support the war in Iraq, an issue that plagued her eight years ago when she took the stage here. `When I came to that fork in the road I took the right road, even though it was not the popular road at the time,' he said.\n",
      "-0.4822\n",
      "... through you -- the vibrant young athletes who are here today -- and through your hosts of modern Germany who have graciously welcomed you here, we have the opportunity to look forward, not backward.\n",
      "0.8979\n",
      "I am incredibly pleased that my message is resonating with people all over the United States. There are so many American's that are ready to make our country great again, and I am the only one who can make it happen. We will bring back the jobs, bring back the money, and bring back the spirit!\n",
      "0.9272\n",
      "I am proud that once again I got to fly the South African flag internationally and to showcase the capacity available in rural women,\n",
      "0.4767\n"
     ]
    }
   ],
   "source": [
    "def process_chunk(chunk):\n",
    "    print(f'Processing chunk with {len(chunk)} rows')\n",
    "    display(chunk)\n",
    "    # print(chunk.quotation[1])\n",
    "    # chunk['scores'] = chunk['quotation'].apply(lambda review: sid.polarity_scores(review))\n",
    "    # chunk['compound']  = chunk['scores'].apply(lambda score_dict: score_dict['compound'])\n",
    "    # for id, row in chunk.iterrows():\n",
    "    #     print(chunk.quotation[id])\n",
    "    #     print(chunk.compound[id])\n",
    "\n",
    "with pd.read_json(data_folder + 'quotes-2015-extended.json.bz2', lines=True, compression='bz2', chunksize=10000) as df_reader:\n",
    "    for chunk in df_reader:\n",
    "        process_chunk(chunk)\n",
    "        break"
   ]
  }
 ],
 "metadata": {
  "interpreter": {
   "hash": "c6e4e9f98eb68ad3b7c296f83d20e6de614cb42e90992a65aa266555a3137d0d"
  },
  "kernelspec": {
   "display_name": "Python 3.9.7 64-bit ('base': conda)",
   "name": "python3"
  },
  "language_info": {
   "codemirror_mode": {
    "name": "ipython",
    "version": 3
   },
   "file_extension": ".py",
   "mimetype": "text/x-python",
   "name": "python",
   "nbconvert_exporter": "python",
   "pygments_lexer": "ipython3",
   "version": "3.9.7"
  },
  "orig_nbformat": 4
 },
 "nbformat": 4,
 "nbformat_minor": 2
}
