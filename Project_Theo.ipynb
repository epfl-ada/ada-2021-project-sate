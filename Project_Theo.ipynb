{
 "cells": [
  {
   "cell_type": "markdown",
   "metadata": {},
   "source": [
    "# Import"
   ]
  },
  {
   "cell_type": "code",
   "execution_count": 16,
   "metadata": {},
   "outputs": [],
   "source": [
    "import pandas as pd\n",
    "import numpy as np\n",
    "import matplotlib.pyplot as plt\n",
    "import json\n",
    "import bz2\n",
    "import urllib\n",
    "\n",
    "data_folder = 'data/'"
   ]
  },
  {
   "cell_type": "code",
   "execution_count": 17,
   "metadata": {},
   "outputs": [
    {
     "name": "stderr",
     "output_type": "stream",
     "text": [
      "[nltk_data] Downloading package vader_lexicon to\n",
      "[nltk_data]     /Users/theopatron/nltk_data...\n",
      "[nltk_data]   Package vader_lexicon is already up-to-date!\n"
     ]
    }
   ],
   "source": [
    "import nltk\n",
    "nltk.download('vader_lexicon')\n",
    "from nltk.sentiment.vader import SentimentIntensityAnalyzer\n",
    "sid = SentimentIntensityAnalyzer()"
   ]
  },
  {
   "cell_type": "markdown",
   "metadata": {},
   "source": [
    "# Creation of extended files"
   ]
  },
  {
   "cell_type": "markdown",
   "metadata": {},
   "source": [
    "### FOR THE TIMELINE\n",
    "keep quotation mentionning guns \n",
    "\n",
    "### FOR THE ANALYSIS\n",
    "keep quotation mentionning guns <br/>\n",
    "keep only those that have a speaker <br/>\n",
    "keep american speakers <br/>\n",
    "add colums corresponding to characteristics of speaker <br/>"
   ]
  },
  {
   "cell_type": "code",
   "execution_count": 3,
   "metadata": {},
   "outputs": [],
   "source": [
    "lexical_field = ['guns', 'rifle', 'slaughter'] # To be continued\n",
    "\n",
    "speakers = pd.read_parquet(data_folder + 'speaker_attributes.parquet')\n",
    "label = pd.read_csv(data_folder + 'wikidata_labels_descriptions_quotebank.csv.bz2', compression='bz2', index_col='QID')"
   ]
  },
  {
   "cell_type": "code",
   "execution_count": 95,
   "metadata": {},
   "outputs": [
    {
     "name": "stdout",
     "output_type": "stream",
     "text": [
      "True\n",
      "True\n",
      "True\n",
      "True\n"
     ]
    }
   ],
   "source": [
    "path_to_file = data_folder + 'quotes-2015.json.bz2' \n",
    "path_to_out = data_folder + 'quotes-2015-extended.json.bz2'\n",
    "\n",
    "iter = 0\n",
    "\n",
    "with bz2.open(path_to_file, 'rb') as s_file:\n",
    "    with bz2.open(path_to_out, 'wb') as d_file:\n",
    "        for instance in s_file:\n",
    "            instance = json.loads(instance) # loading a sample\n",
    "            iter += 1\n",
    "            if any(substring in instance['quotation'] for substring in lexical_field) and instance['qids'] != []: #FAIRE GAFFE NOM DE PAYS INCLUS\n",
    "                speaker = speakers.loc[speakers['id'] == instance['qids'][0]].squeeze()\n",
    "                \n",
    "                if speaker.nationality is not None:\n",
    "                    if any(substring == 'Q30' for substring in speaker.nationality):\n",
    "                        instance['gender'] = 'male' if (speaker['gender'][0] == 'Q6581097') else 'female'\n",
    "                        d_file.write((json.dumps(instance)+'\\n').encode('utf-8')) # writing in the new file\n",
    "  \n",
    "            #to test\n",
    "            if iter > 200:\n",
    "                break"
   ]
  },
  {
   "cell_type": "markdown",
   "metadata": {},
   "source": [
    "# Analysis"
   ]
  },
  {
   "cell_type": "code",
   "execution_count": 14,
   "metadata": {},
   "outputs": [
    {
     "name": "stdout",
     "output_type": "stream",
     "text": [
      "Processing chunk with 4 rows\n",
      "... through you -- the vibrant young athletes who are here today -- and through your hosts of modern Germany who have graciously welcomed you here, we have the opportunity to look forward, not backward.\n",
      "' It is not now, nor has it ever been, the gold standard of trade agreements,' Sanders said. And he reached back to Clinton's 2002 vote to support the war in Iraq, an issue that plagued her eight years ago when she took the stage here. `When I came to that fork in the road I took the right road, even though it was not the popular road at the time,' he said.\n",
      "-0.4822\n",
      "... through you -- the vibrant young athletes who are here today -- and through your hosts of modern Germany who have graciously welcomed you here, we have the opportunity to look forward, not backward.\n",
      "0.8979\n",
      "I am incredibly pleased that my message is resonating with people all over the United States. There are so many American's that are ready to make our country great again, and I am the only one who can make it happen. We will bring back the jobs, bring back the money, and bring back the spirit!\n",
      "0.9272\n",
      "I am proud that once again I got to fly the South African flag internationally and to showcase the capacity available in rural women,\n",
      "0.4767\n"
     ]
    }
   ],
   "source": [
    "def process_chunk(chunk):\n",
    "    print(f'Processing chunk with {len(chunk)} rows')\n",
    "    print(chunk.quotation[1])\n",
    "    chunk['scores'] = chunk['quotation'].apply(lambda review: sid.polarity_scores(review))\n",
    "    chunk['compound']  = chunk['scores'].apply(lambda score_dict: score_dict['compound'])\n",
    "    for id, row in chunk.iterrows():\n",
    "        print(chunk.quotation[id])\n",
    "        print(chunk.compound[id])\n",
    "\n",
    "with pd.read_json(data_folder + 'quotes-2015-extended.json.bz2', lines=True, compression='bz2', chunksize=10000) as df_reader:\n",
    "    for chunk in df_reader:\n",
    "        process_chunk(chunk)\n",
    "        break"
   ]
  }
 ],
 "metadata": {
  "interpreter": {
   "hash": "c6e4e9f98eb68ad3b7c296f83d20e6de614cb42e90992a65aa266555a3137d0d"
  },
  "kernelspec": {
   "display_name": "Python 3.9.7 64-bit ('base': conda)",
   "name": "python3"
  },
  "language_info": {
   "codemirror_mode": {
    "name": "ipython",
    "version": 3
   },
   "file_extension": ".py",
   "mimetype": "text/x-python",
   "name": "python",
   "nbconvert_exporter": "python",
   "pygments_lexer": "ipython3",
   "version": "3.9.7"
  },
  "orig_nbformat": 4
 },
 "nbformat": 4,
 "nbformat_minor": 2
}
