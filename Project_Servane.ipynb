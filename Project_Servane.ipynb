{
 "cells": [
  {
   "cell_type": "code",
   "execution_count": 8,
   "metadata": {},
   "outputs": [],
   "source": [
    "import pandas as pd\n",
    "import numpy as np\n",
    "import matplotlib.pyplot as plt\n",
    "import json\n",
    "import bz2\n",
    "import urllib\n",
    "from datetime import datetime, date\n",
    "\n",
    "data_folder = 'data/'"
   ]
  },
  {
   "cell_type": "code",
   "execution_count": 31,
   "metadata": {},
   "outputs": [],
   "source": [
    "lexical_field = ['2nd amendment'] # To be continued"
   ]
  },
  {
   "cell_type": "code",
   "execution_count": 10,
   "metadata": {},
   "outputs": [],
   "source": [
    "speakers = pd.read_parquet(data_folder + 'speaker_attributes.parquet')\n",
    "label = pd.read_csv(data_folder + 'wikidata_labels_descriptions_quotebank.csv.bz2', compression='bz2', index_col='QID')"
   ]
  },
  {
   "cell_type": "code",
   "execution_count": 32,
   "metadata": {},
   "outputs": [],
   "source": [
    "path_to_file = data_folder + 'quotes-2015.json.bz2' \n",
    "path_to_out = data_folder + 'quotes-2015-extended.json.bz2'\n",
    "\n",
    "iter = 0\n",
    "\n",
    "with bz2.open(path_to_file, 'rb') as s_file:\n",
    "    with bz2.open(path_to_out, 'wb') as d_file:\n",
    "        for instance in s_file:\n",
    "            instance = json.loads(instance) # loading a sample\n",
    "            iter += 1\n",
    "            if any(substring in instance['quotation'] for substring in lexical_field) and instance['qids'] != []: #We keep only quotation containing words of the lexical field and where there is a speaker\n",
    "                speaker = speakers.loc[speakers['id'] == instance['qids'][0]].squeeze()\n",
    "                \n",
    "                if speaker.nationality is not None: \n",
    "                    if any(substring == 'Q30' for substring in speaker.nationality): #keep american speaker\n",
    "\n",
    "                        #We add the gender\n",
    "                        instance['gender'] = 'male' if (speaker['gender'][0] == 'Q6581097') else 'female' \n",
    "\n",
    "                        #We add the nationalities\n",
    "                        instance['nationality'] = []\n",
    "                        for i in speaker['nationality']: \n",
    "                            nat = label.loc[i]['Label']\n",
    "                            instance['nationality'].append(nat)\n",
    "\n",
    "                        #We add the occupations\n",
    "                        instance['occupation'] = []\n",
    "                        for i in speaker['occupation']:\n",
    "                            occ = label.loc[i]['Label']\n",
    "                            instance['occupation'].append(occ)\n",
    "\n",
    "                        #We add the date of birth\n",
    "                        try:\n",
    "                            born = datetime.strptime(speaker.date_of_birth[0][1:11], \"%Y-%m-%d\").date()\n",
    "                            today = date.today()\n",
    "                            age = today.year - born.year - ((today.month, today.day) < (born.month, born.day))\n",
    "                        except:\n",
    "                            age = None\n",
    "                        instance['age'] = age\n",
    "\n",
    "                        #We add the ethnic group -> problem here (NaN in the output file)\n",
    "                        if speaker.ethnic_group is not None:\n",
    "                            instance['ethnic_group'] = []\n",
    "                            for i in speaker['ethnic_group']:\n",
    "                                ethnic = label.loc[i]['Label']\n",
    "                                instance['ethnic_group'].append(ethnic)\n",
    "                        else:\n",
    "                            instance['ethnic_group'] = None\n",
    "\n",
    "                        #We add the party\n",
    "                        if speaker.party is not None:\n",
    "                            instance['party'] = []\n",
    "                            for i in speaker['party']:\n",
    "                                part = label.loc[i]['Label']\n",
    "                                instance['party'].append(part)\n",
    "                        else:\n",
    "                            instance['party'] = None\n",
    "\n",
    "                        #We add the religion\n",
    "                        if speaker.religion is not None:\n",
    "                            instance['religion'] = []\n",
    "                            for i in speaker['religion']:\n",
    "                                relig = label.loc[i]['Label']\n",
    "                                instance['religion'].append(relig)\n",
    "                        else:\n",
    "                            instance['religion'] = None\n",
    "\n",
    "                        d_file.write((json.dumps(instance)+'\\n').encode('utf-8')) # writing in the new file\n",
    "  \n",
    "            #to test\n",
    "            if iter > 20000:\n",
    "                break"
   ]
  },
  {
   "cell_type": "code",
   "execution_count": 33,
   "metadata": {},
   "outputs": [],
   "source": [
    "def process_chunk(chunk):\n",
    "    print(f'Processing chunk with {len(chunk)} rows')\n",
    "    display(chunk)\n",
    "    # print(chunk.quotation[1])\n",
    "    # chunk['scores'] = chunk['quotation'].apply(lambda review: sid.polarity_scores(review))\n",
    "    # chunk['compound']  = chunk['scores'].apply(lambda score_dict: score_dict['compound'])\n",
    "    # for id, row in chunk.iterrows():\n",
    "    #     print(chunk.quotation[id])\n",
    "    #     print(chunk.compound[id])\n",
    "\n",
    "with pd.read_json(data_folder + 'quotes-2015-extended.json.bz2', lines=True, compression='bz2', chunksize=10000) as df_reader:\n",
    "    for chunk in df_reader:\n",
    "        process_chunk(chunk)\n",
    "        break"
   ]
  },
  {
   "cell_type": "code",
   "execution_count": null,
   "metadata": {},
   "outputs": [],
   "source": []
  }
 ],
 "metadata": {
  "interpreter": {
   "hash": "c6e4e9f98eb68ad3b7c296f83d20e6de614cb42e90992a65aa266555a3137d0d"
  },
  "kernelspec": {
   "display_name": "Python 3",
   "language": "python",
   "name": "python3"
  },
  "language_info": {
   "codemirror_mode": {
    "name": "ipython",
    "version": 3
   },
   "file_extension": ".py",
   "mimetype": "text/x-python",
   "name": "python",
   "nbconvert_exporter": "python",
   "pygments_lexer": "ipython3",
   "version": "3.8.8"
  }
 },
 "nbformat": 4,
 "nbformat_minor": 2
}
